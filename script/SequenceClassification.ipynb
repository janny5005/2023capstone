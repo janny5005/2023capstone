{
  "nbformat": 4,
  "nbformat_minor": 0,
  "metadata": {
    "colab": {
      "provenance": []
    },
    "kernelspec": {
      "name": "python3",
      "display_name": "Python 3"
    },
    "language_info": {
      "name": "python"
    },
    "widgets": {
      "application/vnd.jupyter.widget-state+json": {
        "ddb2315fc59a46eb918fd9bdc1270d4d": {
          "model_module": "@jupyter-widgets/controls",
          "model_name": "HBoxModel",
          "model_module_version": "1.5.0",
          "state": {
            "_dom_classes": [],
            "_model_module": "@jupyter-widgets/controls",
            "_model_module_version": "1.5.0",
            "_model_name": "HBoxModel",
            "_view_count": null,
            "_view_module": "@jupyter-widgets/controls",
            "_view_module_version": "1.5.0",
            "_view_name": "HBoxView",
            "box_style": "",
            "children": [
              "IPY_MODEL_74184c61fe844afab19d7922942ab4d2",
              "IPY_MODEL_937ae1beec2e4320954d8ea1493e4fc8",
              "IPY_MODEL_a176bc48189347e89f6d6e84517a5e56"
            ],
            "layout": "IPY_MODEL_7d771d1d83a14c16b5131319005c218e"
          }
        },
        "74184c61fe844afab19d7922942ab4d2": {
          "model_module": "@jupyter-widgets/controls",
          "model_name": "HTMLModel",
          "model_module_version": "1.5.0",
          "state": {
            "_dom_classes": [],
            "_model_module": "@jupyter-widgets/controls",
            "_model_module_version": "1.5.0",
            "_model_name": "HTMLModel",
            "_view_count": null,
            "_view_module": "@jupyter-widgets/controls",
            "_view_module_version": "1.5.0",
            "_view_name": "HTMLView",
            "description": "",
            "description_tooltip": null,
            "layout": "IPY_MODEL_799f856f1b484c6bba75119b01d37327",
            "placeholder": "​",
            "style": "IPY_MODEL_ada7c9a0f7e546fcbd29f8d19c7a9051",
            "value": "Downloading: 100%"
          }
        },
        "937ae1beec2e4320954d8ea1493e4fc8": {
          "model_module": "@jupyter-widgets/controls",
          "model_name": "FloatProgressModel",
          "model_module_version": "1.5.0",
          "state": {
            "_dom_classes": [],
            "_model_module": "@jupyter-widgets/controls",
            "_model_module_version": "1.5.0",
            "_model_name": "FloatProgressModel",
            "_view_count": null,
            "_view_module": "@jupyter-widgets/controls",
            "_view_module_version": "1.5.0",
            "_view_name": "ProgressView",
            "bar_style": "success",
            "description": "",
            "description_tooltip": null,
            "layout": "IPY_MODEL_304e5006bf41497599c737ab1f57e8c0",
            "max": 433,
            "min": 0,
            "orientation": "horizontal",
            "style": "IPY_MODEL_4e8e222629514db79e09420837b1d35d",
            "value": 433
          }
        },
        "a176bc48189347e89f6d6e84517a5e56": {
          "model_module": "@jupyter-widgets/controls",
          "model_name": "HTMLModel",
          "model_module_version": "1.5.0",
          "state": {
            "_dom_classes": [],
            "_model_module": "@jupyter-widgets/controls",
            "_model_module_version": "1.5.0",
            "_model_name": "HTMLModel",
            "_view_count": null,
            "_view_module": "@jupyter-widgets/controls",
            "_view_module_version": "1.5.0",
            "_view_name": "HTMLView",
            "description": "",
            "description_tooltip": null,
            "layout": "IPY_MODEL_c6291ce58fb949e1be2d83364743a4a3",
            "placeholder": "​",
            "style": "IPY_MODEL_980370255c3b4744974f651c4f5b7c04",
            "value": " 433/433 [00:00&lt;00:00, 4.07kB/s]"
          }
        },
        "7d771d1d83a14c16b5131319005c218e": {
          "model_module": "@jupyter-widgets/base",
          "model_name": "LayoutModel",
          "model_module_version": "1.2.0",
          "state": {
            "_model_module": "@jupyter-widgets/base",
            "_model_module_version": "1.2.0",
            "_model_name": "LayoutModel",
            "_view_count": null,
            "_view_module": "@jupyter-widgets/base",
            "_view_module_version": "1.2.0",
            "_view_name": "LayoutView",
            "align_content": null,
            "align_items": null,
            "align_self": null,
            "border": null,
            "bottom": null,
            "display": null,
            "flex": null,
            "flex_flow": null,
            "grid_area": null,
            "grid_auto_columns": null,
            "grid_auto_flow": null,
            "grid_auto_rows": null,
            "grid_column": null,
            "grid_gap": null,
            "grid_row": null,
            "grid_template_areas": null,
            "grid_template_columns": null,
            "grid_template_rows": null,
            "height": null,
            "justify_content": null,
            "justify_items": null,
            "left": null,
            "margin": null,
            "max_height": null,
            "max_width": null,
            "min_height": null,
            "min_width": null,
            "object_fit": null,
            "object_position": null,
            "order": null,
            "overflow": null,
            "overflow_x": null,
            "overflow_y": null,
            "padding": null,
            "right": null,
            "top": null,
            "visibility": null,
            "width": null
          }
        },
        "799f856f1b484c6bba75119b01d37327": {
          "model_module": "@jupyter-widgets/base",
          "model_name": "LayoutModel",
          "model_module_version": "1.2.0",
          "state": {
            "_model_module": "@jupyter-widgets/base",
            "_model_module_version": "1.2.0",
            "_model_name": "LayoutModel",
            "_view_count": null,
            "_view_module": "@jupyter-widgets/base",
            "_view_module_version": "1.2.0",
            "_view_name": "LayoutView",
            "align_content": null,
            "align_items": null,
            "align_self": null,
            "border": null,
            "bottom": null,
            "display": null,
            "flex": null,
            "flex_flow": null,
            "grid_area": null,
            "grid_auto_columns": null,
            "grid_auto_flow": null,
            "grid_auto_rows": null,
            "grid_column": null,
            "grid_gap": null,
            "grid_row": null,
            "grid_template_areas": null,
            "grid_template_columns": null,
            "grid_template_rows": null,
            "height": null,
            "justify_content": null,
            "justify_items": null,
            "left": null,
            "margin": null,
            "max_height": null,
            "max_width": null,
            "min_height": null,
            "min_width": null,
            "object_fit": null,
            "object_position": null,
            "order": null,
            "overflow": null,
            "overflow_x": null,
            "overflow_y": null,
            "padding": null,
            "right": null,
            "top": null,
            "visibility": null,
            "width": null
          }
        },
        "ada7c9a0f7e546fcbd29f8d19c7a9051": {
          "model_module": "@jupyter-widgets/controls",
          "model_name": "DescriptionStyleModel",
          "model_module_version": "1.5.0",
          "state": {
            "_model_module": "@jupyter-widgets/controls",
            "_model_module_version": "1.5.0",
            "_model_name": "DescriptionStyleModel",
            "_view_count": null,
            "_view_module": "@jupyter-widgets/base",
            "_view_module_version": "1.2.0",
            "_view_name": "StyleView",
            "description_width": ""
          }
        },
        "304e5006bf41497599c737ab1f57e8c0": {
          "model_module": "@jupyter-widgets/base",
          "model_name": "LayoutModel",
          "model_module_version": "1.2.0",
          "state": {
            "_model_module": "@jupyter-widgets/base",
            "_model_module_version": "1.2.0",
            "_model_name": "LayoutModel",
            "_view_count": null,
            "_view_module": "@jupyter-widgets/base",
            "_view_module_version": "1.2.0",
            "_view_name": "LayoutView",
            "align_content": null,
            "align_items": null,
            "align_self": null,
            "border": null,
            "bottom": null,
            "display": null,
            "flex": null,
            "flex_flow": null,
            "grid_area": null,
            "grid_auto_columns": null,
            "grid_auto_flow": null,
            "grid_auto_rows": null,
            "grid_column": null,
            "grid_gap": null,
            "grid_row": null,
            "grid_template_areas": null,
            "grid_template_columns": null,
            "grid_template_rows": null,
            "height": null,
            "justify_content": null,
            "justify_items": null,
            "left": null,
            "margin": null,
            "max_height": null,
            "max_width": null,
            "min_height": null,
            "min_width": null,
            "object_fit": null,
            "object_position": null,
            "order": null,
            "overflow": null,
            "overflow_x": null,
            "overflow_y": null,
            "padding": null,
            "right": null,
            "top": null,
            "visibility": null,
            "width": null
          }
        },
        "4e8e222629514db79e09420837b1d35d": {
          "model_module": "@jupyter-widgets/controls",
          "model_name": "ProgressStyleModel",
          "model_module_version": "1.5.0",
          "state": {
            "_model_module": "@jupyter-widgets/controls",
            "_model_module_version": "1.5.0",
            "_model_name": "ProgressStyleModel",
            "_view_count": null,
            "_view_module": "@jupyter-widgets/base",
            "_view_module_version": "1.2.0",
            "_view_name": "StyleView",
            "bar_color": null,
            "description_width": ""
          }
        },
        "c6291ce58fb949e1be2d83364743a4a3": {
          "model_module": "@jupyter-widgets/base",
          "model_name": "LayoutModel",
          "model_module_version": "1.2.0",
          "state": {
            "_model_module": "@jupyter-widgets/base",
            "_model_module_version": "1.2.0",
            "_model_name": "LayoutModel",
            "_view_count": null,
            "_view_module": "@jupyter-widgets/base",
            "_view_module_version": "1.2.0",
            "_view_name": "LayoutView",
            "align_content": null,
            "align_items": null,
            "align_self": null,
            "border": null,
            "bottom": null,
            "display": null,
            "flex": null,
            "flex_flow": null,
            "grid_area": null,
            "grid_auto_columns": null,
            "grid_auto_flow": null,
            "grid_auto_rows": null,
            "grid_column": null,
            "grid_gap": null,
            "grid_row": null,
            "grid_template_areas": null,
            "grid_template_columns": null,
            "grid_template_rows": null,
            "height": null,
            "justify_content": null,
            "justify_items": null,
            "left": null,
            "margin": null,
            "max_height": null,
            "max_width": null,
            "min_height": null,
            "min_width": null,
            "object_fit": null,
            "object_position": null,
            "order": null,
            "overflow": null,
            "overflow_x": null,
            "overflow_y": null,
            "padding": null,
            "right": null,
            "top": null,
            "visibility": null,
            "width": null
          }
        },
        "980370255c3b4744974f651c4f5b7c04": {
          "model_module": "@jupyter-widgets/controls",
          "model_name": "DescriptionStyleModel",
          "model_module_version": "1.5.0",
          "state": {
            "_model_module": "@jupyter-widgets/controls",
            "_model_module_version": "1.5.0",
            "_model_name": "DescriptionStyleModel",
            "_view_count": null,
            "_view_module": "@jupyter-widgets/base",
            "_view_module_version": "1.2.0",
            "_view_name": "StyleView",
            "description_width": ""
          }
        },
        "9fd88fa516364895aa74474cd5c4e5c5": {
          "model_module": "@jupyter-widgets/controls",
          "model_name": "HBoxModel",
          "model_module_version": "1.5.0",
          "state": {
            "_dom_classes": [],
            "_model_module": "@jupyter-widgets/controls",
            "_model_module_version": "1.5.0",
            "_model_name": "HBoxModel",
            "_view_count": null,
            "_view_module": "@jupyter-widgets/controls",
            "_view_module_version": "1.5.0",
            "_view_name": "HBoxView",
            "box_style": "",
            "children": [
              "IPY_MODEL_db1616cb0f7c4ee49ff8a0c6a2316542",
              "IPY_MODEL_5a5403a66b1242c39c64d6bbf3769833",
              "IPY_MODEL_ac81b3e688e143ae99b9db46444be647"
            ],
            "layout": "IPY_MODEL_c800c20fdd664efa9328e0411f4ed238"
          }
        },
        "db1616cb0f7c4ee49ff8a0c6a2316542": {
          "model_module": "@jupyter-widgets/controls",
          "model_name": "HTMLModel",
          "model_module_version": "1.5.0",
          "state": {
            "_dom_classes": [],
            "_model_module": "@jupyter-widgets/controls",
            "_model_module_version": "1.5.0",
            "_model_name": "HTMLModel",
            "_view_count": null,
            "_view_module": "@jupyter-widgets/controls",
            "_view_module_version": "1.5.0",
            "_view_name": "HTMLView",
            "description": "",
            "description_tooltip": null,
            "layout": "IPY_MODEL_831e7d21f6cf479f933ae2c77a25d214",
            "placeholder": "​",
            "style": "IPY_MODEL_7fae5799ce6042cd80d647196b991208",
            "value": "Downloading: 100%"
          }
        },
        "5a5403a66b1242c39c64d6bbf3769833": {
          "model_module": "@jupyter-widgets/controls",
          "model_name": "FloatProgressModel",
          "model_module_version": "1.5.0",
          "state": {
            "_dom_classes": [],
            "_model_module": "@jupyter-widgets/controls",
            "_model_module_version": "1.5.0",
            "_model_name": "FloatProgressModel",
            "_view_count": null,
            "_view_module": "@jupyter-widgets/controls",
            "_view_module_version": "1.5.0",
            "_view_name": "ProgressView",
            "bar_style": "success",
            "description": "",
            "description_tooltip": null,
            "layout": "IPY_MODEL_62fc256a49f741cb842ea803f03c5bf4",
            "max": 440473133,
            "min": 0,
            "orientation": "horizontal",
            "style": "IPY_MODEL_8f689cbd554a4aba904ef57d4394a36c",
            "value": 440473133
          }
        },
        "ac81b3e688e143ae99b9db46444be647": {
          "model_module": "@jupyter-widgets/controls",
          "model_name": "HTMLModel",
          "model_module_version": "1.5.0",
          "state": {
            "_dom_classes": [],
            "_model_module": "@jupyter-widgets/controls",
            "_model_module_version": "1.5.0",
            "_model_name": "HTMLModel",
            "_view_count": null,
            "_view_module": "@jupyter-widgets/controls",
            "_view_module_version": "1.5.0",
            "_view_name": "HTMLView",
            "description": "",
            "description_tooltip": null,
            "layout": "IPY_MODEL_e77a450f029b48a1a4c38bf2e9d88f2b",
            "placeholder": "​",
            "style": "IPY_MODEL_a57175be4a4e40e4b225ffa868a36c45",
            "value": " 440M/440M [00:17&lt;00:00, 28.7MB/s]"
          }
        },
        "c800c20fdd664efa9328e0411f4ed238": {
          "model_module": "@jupyter-widgets/base",
          "model_name": "LayoutModel",
          "model_module_version": "1.2.0",
          "state": {
            "_model_module": "@jupyter-widgets/base",
            "_model_module_version": "1.2.0",
            "_model_name": "LayoutModel",
            "_view_count": null,
            "_view_module": "@jupyter-widgets/base",
            "_view_module_version": "1.2.0",
            "_view_name": "LayoutView",
            "align_content": null,
            "align_items": null,
            "align_self": null,
            "border": null,
            "bottom": null,
            "display": null,
            "flex": null,
            "flex_flow": null,
            "grid_area": null,
            "grid_auto_columns": null,
            "grid_auto_flow": null,
            "grid_auto_rows": null,
            "grid_column": null,
            "grid_gap": null,
            "grid_row": null,
            "grid_template_areas": null,
            "grid_template_columns": null,
            "grid_template_rows": null,
            "height": null,
            "justify_content": null,
            "justify_items": null,
            "left": null,
            "margin": null,
            "max_height": null,
            "max_width": null,
            "min_height": null,
            "min_width": null,
            "object_fit": null,
            "object_position": null,
            "order": null,
            "overflow": null,
            "overflow_x": null,
            "overflow_y": null,
            "padding": null,
            "right": null,
            "top": null,
            "visibility": null,
            "width": null
          }
        },
        "831e7d21f6cf479f933ae2c77a25d214": {
          "model_module": "@jupyter-widgets/base",
          "model_name": "LayoutModel",
          "model_module_version": "1.2.0",
          "state": {
            "_model_module": "@jupyter-widgets/base",
            "_model_module_version": "1.2.0",
            "_model_name": "LayoutModel",
            "_view_count": null,
            "_view_module": "@jupyter-widgets/base",
            "_view_module_version": "1.2.0",
            "_view_name": "LayoutView",
            "align_content": null,
            "align_items": null,
            "align_self": null,
            "border": null,
            "bottom": null,
            "display": null,
            "flex": null,
            "flex_flow": null,
            "grid_area": null,
            "grid_auto_columns": null,
            "grid_auto_flow": null,
            "grid_auto_rows": null,
            "grid_column": null,
            "grid_gap": null,
            "grid_row": null,
            "grid_template_areas": null,
            "grid_template_columns": null,
            "grid_template_rows": null,
            "height": null,
            "justify_content": null,
            "justify_items": null,
            "left": null,
            "margin": null,
            "max_height": null,
            "max_width": null,
            "min_height": null,
            "min_width": null,
            "object_fit": null,
            "object_position": null,
            "order": null,
            "overflow": null,
            "overflow_x": null,
            "overflow_y": null,
            "padding": null,
            "right": null,
            "top": null,
            "visibility": null,
            "width": null
          }
        },
        "7fae5799ce6042cd80d647196b991208": {
          "model_module": "@jupyter-widgets/controls",
          "model_name": "DescriptionStyleModel",
          "model_module_version": "1.5.0",
          "state": {
            "_model_module": "@jupyter-widgets/controls",
            "_model_module_version": "1.5.0",
            "_model_name": "DescriptionStyleModel",
            "_view_count": null,
            "_view_module": "@jupyter-widgets/base",
            "_view_module_version": "1.2.0",
            "_view_name": "StyleView",
            "description_width": ""
          }
        },
        "62fc256a49f741cb842ea803f03c5bf4": {
          "model_module": "@jupyter-widgets/base",
          "model_name": "LayoutModel",
          "model_module_version": "1.2.0",
          "state": {
            "_model_module": "@jupyter-widgets/base",
            "_model_module_version": "1.2.0",
            "_model_name": "LayoutModel",
            "_view_count": null,
            "_view_module": "@jupyter-widgets/base",
            "_view_module_version": "1.2.0",
            "_view_name": "LayoutView",
            "align_content": null,
            "align_items": null,
            "align_self": null,
            "border": null,
            "bottom": null,
            "display": null,
            "flex": null,
            "flex_flow": null,
            "grid_area": null,
            "grid_auto_columns": null,
            "grid_auto_flow": null,
            "grid_auto_rows": null,
            "grid_column": null,
            "grid_gap": null,
            "grid_row": null,
            "grid_template_areas": null,
            "grid_template_columns": null,
            "grid_template_rows": null,
            "height": null,
            "justify_content": null,
            "justify_items": null,
            "left": null,
            "margin": null,
            "max_height": null,
            "max_width": null,
            "min_height": null,
            "min_width": null,
            "object_fit": null,
            "object_position": null,
            "order": null,
            "overflow": null,
            "overflow_x": null,
            "overflow_y": null,
            "padding": null,
            "right": null,
            "top": null,
            "visibility": null,
            "width": null
          }
        },
        "8f689cbd554a4aba904ef57d4394a36c": {
          "model_module": "@jupyter-widgets/controls",
          "model_name": "ProgressStyleModel",
          "model_module_version": "1.5.0",
          "state": {
            "_model_module": "@jupyter-widgets/controls",
            "_model_module_version": "1.5.0",
            "_model_name": "ProgressStyleModel",
            "_view_count": null,
            "_view_module": "@jupyter-widgets/base",
            "_view_module_version": "1.2.0",
            "_view_name": "StyleView",
            "bar_color": null,
            "description_width": ""
          }
        },
        "e77a450f029b48a1a4c38bf2e9d88f2b": {
          "model_module": "@jupyter-widgets/base",
          "model_name": "LayoutModel",
          "model_module_version": "1.2.0",
          "state": {
            "_model_module": "@jupyter-widgets/base",
            "_model_module_version": "1.2.0",
            "_model_name": "LayoutModel",
            "_view_count": null,
            "_view_module": "@jupyter-widgets/base",
            "_view_module_version": "1.2.0",
            "_view_name": "LayoutView",
            "align_content": null,
            "align_items": null,
            "align_self": null,
            "border": null,
            "bottom": null,
            "display": null,
            "flex": null,
            "flex_flow": null,
            "grid_area": null,
            "grid_auto_columns": null,
            "grid_auto_flow": null,
            "grid_auto_rows": null,
            "grid_column": null,
            "grid_gap": null,
            "grid_row": null,
            "grid_template_areas": null,
            "grid_template_columns": null,
            "grid_template_rows": null,
            "height": null,
            "justify_content": null,
            "justify_items": null,
            "left": null,
            "margin": null,
            "max_height": null,
            "max_width": null,
            "min_height": null,
            "min_width": null,
            "object_fit": null,
            "object_position": null,
            "order": null,
            "overflow": null,
            "overflow_x": null,
            "overflow_y": null,
            "padding": null,
            "right": null,
            "top": null,
            "visibility": null,
            "width": null
          }
        },
        "a57175be4a4e40e4b225ffa868a36c45": {
          "model_module": "@jupyter-widgets/controls",
          "model_name": "DescriptionStyleModel",
          "model_module_version": "1.5.0",
          "state": {
            "_model_module": "@jupyter-widgets/controls",
            "_model_module_version": "1.5.0",
            "_model_name": "DescriptionStyleModel",
            "_view_count": null,
            "_view_module": "@jupyter-widgets/base",
            "_view_module_version": "1.2.0",
            "_view_name": "StyleView",
            "description_width": ""
          }
        },
        "fbd4c34a887e4655b78f98a4c72ecb3c": {
          "model_module": "@jupyter-widgets/controls",
          "model_name": "HBoxModel",
          "model_module_version": "1.5.0",
          "state": {
            "_dom_classes": [],
            "_model_module": "@jupyter-widgets/controls",
            "_model_module_version": "1.5.0",
            "_model_name": "HBoxModel",
            "_view_count": null,
            "_view_module": "@jupyter-widgets/controls",
            "_view_module_version": "1.5.0",
            "_view_name": "HBoxView",
            "box_style": "",
            "children": [
              "IPY_MODEL_7914451d0aa843e5b416580e70054343",
              "IPY_MODEL_75f30eb9986c40f987580f0510e154ea",
              "IPY_MODEL_2bdfd003de644b8d88a7d8b9ca5d23ec"
            ],
            "layout": "IPY_MODEL_4e648731f7914d7f87b2f7aec71d72ac"
          }
        },
        "7914451d0aa843e5b416580e70054343": {
          "model_module": "@jupyter-widgets/controls",
          "model_name": "HTMLModel",
          "model_module_version": "1.5.0",
          "state": {
            "_dom_classes": [],
            "_model_module": "@jupyter-widgets/controls",
            "_model_module_version": "1.5.0",
            "_model_name": "HTMLModel",
            "_view_count": null,
            "_view_module": "@jupyter-widgets/controls",
            "_view_module_version": "1.5.0",
            "_view_name": "HTMLView",
            "description": "",
            "description_tooltip": null,
            "layout": "IPY_MODEL_1fc109fd666d4eafb2ca6d858518fd03",
            "placeholder": "​",
            "style": "IPY_MODEL_30a6715708dd410ab3741bf68d9a51a7",
            "value": "Downloading: 100%"
          }
        },
        "75f30eb9986c40f987580f0510e154ea": {
          "model_module": "@jupyter-widgets/controls",
          "model_name": "FloatProgressModel",
          "model_module_version": "1.5.0",
          "state": {
            "_dom_classes": [],
            "_model_module": "@jupyter-widgets/controls",
            "_model_module_version": "1.5.0",
            "_model_name": "FloatProgressModel",
            "_view_count": null,
            "_view_module": "@jupyter-widgets/controls",
            "_view_module_version": "1.5.0",
            "_view_name": "ProgressView",
            "bar_style": "success",
            "description": "",
            "description_tooltip": null,
            "layout": "IPY_MODEL_8929e214281a4106a27f2bc37a1ea513",
            "max": 231508,
            "min": 0,
            "orientation": "horizontal",
            "style": "IPY_MODEL_b92205d82d4446cfafd26e507583e028",
            "value": 231508
          }
        },
        "2bdfd003de644b8d88a7d8b9ca5d23ec": {
          "model_module": "@jupyter-widgets/controls",
          "model_name": "HTMLModel",
          "model_module_version": "1.5.0",
          "state": {
            "_dom_classes": [],
            "_model_module": "@jupyter-widgets/controls",
            "_model_module_version": "1.5.0",
            "_model_name": "HTMLModel",
            "_view_count": null,
            "_view_module": "@jupyter-widgets/controls",
            "_view_module_version": "1.5.0",
            "_view_name": "HTMLView",
            "description": "",
            "description_tooltip": null,
            "layout": "IPY_MODEL_cfff6f9280bf430b8f5aed29dd32cf8a",
            "placeholder": "​",
            "style": "IPY_MODEL_c3b6942009204a8e8686a68c824915e7",
            "value": " 232k/232k [00:00&lt;00:00, 1.20MB/s]"
          }
        },
        "4e648731f7914d7f87b2f7aec71d72ac": {
          "model_module": "@jupyter-widgets/base",
          "model_name": "LayoutModel",
          "model_module_version": "1.2.0",
          "state": {
            "_model_module": "@jupyter-widgets/base",
            "_model_module_version": "1.2.0",
            "_model_name": "LayoutModel",
            "_view_count": null,
            "_view_module": "@jupyter-widgets/base",
            "_view_module_version": "1.2.0",
            "_view_name": "LayoutView",
            "align_content": null,
            "align_items": null,
            "align_self": null,
            "border": null,
            "bottom": null,
            "display": null,
            "flex": null,
            "flex_flow": null,
            "grid_area": null,
            "grid_auto_columns": null,
            "grid_auto_flow": null,
            "grid_auto_rows": null,
            "grid_column": null,
            "grid_gap": null,
            "grid_row": null,
            "grid_template_areas": null,
            "grid_template_columns": null,
            "grid_template_rows": null,
            "height": null,
            "justify_content": null,
            "justify_items": null,
            "left": null,
            "margin": null,
            "max_height": null,
            "max_width": null,
            "min_height": null,
            "min_width": null,
            "object_fit": null,
            "object_position": null,
            "order": null,
            "overflow": null,
            "overflow_x": null,
            "overflow_y": null,
            "padding": null,
            "right": null,
            "top": null,
            "visibility": null,
            "width": null
          }
        },
        "1fc109fd666d4eafb2ca6d858518fd03": {
          "model_module": "@jupyter-widgets/base",
          "model_name": "LayoutModel",
          "model_module_version": "1.2.0",
          "state": {
            "_model_module": "@jupyter-widgets/base",
            "_model_module_version": "1.2.0",
            "_model_name": "LayoutModel",
            "_view_count": null,
            "_view_module": "@jupyter-widgets/base",
            "_view_module_version": "1.2.0",
            "_view_name": "LayoutView",
            "align_content": null,
            "align_items": null,
            "align_self": null,
            "border": null,
            "bottom": null,
            "display": null,
            "flex": null,
            "flex_flow": null,
            "grid_area": null,
            "grid_auto_columns": null,
            "grid_auto_flow": null,
            "grid_auto_rows": null,
            "grid_column": null,
            "grid_gap": null,
            "grid_row": null,
            "grid_template_areas": null,
            "grid_template_columns": null,
            "grid_template_rows": null,
            "height": null,
            "justify_content": null,
            "justify_items": null,
            "left": null,
            "margin": null,
            "max_height": null,
            "max_width": null,
            "min_height": null,
            "min_width": null,
            "object_fit": null,
            "object_position": null,
            "order": null,
            "overflow": null,
            "overflow_x": null,
            "overflow_y": null,
            "padding": null,
            "right": null,
            "top": null,
            "visibility": null,
            "width": null
          }
        },
        "30a6715708dd410ab3741bf68d9a51a7": {
          "model_module": "@jupyter-widgets/controls",
          "model_name": "DescriptionStyleModel",
          "model_module_version": "1.5.0",
          "state": {
            "_model_module": "@jupyter-widgets/controls",
            "_model_module_version": "1.5.0",
            "_model_name": "DescriptionStyleModel",
            "_view_count": null,
            "_view_module": "@jupyter-widgets/base",
            "_view_module_version": "1.2.0",
            "_view_name": "StyleView",
            "description_width": ""
          }
        },
        "8929e214281a4106a27f2bc37a1ea513": {
          "model_module": "@jupyter-widgets/base",
          "model_name": "LayoutModel",
          "model_module_version": "1.2.0",
          "state": {
            "_model_module": "@jupyter-widgets/base",
            "_model_module_version": "1.2.0",
            "_model_name": "LayoutModel",
            "_view_count": null,
            "_view_module": "@jupyter-widgets/base",
            "_view_module_version": "1.2.0",
            "_view_name": "LayoutView",
            "align_content": null,
            "align_items": null,
            "align_self": null,
            "border": null,
            "bottom": null,
            "display": null,
            "flex": null,
            "flex_flow": null,
            "grid_area": null,
            "grid_auto_columns": null,
            "grid_auto_flow": null,
            "grid_auto_rows": null,
            "grid_column": null,
            "grid_gap": null,
            "grid_row": null,
            "grid_template_areas": null,
            "grid_template_columns": null,
            "grid_template_rows": null,
            "height": null,
            "justify_content": null,
            "justify_items": null,
            "left": null,
            "margin": null,
            "max_height": null,
            "max_width": null,
            "min_height": null,
            "min_width": null,
            "object_fit": null,
            "object_position": null,
            "order": null,
            "overflow": null,
            "overflow_x": null,
            "overflow_y": null,
            "padding": null,
            "right": null,
            "top": null,
            "visibility": null,
            "width": null
          }
        },
        "b92205d82d4446cfafd26e507583e028": {
          "model_module": "@jupyter-widgets/controls",
          "model_name": "ProgressStyleModel",
          "model_module_version": "1.5.0",
          "state": {
            "_model_module": "@jupyter-widgets/controls",
            "_model_module_version": "1.5.0",
            "_model_name": "ProgressStyleModel",
            "_view_count": null,
            "_view_module": "@jupyter-widgets/base",
            "_view_module_version": "1.2.0",
            "_view_name": "StyleView",
            "bar_color": null,
            "description_width": ""
          }
        },
        "cfff6f9280bf430b8f5aed29dd32cf8a": {
          "model_module": "@jupyter-widgets/base",
          "model_name": "LayoutModel",
          "model_module_version": "1.2.0",
          "state": {
            "_model_module": "@jupyter-widgets/base",
            "_model_module_version": "1.2.0",
            "_model_name": "LayoutModel",
            "_view_count": null,
            "_view_module": "@jupyter-widgets/base",
            "_view_module_version": "1.2.0",
            "_view_name": "LayoutView",
            "align_content": null,
            "align_items": null,
            "align_self": null,
            "border": null,
            "bottom": null,
            "display": null,
            "flex": null,
            "flex_flow": null,
            "grid_area": null,
            "grid_auto_columns": null,
            "grid_auto_flow": null,
            "grid_auto_rows": null,
            "grid_column": null,
            "grid_gap": null,
            "grid_row": null,
            "grid_template_areas": null,
            "grid_template_columns": null,
            "grid_template_rows": null,
            "height": null,
            "justify_content": null,
            "justify_items": null,
            "left": null,
            "margin": null,
            "max_height": null,
            "max_width": null,
            "min_height": null,
            "min_width": null,
            "object_fit": null,
            "object_position": null,
            "order": null,
            "overflow": null,
            "overflow_x": null,
            "overflow_y": null,
            "padding": null,
            "right": null,
            "top": null,
            "visibility": null,
            "width": null
          }
        },
        "c3b6942009204a8e8686a68c824915e7": {
          "model_module": "@jupyter-widgets/controls",
          "model_name": "DescriptionStyleModel",
          "model_module_version": "1.5.0",
          "state": {
            "_model_module": "@jupyter-widgets/controls",
            "_model_module_version": "1.5.0",
            "_model_name": "DescriptionStyleModel",
            "_view_count": null,
            "_view_module": "@jupyter-widgets/base",
            "_view_module_version": "1.2.0",
            "_view_name": "StyleView",
            "description_width": ""
          }
        }
      }
    }
  },
  "cells": [
    {
      "cell_type": "markdown",
      "source": [
        "## Install Libraries"
      ],
      "metadata": {
        "id": "psLAHX-ibM_u"
      }
    },
    {
      "cell_type": "code",
      "source": [
        "!pip install transformers~=2.11.0"
      ],
      "metadata": {
        "colab": {
          "base_uri": "https://localhost:8080/"
        },
        "id": "QarvIBQ2ao5X",
        "outputId": "60e5f596-02c0-4a6b-8b18-2854920f539b"
      },
      "execution_count": 1,
      "outputs": [
        {
          "output_type": "stream",
          "name": "stdout",
          "text": [
            "Looking in indexes: https://pypi.org/simple, https://us-python.pkg.dev/colab-wheels/public/simple/\n",
            "Requirement already satisfied: transformers~=2.11.0 in /usr/local/lib/python3.8/dist-packages (2.11.0)\n",
            "Requirement already satisfied: packaging in /usr/local/lib/python3.8/dist-packages (from transformers~=2.11.0) (23.0)\n",
            "Requirement already satisfied: filelock in /usr/local/lib/python3.8/dist-packages (from transformers~=2.11.0) (3.9.0)\n",
            "Requirement already satisfied: requests in /usr/local/lib/python3.8/dist-packages (from transformers~=2.11.0) (2.25.1)\n",
            "Requirement already satisfied: tokenizers==0.7.0 in /usr/local/lib/python3.8/dist-packages (from transformers~=2.11.0) (0.7.0)\n",
            "Requirement already satisfied: numpy in /usr/local/lib/python3.8/dist-packages (from transformers~=2.11.0) (1.22.4)\n",
            "Requirement already satisfied: sacremoses in /usr/local/lib/python3.8/dist-packages (from transformers~=2.11.0) (0.0.53)\n",
            "Requirement already satisfied: regex!=2019.12.17 in /usr/local/lib/python3.8/dist-packages (from transformers~=2.11.0) (2022.6.2)\n",
            "Requirement already satisfied: sentencepiece in /usr/local/lib/python3.8/dist-packages (from transformers~=2.11.0) (0.1.97)\n",
            "Requirement already satisfied: tqdm>=4.27 in /usr/local/lib/python3.8/dist-packages (from transformers~=2.11.0) (4.64.1)\n",
            "Requirement already satisfied: urllib3<1.27,>=1.21.1 in /usr/local/lib/python3.8/dist-packages (from requests->transformers~=2.11.0) (1.26.14)\n",
            "Requirement already satisfied: certifi>=2017.4.17 in /usr/local/lib/python3.8/dist-packages (from requests->transformers~=2.11.0) (2022.12.7)\n",
            "Requirement already satisfied: chardet<5,>=3.0.2 in /usr/local/lib/python3.8/dist-packages (from requests->transformers~=2.11.0) (4.0.0)\n",
            "Requirement already satisfied: idna<3,>=2.5 in /usr/local/lib/python3.8/dist-packages (from requests->transformers~=2.11.0) (2.10)\n",
            "Requirement already satisfied: click in /usr/local/lib/python3.8/dist-packages (from sacremoses->transformers~=2.11.0) (8.1.3)\n",
            "Requirement already satisfied: joblib in /usr/local/lib/python3.8/dist-packages (from sacremoses->transformers~=2.11.0) (1.2.0)\n",
            "Requirement already satisfied: six in /usr/local/lib/python3.8/dist-packages (from sacremoses->transformers~=2.11.0) (1.15.0)\n"
          ]
        }
      ]
    },
    {
      "cell_type": "code",
      "source": [
        "!pip install pytorch_pretrained_bert"
      ],
      "metadata": {
        "colab": {
          "base_uri": "https://localhost:8080/"
        },
        "id": "WjdiD93JbKhs",
        "outputId": "1c50b453-5699-44ce-c214-fe40e753ccab"
      },
      "execution_count": 2,
      "outputs": [
        {
          "output_type": "stream",
          "name": "stdout",
          "text": [
            "Looking in indexes: https://pypi.org/simple, https://us-python.pkg.dev/colab-wheels/public/simple/\n",
            "Requirement already satisfied: pytorch_pretrained_bert in /usr/local/lib/python3.8/dist-packages (0.6.2)\n",
            "Requirement already satisfied: requests in /usr/local/lib/python3.8/dist-packages (from pytorch_pretrained_bert) (2.25.1)\n",
            "Requirement already satisfied: tqdm in /usr/local/lib/python3.8/dist-packages (from pytorch_pretrained_bert) (4.64.1)\n",
            "Requirement already satisfied: numpy in /usr/local/lib/python3.8/dist-packages (from pytorch_pretrained_bert) (1.22.4)\n",
            "Requirement already satisfied: boto3 in /usr/local/lib/python3.8/dist-packages (from pytorch_pretrained_bert) (1.26.81)\n",
            "Requirement already satisfied: torch>=0.4.1 in /usr/local/lib/python3.8/dist-packages (from pytorch_pretrained_bert) (1.13.1+cu116)\n",
            "Requirement already satisfied: regex in /usr/local/lib/python3.8/dist-packages (from pytorch_pretrained_bert) (2022.6.2)\n",
            "Requirement already satisfied: typing-extensions in /usr/local/lib/python3.8/dist-packages (from torch>=0.4.1->pytorch_pretrained_bert) (4.5.0)\n",
            "Requirement already satisfied: s3transfer<0.7.0,>=0.6.0 in /usr/local/lib/python3.8/dist-packages (from boto3->pytorch_pretrained_bert) (0.6.0)\n",
            "Requirement already satisfied: botocore<1.30.0,>=1.29.81 in /usr/local/lib/python3.8/dist-packages (from boto3->pytorch_pretrained_bert) (1.29.81)\n",
            "Requirement already satisfied: jmespath<2.0.0,>=0.7.1 in /usr/local/lib/python3.8/dist-packages (from boto3->pytorch_pretrained_bert) (1.0.1)\n",
            "Requirement already satisfied: certifi>=2017.4.17 in /usr/local/lib/python3.8/dist-packages (from requests->pytorch_pretrained_bert) (2022.12.7)\n",
            "Requirement already satisfied: idna<3,>=2.5 in /usr/local/lib/python3.8/dist-packages (from requests->pytorch_pretrained_bert) (2.10)\n",
            "Requirement already satisfied: urllib3<1.27,>=1.21.1 in /usr/local/lib/python3.8/dist-packages (from requests->pytorch_pretrained_bert) (1.26.14)\n",
            "Requirement already satisfied: chardet<5,>=3.0.2 in /usr/local/lib/python3.8/dist-packages (from requests->pytorch_pretrained_bert) (4.0.0)\n",
            "Requirement already satisfied: python-dateutil<3.0.0,>=2.1 in /usr/local/lib/python3.8/dist-packages (from botocore<1.30.0,>=1.29.81->boto3->pytorch_pretrained_bert) (2.8.2)\n",
            "Requirement already satisfied: six>=1.5 in /usr/local/lib/python3.8/dist-packages (from python-dateutil<3.0.0,>=2.1->botocore<1.30.0,>=1.29.81->boto3->pytorch_pretrained_bert) (1.15.0)\n"
          ]
        }
      ]
    },
    {
      "cell_type": "code",
      "source": [
        "!pip install tqdm"
      ],
      "metadata": {
        "colab": {
          "base_uri": "https://localhost:8080/"
        },
        "id": "ULou06Z5bUGd",
        "outputId": "5a4fbf69-b1ea-4ea1-8d19-eafb9f946e5a"
      },
      "execution_count": 3,
      "outputs": [
        {
          "output_type": "stream",
          "name": "stdout",
          "text": [
            "Looking in indexes: https://pypi.org/simple, https://us-python.pkg.dev/colab-wheels/public/simple/\n",
            "Requirement already satisfied: tqdm in /usr/local/lib/python3.8/dist-packages (4.64.1)\n"
          ]
        }
      ]
    },
    {
      "cell_type": "markdown",
      "source": [
        "## Connect to Google Drive"
      ],
      "metadata": {
        "id": "MwswTFhymZtx"
      }
    },
    {
      "cell_type": "code",
      "source": [
        "from google.colab import drive\n",
        "drive.mount('/content/drive')"
      ],
      "metadata": {
        "colab": {
          "base_uri": "https://localhost:8080/"
        },
        "id": "EH4pe4CLmZ4J",
        "outputId": "fbadad3e-0152-4709-fbc1-e28f04eab254"
      },
      "execution_count": 4,
      "outputs": [
        {
          "output_type": "stream",
          "name": "stdout",
          "text": [
            "Drive already mounted at /content/drive; to attempt to forcibly remount, call drive.mount(\"/content/drive\", force_remount=True).\n"
          ]
        }
      ]
    },
    {
      "cell_type": "code",
      "source": [
        "import os\n",
        "os.chdir(\"/content/drive/MyDrive\")"
      ],
      "metadata": {
        "id": "DepiXFaZmj95"
      },
      "execution_count": 5,
      "outputs": []
    },
    {
      "cell_type": "markdown",
      "source": [
        "## Parameters"
      ],
      "metadata": {
        "id": "J4pchGlNoovq"
      }
    },
    {
      "cell_type": "code",
      "source": [
        "#data_path = './data/capstone/CLAWS/covidhate/annotated_tweets_w_text.csv'\n",
        "data_path = './data/capstone/CLAWS/covidhate/part_labeled_tweet.csv'\n",
        "#data_path = './data/part_labeled_tweet.csv'"
      ],
      "metadata": {
        "id": "DbhPwu1smlmS"
      },
      "execution_count": 6,
      "outputs": []
    },
    {
      "cell_type": "code",
      "source": [
        "trainedBertModel = 'bert'"
      ],
      "metadata": {
        "id": "Sm9AJzwkonKv"
      },
      "execution_count": 7,
      "outputs": []
    },
    {
      "cell_type": "code",
      "source": [
        "batchsize = 8"
      ],
      "metadata": {
        "id": "vGo1KXEEo_W6"
      },
      "execution_count": 8,
      "outputs": []
    },
    {
      "cell_type": "code",
      "source": [
        "gpu_num = 0"
      ],
      "metadata": {
        "id": "gZStMOLCw8_c"
      },
      "execution_count": 9,
      "outputs": []
    },
    {
      "cell_type": "markdown",
      "source": [
        "## Code"
      ],
      "metadata": {
        "id": "4_XmfbDvbbRQ"
      }
    },
    {
      "cell_type": "code",
      "execution_count": 43,
      "metadata": {
        "id": "4xFudb4HZv9v"
      },
      "outputs": [],
      "source": [
        "# Basic and System\n",
        "import pandas as pd\n",
        "import numpy as np\n",
        "import time, datetime, random, glob, os, sys, joblib, argparse, json\n",
        "# Torch\n",
        "import torch\n",
        "from torch.utils.data import TensorDataset, Subset\n",
        "from torch.utils.data import DataLoader, RandomSampler, SequentialSampler\n",
        "from torch import nn\n",
        "from torch.nn import functional as F\n",
        "# Pretrained Models\n",
        "from pytorch_pretrained_bert import BertModel\n",
        "from transformers import BertTokenizer, BertForSequenceClassification\n",
        "from transformers import RobertaTokenizer, RobertaForSequenceClassification\n",
        "from tqdm import tqdm \n",
        "# Scheduler\n",
        "from transformers import get_linear_schedule_with_warmup\n",
        "# OPtimizer\n",
        "from transformers import AdamW\n",
        "# Kfold Cross Validation\n",
        "from sklearn.model_selection import KFold\n",
        "# Evaluation\n",
        "import matplotlib.pyplot as plt\n",
        "from sklearn import metrics\n",
        "from sklearn.metrics import accuracy_score, f1_score, precision_score, recall_score\n",
        "from sklearn.metrics import confusion_matrix\n",
        "import seaborn as sn"
      ]
    },
    {
      "cell_type": "code",
      "source": [
        "# Global Variables\n",
        "USING_GPU = False\n",
        "DEVICE = None"
      ],
      "metadata": {
        "id": "pOfyaHj7av2_"
      },
      "execution_count": 11,
      "outputs": []
    },
    {
      "cell_type": "code",
      "source": [
        "# Pretrained models dictionary\n",
        "# Try in the future: Albert\n",
        "pretrained_models = {'bert': 'bert-base-uncased', 'roberta': 'roberta-base'}"
      ],
      "metadata": {
        "id": "gTNRo7cnb-K3"
      },
      "execution_count": 12,
      "outputs": []
    },
    {
      "cell_type": "code",
      "source": [
        "# Format time display\n",
        "def format_time(seconds):\n",
        "    seconds_round = int(round((seconds)))\n",
        "    return str(datetime.timedelta(seconds=seconds_round)) # hh:mm:ss"
      ],
      "metadata": {
        "id": "f5pCIOgyX8te"
      },
      "execution_count": 22,
      "outputs": []
    },
    {
      "cell_type": "code",
      "source": [
        "# Prepare data for pytorch dataloader\n",
        "def prepare_dataset(sentences, labels, tokenizer, max_length=100):\n",
        "    input_ids = []\n",
        "    attention_masks = []\n",
        "    for sent in sentences:\n",
        "        # print(sent)\n",
        "        try:\n",
        "            encoded_dict = tokenizer.encode_plus(\n",
        "                                sent,\n",
        "                                add_special_tokens = True,\n",
        "                                max_length = max_length,\n",
        "                                truncation=True,\n",
        "                                pad_to_max_length = True,\n",
        "                                return_attention_mask = True,\n",
        "                                return_tensors = 'pt'\n",
        "                           )\n",
        "        except:\n",
        "            print(\"some tweet sent is not correct\")\n",
        "            print(sent)\n",
        "            exit(0)\n",
        "\n",
        "        input_ids.append(encoded_dict['input_ids'])\n",
        "        attention_masks.append(encoded_dict['attention_mask'])\n",
        "\n",
        "    input_ids = torch.cat(input_ids, dim=0)\n",
        "    attention_masks = torch.cat(attention_masks, dim=0)\n",
        "    labels = torch.tensor(labels)\n",
        "    return input_ids, attention_masks, labels"
      ],
      "metadata": {
        "id": "K1oI7oXzcyRT"
      },
      "execution_count": 13,
      "outputs": []
    },
    {
      "cell_type": "code",
      "source": [
        "def train(fold, model, device, train_loader, optimizer, scheduler, epoch):\n",
        "    print('Training...')\n",
        "\n",
        "    # Measure how long the training epoch takes.\n",
        "    t0 = time.time()\n",
        "\n",
        "    # Reset the total loss for this epoch.\n",
        "    total_train_loss = 0\n",
        "    model.train()\n",
        "    # For each batch of training data...\n",
        "    for step, batch in enumerate(train_loader):\n",
        "        print('step: '+str(step))\n",
        "        model.zero_grad()\n",
        "        \n",
        "        if step % 40 == 0 and not step == 0:\n",
        "            elapsed = format_time(time.time() - t0)\n",
        "            print('  Batch {:>5,}  of  {:>5,}.    Elapsed: {:}.'.format(step, len(train_loader), elapsed))\n",
        "        \n",
        "        b_input_ids = batch[0].to(DEVICE)\n",
        "        b_input_mask = batch[1].to(DEVICE)\n",
        "        b_labels = batch[2].unsqueeze(0).to(DEVICE)\n",
        "        #print(b_input_ids.shape)\n",
        "        #print(b_input_mask.shape)\n",
        "        #print(b_labels.shape)\n",
        "        # https://stackoverflow.com/questions/70548318/bertforsequenceclassification-target-size-torch-size1-16-must-be-the-same\n",
        "        #b_labels = torch.nn.functional.one_hot(b_labels.to(torch.int64), 3)\n",
        "        #print(type(b_labels))\n",
        "        #print(b_labels.shape)\n",
        "        #loss, logits, hidden_states = model(b_input_ids,\n",
        "        loss, logits, hidden_states = model(b_input_ids,\n",
        "                            token_type_ids=None,\n",
        "                            attention_mask=b_input_mask,\n",
        "                            labels=b_labels)\n",
        "        #print('run more')\n",
        "        total_train_loss += loss.item()\n",
        "        #loss.item()\n",
        "        loss.backward()\n",
        "        torch.nn.utils.clip_grad_norm_(model.parameters(), 1.0)\n",
        "        optimizer.step()\n",
        "        scheduler.step()\n",
        "\n",
        "        del loss, logits\n",
        "\n",
        "    avg_train_loss = total_train_loss / len(train_loader)\n",
        "\n",
        "    training_time = format_time(time.time() - t0)\n",
        "    print(\"\")\n",
        "    print(\"  Average training loss: {0:.2f}\".format(avg_train_loss))\n",
        "    print(\"  Training epoch took: {:}\".format(training_time))"
      ],
      "metadata": {
        "id": "042JRUkecyUC"
      },
      "execution_count": 29,
      "outputs": []
    },
    {
      "cell_type": "markdown",
      "source": [
        "Add following:\n",
        "validation accuracy\n"
      ],
      "metadata": {
        "id": "78t7T8rDp-PI"
      }
    },
    {
      "cell_type": "code",
      "source": [
        "def test(fold, model, device, test_loader, test_data_len):\n",
        "    print(\"Running Validation...\")\n",
        "\n",
        "    model.eval()\n",
        "    # Tracking variables \n",
        "    total_eval_accuracy = 0\n",
        "    total_eval_loss = 0\n",
        "    nb_eval_steps = 0\n",
        "\n",
        "    predictions, true_labels = [], []\n",
        "    for batch in tqdm(test_loader, total=test_data_len):\n",
        "        # b_labels are true labels\n",
        "        b_input_ids, b_input_mask, b_labels = batch\n",
        "        with torch.no_grad():\n",
        "            outputs = model(batch[0].to(DEVICE), token_type_ids=None,\n",
        "                            attention_mask=batch[1].to(DEVICE))\n",
        "            b_proba = outputs[0]\n",
        "            # Accumulate the validation loss.\n",
        "            total_eval_loss += b_proba.item()\n",
        "\n",
        "            proba = b_proba.detach().cpu().numpy()\n",
        "            label_ids = batch[2].numpy()\n",
        "\n",
        "            predictions.append(proba)\n",
        "            true_labels.append(label_ids)\n",
        "\n",
        "            # Calculate the accuracy for this batch of test sentences, and\n",
        "            # accumulate it over all batches.\n",
        "            total_eval_accuracy += accuracy_score(label_ids, b_labels)\n",
        "\n",
        "    #print(predictions)\n",
        "    print(true_labels)\n",
        "    print(b_labels)"
      ],
      "metadata": {
        "id": "JGSJos5QcyWy"
      },
      "execution_count": 25,
      "outputs": []
    },
    {
      "cell_type": "code",
      "source": [
        "# Wrapper function for fine-tuning\n",
        "# batch size, epochs, and learning rate are from CLAWS paper\n",
        "def train_bert_model(model, dataset, batch_size, epochs=3, learning_rate=1e-5, epsilon=1e-8, save_fn=None):\n",
        "\n",
        "    if USING_GPU:\n",
        "        print(\"Using GPU\", DEVICE)\n",
        "        model.cuda(DEVICE)\n",
        "\n",
        "    # prepare cross validation\n",
        "    n_fold = 5\n",
        "    kfold = KFold(n_splits=n_fold, shuffle=True)\n",
        "\n",
        "    n_accuracy = []\n",
        "    n_prescision = []\n",
        "    n_recall = []\n",
        "    n_f1 = []\n",
        "\n",
        "    # for each fold\n",
        "    for fold, (train_idx, test_idx) in enumerate(kfold.split(dataset)):\n",
        "        print('------------fold no---------{}----------------------'.format(fold))\n",
        "        print(train_idx)\n",
        "        print(test_idx)\n",
        "        train_tensor = Subset(dataset, train_idx)\n",
        "        test_tensor = Subset(dataset, test_idx)\n",
        "        test_data_len = len(test_idx)\n",
        "\n",
        "        trainloader = DataLoader(\n",
        "            dataset,\n",
        "            batch_size=batch_size,\n",
        "            sampler=RandomSampler(train_tensor))\n",
        "        testloader = DataLoader(\n",
        "            dataset,\n",
        "            batch_size=batch_size,\n",
        "            sampler=SequentialSampler(test_tensor))\n",
        "        \n",
        "        total_steps = len(trainloader) * epochs\n",
        "        optimizer = AdamW(model.parameters(),\n",
        "                          lr=learning_rate,\n",
        "                          eps=epsilon\n",
        "                          )\n",
        "        scheduler = get_linear_schedule_with_warmup(optimizer,\n",
        "                               num_warmup_steps=0,  # Default value in run_glue.py\n",
        "                               num_training_steps=total_steps)\n",
        "        \n",
        "        for epoch_i in range(0, epochs):\n",
        "            print('======== Epoch {:} / {:} ========'.format(epoch_i + 1, epochs))\n",
        "            train(fold, model, DEVICE, trainloader, optimizer, scheduler, epochs)\n",
        "            test(fold, model, DEVICE, testloader, test_data_len)\n"
      ],
      "metadata": {
        "id": "4jE2K2IpcyZk"
      },
      "execution_count": 26,
      "outputs": []
    },
    {
      "cell_type": "code",
      "source": [
        "# Predict data\n",
        "def run_bert_model(model, test_dataset, batch_size):    \n",
        "    print('Predicting labels for {:,} test sentences...'.format(len(test_dataset)))\n",
        "    \n",
        "    if USING_GPU:\n",
        "        print(\"Using GPU\", DEVICE)\n",
        "        model.cuda(DEVICE)\n",
        "\n",
        "    model.eval()\n",
        "    predictions , true_labels = [], []\n",
        "    prediction_sampler = SequentialSampler(test_dataset)\n",
        "    prediction_dataloader = DataLoader(test_dataset, sampler=prediction_sampler, batch_size=batch_size)\n",
        "    for batch in tqdm(prediction_dataloader, total=len(test_dataset)):\n",
        "        \n",
        "        b_input_ids, b_input_mask, b_labels = batch\n",
        "        with torch.no_grad():\n",
        "            outputs = model(batch[0].to(DEVICE), token_type_ids=None,\n",
        "                                  attention_mask=batch[1].to(DEVICE))\n",
        "            b_proba = outputs[0]\n",
        "\n",
        "            proba = b_proba.detach().cpu().numpy()\n",
        "            label_ids = batch[2].numpy()\n",
        "\n",
        "            predictions.append(proba)\n",
        "            true_labels.append(label_ids)\n",
        "\n",
        "    print('    DONE.')\n",
        "   \n",
        "    flat_predictions = np.concatenate(predictions, axis=0)\n",
        "    return flat_predictions"
      ],
      "metadata": {
        "id": "4SPuk_csh0tC"
      },
      "execution_count": 32,
      "outputs": []
    },
    {
      "cell_type": "code",
      "source": [
        "# If there's a GPU available...\n",
        "if torch.cuda.is_available():\n",
        "    # Tell PyTorch to use the GPU.    \n",
        "    DEVICE = torch.device(\"cuda\")\n",
        "    print('There are %d GPU(s) available.' % torch.cuda.device_count())\n",
        "    print('We will use the GPU:', torch.cuda.get_device_name(0))\n",
        "    USING_GPU = True\n",
        "else:\n",
        "    print('No GPU available, using the CPU instead.')\n",
        "    DEVICE = torch.device(\"cpu\")\n",
        "    USING_GPU = False"
      ],
      "metadata": {
        "colab": {
          "base_uri": "https://localhost:8080/"
        },
        "id": "jaAtAq-hcycH",
        "outputId": "63196428-d391-472f-c43e-fc0fb59362af"
      },
      "execution_count": 17,
      "outputs": [
        {
          "output_type": "stream",
          "name": "stdout",
          "text": [
            "No GPU available, using the CPU instead.\n"
          ]
        }
      ]
    },
    {
      "cell_type": "code",
      "source": [
        "df = pd.read_csv(data_path)\n",
        "df = df[df['Text'].notna()]\n",
        "X = df.Text.values # x\n",
        "Y = list(df['label']) # y_true"
      ],
      "metadata": {
        "id": "mPy1HwuQoWf2"
      },
      "execution_count": 18,
      "outputs": []
    },
    {
      "cell_type": "code",
      "source": [
        "if trainedBertModel == 'bert':\n",
        "    used_bert_model = pretrained_models[trainedBertModel]\n",
        "    model = BertForSequenceClassification.from_pretrained(used_bert_model, num_labels = 3)\n",
        "    tokenizer = BertTokenizer.from_pretrained(used_bert_model, do_lower_case=True)\n",
        "elif trainedBertModel == 'roberta':\n",
        "    used_bert_model = pretrained_models[trainedBertModel]\n",
        "    model = RobertaForSequenceClassification.from_pretrained(used_bert_model, num_labels = 3)\n",
        "    tokenizer = RobertaTokenizer.from_pretrained(used_bert_model, do_lower_case=True)\n",
        "\n",
        "input_ids, attention_masks, labels = prepare_dataset(X, Y, tokenizer, max_length=400)\n",
        "dataset = TensorDataset(input_ids, attention_masks, labels)"
      ],
      "metadata": {
        "colab": {
          "base_uri": "https://localhost:8080/",
          "height": 113,
          "referenced_widgets": [
            "ddb2315fc59a46eb918fd9bdc1270d4d",
            "74184c61fe844afab19d7922942ab4d2",
            "937ae1beec2e4320954d8ea1493e4fc8",
            "a176bc48189347e89f6d6e84517a5e56",
            "7d771d1d83a14c16b5131319005c218e",
            "799f856f1b484c6bba75119b01d37327",
            "ada7c9a0f7e546fcbd29f8d19c7a9051",
            "304e5006bf41497599c737ab1f57e8c0",
            "4e8e222629514db79e09420837b1d35d",
            "c6291ce58fb949e1be2d83364743a4a3",
            "980370255c3b4744974f651c4f5b7c04",
            "9fd88fa516364895aa74474cd5c4e5c5",
            "db1616cb0f7c4ee49ff8a0c6a2316542",
            "5a5403a66b1242c39c64d6bbf3769833",
            "ac81b3e688e143ae99b9db46444be647",
            "c800c20fdd664efa9328e0411f4ed238",
            "831e7d21f6cf479f933ae2c77a25d214",
            "7fae5799ce6042cd80d647196b991208",
            "62fc256a49f741cb842ea803f03c5bf4",
            "8f689cbd554a4aba904ef57d4394a36c",
            "e77a450f029b48a1a4c38bf2e9d88f2b",
            "a57175be4a4e40e4b225ffa868a36c45",
            "fbd4c34a887e4655b78f98a4c72ecb3c",
            "7914451d0aa843e5b416580e70054343",
            "75f30eb9986c40f987580f0510e154ea",
            "2bdfd003de644b8d88a7d8b9ca5d23ec",
            "4e648731f7914d7f87b2f7aec71d72ac",
            "1fc109fd666d4eafb2ca6d858518fd03",
            "30a6715708dd410ab3741bf68d9a51a7",
            "8929e214281a4106a27f2bc37a1ea513",
            "b92205d82d4446cfafd26e507583e028",
            "cfff6f9280bf430b8f5aed29dd32cf8a",
            "c3b6942009204a8e8686a68c824915e7"
          ]
        },
        "id": "VtiMLjRSojDh",
        "outputId": "31dd604d-2c73-4588-e320-ad1398310e89"
      },
      "execution_count": 19,
      "outputs": [
        {
          "output_type": "display_data",
          "data": {
            "text/plain": [
              "Downloading:   0%|          | 0.00/433 [00:00<?, ?B/s]"
            ],
            "application/vnd.jupyter.widget-view+json": {
              "version_major": 2,
              "version_minor": 0,
              "model_id": "ddb2315fc59a46eb918fd9bdc1270d4d"
            }
          },
          "metadata": {}
        },
        {
          "output_type": "display_data",
          "data": {
            "text/plain": [
              "Downloading:   0%|          | 0.00/440M [00:00<?, ?B/s]"
            ],
            "application/vnd.jupyter.widget-view+json": {
              "version_major": 2,
              "version_minor": 0,
              "model_id": "9fd88fa516364895aa74474cd5c4e5c5"
            }
          },
          "metadata": {}
        },
        {
          "output_type": "display_data",
          "data": {
            "text/plain": [
              "Downloading:   0%|          | 0.00/232k [00:00<?, ?B/s]"
            ],
            "application/vnd.jupyter.widget-view+json": {
              "version_major": 2,
              "version_minor": 0,
              "model_id": "fbd4c34a887e4655b78f98a4c72ecb3c"
            }
          },
          "metadata": {}
        }
      ]
    },
    {
      "cell_type": "markdown",
      "source": [
        "## Fine Tuning"
      ],
      "metadata": {
        "id": "GVjun6LziQnt"
      }
    },
    {
      "cell_type": "code",
      "source": [
        "train_bert_model(model, dataset, batch_size=batchsize)"
      ],
      "metadata": {
        "colab": {
          "base_uri": "https://localhost:8080/"
        },
        "id": "CddFJpvqpvyX",
        "outputId": "1a0bdd49-88b9-4faf-9a55-8fc11b9b8fe2"
      },
      "execution_count": 30,
      "outputs": [
        {
          "output_type": "stream",
          "name": "stdout",
          "text": [
            "------------fold no---------0----------------------\n",
            "[ 0  1  2  3  4  5  6  8  9 10 11 12 14 15 16 17 18 19 20 22 23 25 26 29]\n",
            "[ 7 13 21 24 27 28]\n",
            "======== Epoch 1 / 3 ========\n",
            "Training...\n",
            "step: 0\n",
            "step: 1\n",
            "step: 2\n",
            "\n",
            "  Average training loss: 1.03\n",
            "  Training epoch took: 0:04:59\n",
            "Running Validation...\n"
          ]
        },
        {
          "output_type": "stream",
          "name": "stderr",
          "text": [
            " 17%|█▋        | 1/6 [00:21<01:49, 21.82s/it]\n"
          ]
        },
        {
          "output_type": "stream",
          "name": "stdout",
          "text": [
            "[array([[ 0.24932191, -0.22419916, -0.1799518 ],\n",
            "       [ 0.28101942, -0.25948605, -0.3473724 ],\n",
            "       [ 0.18687303, -0.11519731, -0.26217982],\n",
            "       [ 0.18568721, -0.15173319, -0.31729963],\n",
            "       [ 0.16187072, -0.22331466, -0.29775766],\n",
            "       [ 0.23146866, -0.1855069 , -0.30011764]], dtype=float32)]\n",
            "[array([0, 0, 0, 1, 0, 1])]\n",
            "======== Epoch 2 / 3 ========\n",
            "Training...\n",
            "step: 0\n",
            "step: 1\n",
            "step: 2\n",
            "\n",
            "  Average training loss: 0.94\n",
            "  Training epoch took: 0:04:49\n",
            "Running Validation...\n"
          ]
        },
        {
          "output_type": "stream",
          "name": "stderr",
          "text": [
            " 17%|█▋        | 1/6 [00:23<01:58, 23.61s/it]\n"
          ]
        },
        {
          "output_type": "stream",
          "name": "stdout",
          "text": [
            "[array([[ 0.35316673, -0.3250932 , -0.29812232],\n",
            "       [ 0.25404483, -0.26290113, -0.44867265],\n",
            "       [ 0.31620213, -0.2334359 , -0.39180434],\n",
            "       [ 0.23802225, -0.1560243 , -0.35423285],\n",
            "       [ 0.28266203, -0.29454434, -0.4021901 ],\n",
            "       [ 0.31550384, -0.23342586, -0.3768292 ]], dtype=float32)]\n",
            "[array([0, 0, 0, 1, 0, 1])]\n",
            "======== Epoch 3 / 3 ========\n",
            "Training...\n",
            "step: 0\n",
            "step: 1\n",
            "step: 2\n",
            "\n",
            "  Average training loss: 0.88\n",
            "  Training epoch took: 0:04:50\n",
            "Running Validation...\n"
          ]
        },
        {
          "output_type": "stream",
          "name": "stderr",
          "text": [
            " 17%|█▋        | 1/6 [00:23<01:56, 23.37s/it]\n"
          ]
        },
        {
          "output_type": "stream",
          "name": "stdout",
          "text": [
            "[array([[ 0.3852858 , -0.35108832, -0.32770646],\n",
            "       [ 0.32486448, -0.29935837, -0.48231834],\n",
            "       [ 0.35039887, -0.26235834, -0.42107794],\n",
            "       [ 0.25127807, -0.15536322, -0.36011094],\n",
            "       [ 0.3249499 , -0.31564382, -0.43574017],\n",
            "       [ 0.33560053, -0.24281842, -0.39080942]], dtype=float32)]\n",
            "[array([0, 0, 0, 1, 0, 1])]\n",
            "------------fold no---------1----------------------\n",
            "[ 2  3  4  5  6  7  8  9 10 11 13 14 17 18 19 20 21 22 23 24 25 26 27 28]\n",
            "[ 0  1 12 15 16 29]\n",
            "======== Epoch 1 / 3 ========\n",
            "Training...\n",
            "step: 0\n",
            "step: 1\n",
            "step: 2\n",
            "\n",
            "  Average training loss: 0.88\n",
            "  Training epoch took: 0:04:49\n",
            "Running Validation...\n"
          ]
        },
        {
          "output_type": "stream",
          "name": "stderr",
          "text": [
            " 17%|█▋        | 1/6 [00:23<01:58, 23.73s/it]\n"
          ]
        },
        {
          "output_type": "stream",
          "name": "stdout",
          "text": [
            "[array([[ 0.42467186, -0.3543325 , -0.38770196],\n",
            "       [ 0.41893983, -0.330865  , -0.53205776],\n",
            "       [ 0.3858603 , -0.23285876, -0.45804575],\n",
            "       [ 0.16953948,  0.02398451, -0.27658322],\n",
            "       [ 0.3283614 , -0.30050692, -0.45029497],\n",
            "       [ 0.29464012, -0.12222977, -0.3524098 ]], dtype=float32)]\n",
            "[array([0, 0, 0, 1, 0, 1])]\n",
            "======== Epoch 2 / 3 ========\n",
            "Training...\n",
            "step: 0\n",
            "step: 1\n",
            "step: 2\n",
            "\n",
            "  Average training loss: 0.80\n",
            "  Training epoch took: 0:04:53\n",
            "Running Validation...\n"
          ]
        },
        {
          "output_type": "stream",
          "name": "stderr",
          "text": [
            " 17%|█▋        | 1/6 [00:23<01:58, 23.69s/it]\n"
          ]
        },
        {
          "output_type": "stream",
          "name": "stdout",
          "text": [
            "[array([[ 0.49941015, -0.40048888, -0.47624516],\n",
            "       [ 0.5792825 , -0.3866793 , -0.5876505 ],\n",
            "       [ 0.498614  , -0.3351696 , -0.57705456],\n",
            "       [ 0.1946556 ,  0.02866145, -0.3078433 ],\n",
            "       [ 0.4330299 , -0.3533911 , -0.54804283],\n",
            "       [ 0.33571362, -0.15022977, -0.39573666]], dtype=float32)]\n",
            "[array([0, 0, 0, 1, 0, 1])]\n",
            "======== Epoch 3 / 3 ========\n",
            "Training...\n",
            "step: 0\n",
            "step: 1\n",
            "step: 2\n",
            "\n",
            "  Average training loss: 0.80\n",
            "  Training epoch took: 0:04:48\n",
            "Running Validation...\n"
          ]
        },
        {
          "output_type": "stream",
          "name": "stderr",
          "text": [
            " 17%|█▋        | 1/6 [00:25<02:07, 25.51s/it]\n"
          ]
        },
        {
          "output_type": "stream",
          "name": "stdout",
          "text": [
            "[array([[ 0.5313344 , -0.42327765, -0.5085151 ],\n",
            "       [ 0.61258703, -0.43113863, -0.63594276],\n",
            "       [ 0.5378069 , -0.35952747, -0.62506413],\n",
            "       [ 0.17779222,  0.06179165, -0.2991617 ],\n",
            "       [ 0.46062014, -0.37585118, -0.59741616],\n",
            "       [ 0.34677032, -0.15248446, -0.407816  ]], dtype=float32)]\n",
            "[array([0, 0, 0, 1, 0, 1])]\n",
            "------------fold no---------2----------------------\n",
            "[ 0  1  2  3  4  5  6  7  9 10 11 12 13 15 16 17 18 19 21 24 25 27 28 29]\n",
            "[ 8 14 20 22 23 26]\n",
            "======== Epoch 1 / 3 ========\n",
            "Training...\n",
            "step: 0\n",
            "step: 1\n",
            "step: 2\n",
            "\n",
            "  Average training loss: 0.77\n",
            "  Training epoch took: 0:04:49\n",
            "Running Validation...\n"
          ]
        },
        {
          "output_type": "stream",
          "name": "stderr",
          "text": [
            " 17%|█▋        | 1/6 [00:25<02:06, 25.27s/it]\n"
          ]
        },
        {
          "output_type": "stream",
          "name": "stdout",
          "text": [
            "[array([[ 0.5991737 , -0.43023187, -0.50831956],\n",
            "       [ 0.70477647, -0.55940807, -0.78771156],\n",
            "       [ 0.5472384 , -0.29093242, -0.6078789 ],\n",
            "       [-0.05733884,  0.3330737 , -0.10643952],\n",
            "       [ 0.5593818 , -0.44525984, -0.6802983 ],\n",
            "       [ 0.27327406,  0.05012108, -0.3006346 ]], dtype=float32)]\n",
            "[array([0, 0, 0, 1, 0, 1])]\n",
            "======== Epoch 2 / 3 ========\n",
            "Training...\n",
            "step: 0\n",
            "step: 1\n",
            "step: 2\n",
            "\n",
            "  Average training loss: 0.69\n",
            "  Training epoch took: 0:04:58\n",
            "Running Validation...\n"
          ]
        },
        {
          "output_type": "stream",
          "name": "stderr",
          "text": [
            " 17%|█▋        | 1/6 [00:24<02:01, 24.23s/it]\n"
          ]
        },
        {
          "output_type": "stream",
          "name": "stdout",
          "text": [
            "[array([[ 0.6909097 , -0.49311253, -0.5817886 ],\n",
            "       [ 0.7545927 , -0.6214892 , -0.8518672 ],\n",
            "       [ 0.6965429 , -0.40125468, -0.7419778 ],\n",
            "       [-0.09339855,  0.3782589 , -0.07814626],\n",
            "       [ 0.6197945 , -0.48755625, -0.71758336],\n",
            "       [ 0.21842904,  0.1444867 , -0.23321985]], dtype=float32)]\n",
            "[array([0, 0, 0, 1, 0, 1])]\n",
            "======== Epoch 3 / 3 ========\n",
            "Training...\n",
            "step: 0\n",
            "step: 1\n",
            "step: 2\n",
            "\n",
            "  Average training loss: 0.68\n",
            "  Training epoch took: 0:05:10\n",
            "Running Validation...\n"
          ]
        },
        {
          "output_type": "stream",
          "name": "stderr",
          "text": [
            " 17%|█▋        | 1/6 [00:24<02:04, 24.89s/it]\n"
          ]
        },
        {
          "output_type": "stream",
          "name": "stdout",
          "text": [
            "[array([[ 0.72418815, -0.51726097, -0.5999228 ],\n",
            "       [ 0.78114456, -0.6432294 , -0.8735598 ],\n",
            "       [ 0.7397557 , -0.43465623, -0.7753964 ],\n",
            "       [-0.10819533,  0.38920933, -0.06055171],\n",
            "       [ 0.6349846 , -0.5052875 , -0.70269877],\n",
            "       [ 0.18888833,  0.17893282, -0.1967365 ]], dtype=float32)]\n",
            "[array([0, 0, 0, 1, 0, 1])]\n",
            "------------fold no---------3----------------------\n",
            "[ 0  1  2  4  5  7  8  9 12 13 14 15 16 18 19 20 21 22 23 24 26 27 28 29]\n",
            "[ 3  6 10 11 17 25]\n",
            "======== Epoch 1 / 3 ========\n",
            "Training...\n",
            "step: 0\n",
            "step: 1\n",
            "step: 2\n",
            "\n",
            "  Average training loss: 0.69\n",
            "  Training epoch took: 0:05:10\n",
            "Running Validation...\n"
          ]
        },
        {
          "output_type": "stream",
          "name": "stderr",
          "text": [
            " 17%|█▋        | 1/6 [00:23<01:58, 23.67s/it]\n"
          ]
        },
        {
          "output_type": "stream",
          "name": "stdout",
          "text": [
            "[array([[ 0.722366  , -0.5435818 , -0.79462177],\n",
            "       [ 0.80722004, -0.70326513, -0.96484464],\n",
            "       [ 0.78027326, -0.53530794, -0.973607  ],\n",
            "       [ 0.06910878,  0.306814  , -0.23777261],\n",
            "       [ 0.63874406, -0.55100906, -0.8404494 ],\n",
            "       [ 0.3317888 ,  0.09116784, -0.3169887 ]], dtype=float32)]\n",
            "[array([0, 0, 0, 1, 0, 1])]\n",
            "======== Epoch 2 / 3 ========\n",
            "Training...\n",
            "step: 0\n",
            "step: 1\n",
            "step: 2\n",
            "\n",
            "  Average training loss: 0.61\n",
            "  Training epoch took: 0:05:00\n",
            "Running Validation...\n"
          ]
        },
        {
          "output_type": "stream",
          "name": "stderr",
          "text": [
            " 17%|█▋        | 1/6 [00:22<01:54, 22.94s/it]\n"
          ]
        },
        {
          "output_type": "stream",
          "name": "stdout",
          "text": [
            "[array([[ 0.8885385 , -0.6278977 , -0.81589717],\n",
            "       [ 0.86082214, -0.74218255, -0.99475646],\n",
            "       [ 0.86635774, -0.6046049 , -1.0591638 ],\n",
            "       [-0.08830738,  0.40204203, -0.13100424],\n",
            "       [ 0.70400953, -0.59688157, -0.86465675],\n",
            "       [ 0.06756675,  0.33087942, -0.1074448 ]], dtype=float32)]\n",
            "[array([0, 0, 0, 1, 0, 1])]\n",
            "======== Epoch 3 / 3 ========\n",
            "Training...\n",
            "step: 0\n",
            "step: 1\n",
            "step: 2\n",
            "\n",
            "  Average training loss: 0.57\n",
            "  Training epoch took: 0:04:48\n",
            "Running Validation...\n"
          ]
        },
        {
          "output_type": "stream",
          "name": "stderr",
          "text": [
            " 17%|█▋        | 1/6 [00:23<01:58, 23.75s/it]\n"
          ]
        },
        {
          "output_type": "stream",
          "name": "stdout",
          "text": [
            "[array([[ 9.16139483e-01, -6.61278427e-01, -8.02381396e-01],\n",
            "       [ 8.88333559e-01, -7.61477232e-01, -1.00299013e+00],\n",
            "       [ 9.06272531e-01, -6.37735903e-01, -1.08405411e+00],\n",
            "       [-1.27685487e-01,  4.14430141e-01, -1.01126686e-01],\n",
            "       [ 7.38576651e-01, -6.25474751e-01, -8.75155389e-01],\n",
            "       [ 6.77685020e-04,  3.82622898e-01, -5.23500293e-02]], dtype=float32)]\n",
            "[array([0, 0, 0, 1, 0, 1])]\n",
            "------------fold no---------4----------------------\n",
            "[ 0  1  3  6  7  8 10 11 12 13 14 15 16 17 20 21 22 23 24 25 26 27 28 29]\n",
            "[ 2  4  5  9 18 19]\n",
            "======== Epoch 1 / 3 ========\n",
            "Training...\n",
            "step: 0\n",
            "step: 1\n",
            "step: 2\n",
            "\n",
            "  Average training loss: 0.55\n",
            "  Training epoch took: 0:04:46\n",
            "Running Validation...\n"
          ]
        },
        {
          "output_type": "stream",
          "name": "stderr",
          "text": [
            " 17%|█▋        | 1/6 [00:21<01:48, 21.75s/it]\n"
          ]
        },
        {
          "output_type": "stream",
          "name": "stdout",
          "text": [
            "[array([[ 0.7810236 , -0.5109565 , -0.5397979 ],\n",
            "       [ 1.0616844 , -0.81986225, -1.0485369 ],\n",
            "       [ 0.94026744, -0.66064215, -1.0112344 ],\n",
            "       [-0.2622719 ,  0.46199697,  0.02663593],\n",
            "       [ 0.78289306, -0.70897585, -0.86227363],\n",
            "       [-0.25656384,  0.5719587 ,  0.1593735 ]], dtype=float32)]\n",
            "[array([0, 0, 0, 1, 0, 1])]\n",
            "======== Epoch 2 / 3 ========\n",
            "Training...\n",
            "step: 0\n",
            "step: 1\n",
            "step: 2\n",
            "\n",
            "  Average training loss: 0.53\n",
            "  Training epoch took: 0:04:49\n",
            "Running Validation...\n"
          ]
        },
        {
          "output_type": "stream",
          "name": "stderr",
          "text": [
            " 17%|█▋        | 1/6 [00:23<01:59, 23.92s/it]\n"
          ]
        },
        {
          "output_type": "stream",
          "name": "stdout",
          "text": [
            "[array([[ 0.99140906, -0.70216733, -0.7201557 ],\n",
            "       [ 1.11531   , -0.8619415 , -1.0745857 ],\n",
            "       [ 0.941846  , -0.7186149 , -1.0540931 ],\n",
            "       [-0.23780116,  0.47145724, -0.00415863],\n",
            "       [ 0.88569915, -0.74098504, -0.8743196 ],\n",
            "       [-0.27716395,  0.5989251 ,  0.17650019]], dtype=float32)]\n",
            "[array([0, 0, 0, 1, 0, 1])]\n",
            "======== Epoch 3 / 3 ========\n",
            "Training...\n",
            "step: 0\n",
            "step: 1\n",
            "step: 2\n",
            "\n",
            "  Average training loss: 0.48\n",
            "  Training epoch took: 0:05:01\n",
            "Running Validation...\n"
          ]
        },
        {
          "output_type": "stream",
          "name": "stderr",
          "text": [
            " 17%|█▋        | 1/6 [00:21<01:48, 21.79s/it]"
          ]
        },
        {
          "output_type": "stream",
          "name": "stdout",
          "text": [
            "[array([[ 1.0874021 , -0.77356774, -0.86601365],\n",
            "       [ 1.1035504 , -0.868083  , -1.0592711 ],\n",
            "       [ 0.93426555, -0.7359426 , -1.0693007 ],\n",
            "       [-0.22003436,  0.4746038 , -0.02598781],\n",
            "       [ 0.90364474, -0.7562224 , -0.89404047],\n",
            "       [-0.2785586 ,  0.60848486,  0.17491424]], dtype=float32)]\n",
            "[array([0, 0, 0, 1, 0, 1])]\n"
          ]
        },
        {
          "output_type": "stream",
          "name": "stderr",
          "text": [
            "\n"
          ]
        }
      ]
    },
    {
      "cell_type": "markdown",
      "source": [
        "## Predict"
      ],
      "metadata": {
        "id": "Q4DIbEr6iTTM"
      }
    },
    {
      "cell_type": "code",
      "source": [
        "y_pred = np.zeros(len(X))\n",
        "\n",
        "flat_logits = run_bert_model(model, dataset, batch_size=batchsize)\n",
        "y_pred = np.argmax(flat_logits, axis=1).flatten()\n",
        "\n",
        "df['BERT_label'] = y_pred"
      ],
      "metadata": {
        "colab": {
          "base_uri": "https://localhost:8080/"
        },
        "id": "XOZjWvnYcuEi",
        "outputId": "5e72da38-1f78-46cf-b856-ed46f298bb09"
      },
      "execution_count": 33,
      "outputs": [
        {
          "output_type": "stream",
          "name": "stdout",
          "text": [
            "Predicting labels for 30 test sentences...\n"
          ]
        },
        {
          "output_type": "stream",
          "name": "stderr",
          "text": [
            " 13%|█▎        | 4/30 [01:56<12:36, 29.11s/it]"
          ]
        },
        {
          "output_type": "stream",
          "name": "stdout",
          "text": [
            "    DONE.\n"
          ]
        },
        {
          "output_type": "stream",
          "name": "stderr",
          "text": [
            "\n"
          ]
        }
      ]
    },
    {
      "cell_type": "code",
      "source": [
        "df.head(30)"
      ],
      "metadata": {
        "colab": {
          "base_uri": "https://localhost:8080/",
          "height": 990
        },
        "id": "i9LVtD2hcuHs",
        "outputId": "534d1ba8-36a5-448b-99f4-81fb929a022c"
      },
      "execution_count": 62,
      "outputs": [
        {
          "output_type": "execute_result",
          "data": {
            "text/plain": [
              "               Tweet ID                                               Text  \\\n",
              "0   1242553623260868608  Are we still allowed to quote ancient Chinese ...   \n",
              "1   1246508137638580225  @mamacat2u @VBeltiz More power to you!  This C...   \n",
              "2   1233468243534372865  CNBC: WHO, Tedros reiterated that the virus co...   \n",
              "3   1243626072387747841  \"The heightened racism experienced by Asian co...   \n",
              "4   1225611530978217989  Coronavirus and Nepali in China: KP Oli has di...   \n",
              "5   1238081115182764032  #IamNotAVirus - heard of it @thetimes ? Why us...   \n",
              "6   1246282568414179329  @RepAdamSchiff You have proven over the past 3...   \n",
              "7   1232094383924707328  @realDonaldTrump Fact: Coronavirus will probab...   \n",
              "8   1238072679694864384  for the last fucking time.... CORONAVIRUS IS N...   \n",
              "9   1245152684820348929  @realDonaldTrump I think your campaign slogan ...   \n",
              "10  1245357525400051712  Fuck You, China. (Covid19) https://t.co/kNlwgY...   \n",
              "11  1245999294139772928  Anyone else do a sneaky fist pump when every r...   \n",
              "12  1230523783708061696  Well no shit. #coronavirus https://t.co/1OLHdC...   \n",
              "13  1237480830097862658  Hoping April 1st come around and all the news ...   \n",
              "14  1247596322657570823  @MarshaBlackburn @FreedomHK4ever Most disgusti...   \n",
              "15  1244721630351327232  I am tweeting to Support #IAmNotAVirus hashtag...   \n",
              "16  1230394065004453888  Another Wuhan hospital chief 'is hospitalised ...   \n",
              "17  1230515621315710977  @mattwander12 I barback on the weekends and I ...   \n",
              "18  1226914308270981128  Are you worried about the Coronavirus?  #coron...   \n",
              "19  1244262818595000325  I'm losing my mind 😵 quarantine is making me m...   \n",
              "20  1230292697694580736  The Gray Plague: What The Fuck Is Going On In ...   \n",
              "21  1244844999566446592  CCP China doing all types of shady &amp; evil ...   \n",
              "22  1244398148174438400  @realDonaldTrump so much for it being the Chin...   \n",
              "23  1235395447214288897  Husband, I am SORRY you got what the rest of u...   \n",
              "24  1234510147667365888  Coronavirus Election Puts the Democrats In a D...   \n",
              "25  1233532837179072517  Have you ever seen anyone praying for death to...   \n",
              "26  1245035261030838272                @ChangshaCity fucking #chinesevirus   \n",
              "27  1238017385761656832  fuck china  #WuhanVirus #COVID2019 #coronaviru...   \n",
              "28  1241506262216593409  Watch this and not cry...wtf America. Seriousl...   \n",
              "29  1245443836777648128             This is the truth #ChinaLiedPeopleDied   \n",
              "\n",
              "    label  BERT_label  \n",
              "0       0           0  \n",
              "1       0           0  \n",
              "2       0           0  \n",
              "3       1           1  \n",
              "4       0           0  \n",
              "5       1           1  \n",
              "6       0           0  \n",
              "7       0           0  \n",
              "8       1           1  \n",
              "9       0           0  \n",
              "10      2           1  \n",
              "11      0           0  \n",
              "12      0           0  \n",
              "13      0           0  \n",
              "14      0           0  \n",
              "15      1           1  \n",
              "16      0           0  \n",
              "17      0           0  \n",
              "18      0           0  \n",
              "19      2           2  \n",
              "20      0           0  \n",
              "21      2           1  \n",
              "22      0           0  \n",
              "23      0           0  \n",
              "24      2           0  \n",
              "25      0           0  \n",
              "26      2           0  \n",
              "27      2           0  \n",
              "28      1           0  \n",
              "29      0           0  "
            ],
            "text/html": [
              "\n",
              "  <div id=\"df-71f4e01a-0fba-404a-ab26-afaad3d09149\">\n",
              "    <div class=\"colab-df-container\">\n",
              "      <div>\n",
              "<style scoped>\n",
              "    .dataframe tbody tr th:only-of-type {\n",
              "        vertical-align: middle;\n",
              "    }\n",
              "\n",
              "    .dataframe tbody tr th {\n",
              "        vertical-align: top;\n",
              "    }\n",
              "\n",
              "    .dataframe thead th {\n",
              "        text-align: right;\n",
              "    }\n",
              "</style>\n",
              "<table border=\"1\" class=\"dataframe\">\n",
              "  <thead>\n",
              "    <tr style=\"text-align: right;\">\n",
              "      <th></th>\n",
              "      <th>Tweet ID</th>\n",
              "      <th>Text</th>\n",
              "      <th>label</th>\n",
              "      <th>BERT_label</th>\n",
              "    </tr>\n",
              "  </thead>\n",
              "  <tbody>\n",
              "    <tr>\n",
              "      <th>0</th>\n",
              "      <td>1242553623260868608</td>\n",
              "      <td>Are we still allowed to quote ancient Chinese ...</td>\n",
              "      <td>0</td>\n",
              "      <td>0</td>\n",
              "    </tr>\n",
              "    <tr>\n",
              "      <th>1</th>\n",
              "      <td>1246508137638580225</td>\n",
              "      <td>@mamacat2u @VBeltiz More power to you!  This C...</td>\n",
              "      <td>0</td>\n",
              "      <td>0</td>\n",
              "    </tr>\n",
              "    <tr>\n",
              "      <th>2</th>\n",
              "      <td>1233468243534372865</td>\n",
              "      <td>CNBC: WHO, Tedros reiterated that the virus co...</td>\n",
              "      <td>0</td>\n",
              "      <td>0</td>\n",
              "    </tr>\n",
              "    <tr>\n",
              "      <th>3</th>\n",
              "      <td>1243626072387747841</td>\n",
              "      <td>\"The heightened racism experienced by Asian co...</td>\n",
              "      <td>1</td>\n",
              "      <td>1</td>\n",
              "    </tr>\n",
              "    <tr>\n",
              "      <th>4</th>\n",
              "      <td>1225611530978217989</td>\n",
              "      <td>Coronavirus and Nepali in China: KP Oli has di...</td>\n",
              "      <td>0</td>\n",
              "      <td>0</td>\n",
              "    </tr>\n",
              "    <tr>\n",
              "      <th>5</th>\n",
              "      <td>1238081115182764032</td>\n",
              "      <td>#IamNotAVirus - heard of it @thetimes ? Why us...</td>\n",
              "      <td>1</td>\n",
              "      <td>1</td>\n",
              "    </tr>\n",
              "    <tr>\n",
              "      <th>6</th>\n",
              "      <td>1246282568414179329</td>\n",
              "      <td>@RepAdamSchiff You have proven over the past 3...</td>\n",
              "      <td>0</td>\n",
              "      <td>0</td>\n",
              "    </tr>\n",
              "    <tr>\n",
              "      <th>7</th>\n",
              "      <td>1232094383924707328</td>\n",
              "      <td>@realDonaldTrump Fact: Coronavirus will probab...</td>\n",
              "      <td>0</td>\n",
              "      <td>0</td>\n",
              "    </tr>\n",
              "    <tr>\n",
              "      <th>8</th>\n",
              "      <td>1238072679694864384</td>\n",
              "      <td>for the last fucking time.... CORONAVIRUS IS N...</td>\n",
              "      <td>1</td>\n",
              "      <td>1</td>\n",
              "    </tr>\n",
              "    <tr>\n",
              "      <th>9</th>\n",
              "      <td>1245152684820348929</td>\n",
              "      <td>@realDonaldTrump I think your campaign slogan ...</td>\n",
              "      <td>0</td>\n",
              "      <td>0</td>\n",
              "    </tr>\n",
              "    <tr>\n",
              "      <th>10</th>\n",
              "      <td>1245357525400051712</td>\n",
              "      <td>Fuck You, China. (Covid19) https://t.co/kNlwgY...</td>\n",
              "      <td>2</td>\n",
              "      <td>1</td>\n",
              "    </tr>\n",
              "    <tr>\n",
              "      <th>11</th>\n",
              "      <td>1245999294139772928</td>\n",
              "      <td>Anyone else do a sneaky fist pump when every r...</td>\n",
              "      <td>0</td>\n",
              "      <td>0</td>\n",
              "    </tr>\n",
              "    <tr>\n",
              "      <th>12</th>\n",
              "      <td>1230523783708061696</td>\n",
              "      <td>Well no shit. #coronavirus https://t.co/1OLHdC...</td>\n",
              "      <td>0</td>\n",
              "      <td>0</td>\n",
              "    </tr>\n",
              "    <tr>\n",
              "      <th>13</th>\n",
              "      <td>1237480830097862658</td>\n",
              "      <td>Hoping April 1st come around and all the news ...</td>\n",
              "      <td>0</td>\n",
              "      <td>0</td>\n",
              "    </tr>\n",
              "    <tr>\n",
              "      <th>14</th>\n",
              "      <td>1247596322657570823</td>\n",
              "      <td>@MarshaBlackburn @FreedomHK4ever Most disgusti...</td>\n",
              "      <td>0</td>\n",
              "      <td>0</td>\n",
              "    </tr>\n",
              "    <tr>\n",
              "      <th>15</th>\n",
              "      <td>1244721630351327232</td>\n",
              "      <td>I am tweeting to Support #IAmNotAVirus hashtag...</td>\n",
              "      <td>1</td>\n",
              "      <td>1</td>\n",
              "    </tr>\n",
              "    <tr>\n",
              "      <th>16</th>\n",
              "      <td>1230394065004453888</td>\n",
              "      <td>Another Wuhan hospital chief 'is hospitalised ...</td>\n",
              "      <td>0</td>\n",
              "      <td>0</td>\n",
              "    </tr>\n",
              "    <tr>\n",
              "      <th>17</th>\n",
              "      <td>1230515621315710977</td>\n",
              "      <td>@mattwander12 I barback on the weekends and I ...</td>\n",
              "      <td>0</td>\n",
              "      <td>0</td>\n",
              "    </tr>\n",
              "    <tr>\n",
              "      <th>18</th>\n",
              "      <td>1226914308270981128</td>\n",
              "      <td>Are you worried about the Coronavirus?  #coron...</td>\n",
              "      <td>0</td>\n",
              "      <td>0</td>\n",
              "    </tr>\n",
              "    <tr>\n",
              "      <th>19</th>\n",
              "      <td>1244262818595000325</td>\n",
              "      <td>I'm losing my mind 😵 quarantine is making me m...</td>\n",
              "      <td>2</td>\n",
              "      <td>2</td>\n",
              "    </tr>\n",
              "    <tr>\n",
              "      <th>20</th>\n",
              "      <td>1230292697694580736</td>\n",
              "      <td>The Gray Plague: What The Fuck Is Going On In ...</td>\n",
              "      <td>0</td>\n",
              "      <td>0</td>\n",
              "    </tr>\n",
              "    <tr>\n",
              "      <th>21</th>\n",
              "      <td>1244844999566446592</td>\n",
              "      <td>CCP China doing all types of shady &amp;amp; evil ...</td>\n",
              "      <td>2</td>\n",
              "      <td>1</td>\n",
              "    </tr>\n",
              "    <tr>\n",
              "      <th>22</th>\n",
              "      <td>1244398148174438400</td>\n",
              "      <td>@realDonaldTrump so much for it being the Chin...</td>\n",
              "      <td>0</td>\n",
              "      <td>0</td>\n",
              "    </tr>\n",
              "    <tr>\n",
              "      <th>23</th>\n",
              "      <td>1235395447214288897</td>\n",
              "      <td>Husband, I am SORRY you got what the rest of u...</td>\n",
              "      <td>0</td>\n",
              "      <td>0</td>\n",
              "    </tr>\n",
              "    <tr>\n",
              "      <th>24</th>\n",
              "      <td>1234510147667365888</td>\n",
              "      <td>Coronavirus Election Puts the Democrats In a D...</td>\n",
              "      <td>2</td>\n",
              "      <td>0</td>\n",
              "    </tr>\n",
              "    <tr>\n",
              "      <th>25</th>\n",
              "      <td>1233532837179072517</td>\n",
              "      <td>Have you ever seen anyone praying for death to...</td>\n",
              "      <td>0</td>\n",
              "      <td>0</td>\n",
              "    </tr>\n",
              "    <tr>\n",
              "      <th>26</th>\n",
              "      <td>1245035261030838272</td>\n",
              "      <td>@ChangshaCity fucking #chinesevirus</td>\n",
              "      <td>2</td>\n",
              "      <td>0</td>\n",
              "    </tr>\n",
              "    <tr>\n",
              "      <th>27</th>\n",
              "      <td>1238017385761656832</td>\n",
              "      <td>fuck china  #WuhanVirus #COVID2019 #coronaviru...</td>\n",
              "      <td>2</td>\n",
              "      <td>0</td>\n",
              "    </tr>\n",
              "    <tr>\n",
              "      <th>28</th>\n",
              "      <td>1241506262216593409</td>\n",
              "      <td>Watch this and not cry...wtf America. Seriousl...</td>\n",
              "      <td>1</td>\n",
              "      <td>0</td>\n",
              "    </tr>\n",
              "    <tr>\n",
              "      <th>29</th>\n",
              "      <td>1245443836777648128</td>\n",
              "      <td>This is the truth #ChinaLiedPeopleDied</td>\n",
              "      <td>0</td>\n",
              "      <td>0</td>\n",
              "    </tr>\n",
              "  </tbody>\n",
              "</table>\n",
              "</div>\n",
              "      <button class=\"colab-df-convert\" onclick=\"convertToInteractive('df-71f4e01a-0fba-404a-ab26-afaad3d09149')\"\n",
              "              title=\"Convert this dataframe to an interactive table.\"\n",
              "              style=\"display:none;\">\n",
              "        \n",
              "  <svg xmlns=\"http://www.w3.org/2000/svg\" height=\"24px\"viewBox=\"0 0 24 24\"\n",
              "       width=\"24px\">\n",
              "    <path d=\"M0 0h24v24H0V0z\" fill=\"none\"/>\n",
              "    <path d=\"M18.56 5.44l.94 2.06.94-2.06 2.06-.94-2.06-.94-.94-2.06-.94 2.06-2.06.94zm-11 1L8.5 8.5l.94-2.06 2.06-.94-2.06-.94L8.5 2.5l-.94 2.06-2.06.94zm10 10l.94 2.06.94-2.06 2.06-.94-2.06-.94-.94-2.06-.94 2.06-2.06.94z\"/><path d=\"M17.41 7.96l-1.37-1.37c-.4-.4-.92-.59-1.43-.59-.52 0-1.04.2-1.43.59L10.3 9.45l-7.72 7.72c-.78.78-.78 2.05 0 2.83L4 21.41c.39.39.9.59 1.41.59.51 0 1.02-.2 1.41-.59l7.78-7.78 2.81-2.81c.8-.78.8-2.07 0-2.86zM5.41 20L4 18.59l7.72-7.72 1.47 1.35L5.41 20z\"/>\n",
              "  </svg>\n",
              "      </button>\n",
              "      \n",
              "  <style>\n",
              "    .colab-df-container {\n",
              "      display:flex;\n",
              "      flex-wrap:wrap;\n",
              "      gap: 12px;\n",
              "    }\n",
              "\n",
              "    .colab-df-convert {\n",
              "      background-color: #E8F0FE;\n",
              "      border: none;\n",
              "      border-radius: 50%;\n",
              "      cursor: pointer;\n",
              "      display: none;\n",
              "      fill: #1967D2;\n",
              "      height: 32px;\n",
              "      padding: 0 0 0 0;\n",
              "      width: 32px;\n",
              "    }\n",
              "\n",
              "    .colab-df-convert:hover {\n",
              "      background-color: #E2EBFA;\n",
              "      box-shadow: 0px 1px 2px rgba(60, 64, 67, 0.3), 0px 1px 3px 1px rgba(60, 64, 67, 0.15);\n",
              "      fill: #174EA6;\n",
              "    }\n",
              "\n",
              "    [theme=dark] .colab-df-convert {\n",
              "      background-color: #3B4455;\n",
              "      fill: #D2E3FC;\n",
              "    }\n",
              "\n",
              "    [theme=dark] .colab-df-convert:hover {\n",
              "      background-color: #434B5C;\n",
              "      box-shadow: 0px 1px 3px 1px rgba(0, 0, 0, 0.15);\n",
              "      filter: drop-shadow(0px 1px 2px rgba(0, 0, 0, 0.3));\n",
              "      fill: #FFFFFF;\n",
              "    }\n",
              "  </style>\n",
              "\n",
              "      <script>\n",
              "        const buttonEl =\n",
              "          document.querySelector('#df-71f4e01a-0fba-404a-ab26-afaad3d09149 button.colab-df-convert');\n",
              "        buttonEl.style.display =\n",
              "          google.colab.kernel.accessAllowed ? 'block' : 'none';\n",
              "\n",
              "        async function convertToInteractive(key) {\n",
              "          const element = document.querySelector('#df-71f4e01a-0fba-404a-ab26-afaad3d09149');\n",
              "          const dataTable =\n",
              "            await google.colab.kernel.invokeFunction('convertToInteractive',\n",
              "                                                     [key], {});\n",
              "          if (!dataTable) return;\n",
              "\n",
              "          const docLinkHtml = 'Like what you see? Visit the ' +\n",
              "            '<a target=\"_blank\" href=https://colab.research.google.com/notebooks/data_table.ipynb>data table notebook</a>'\n",
              "            + ' to learn more about interactive tables.';\n",
              "          element.innerHTML = '';\n",
              "          dataTable['output_type'] = 'display_data';\n",
              "          await google.colab.output.renderOutput(dataTable, element);\n",
              "          const docLink = document.createElement('div');\n",
              "          docLink.innerHTML = docLinkHtml;\n",
              "          element.appendChild(docLink);\n",
              "        }\n",
              "      </script>\n",
              "    </div>\n",
              "  </div>\n",
              "  "
            ]
          },
          "metadata": {},
          "execution_count": 62
        }
      ]
    },
    {
      "cell_type": "code",
      "source": [
        "cf_matrix = confusion_matrix(df['label'], df['BERT_label'])"
      ],
      "metadata": {
        "id": "5BjHJkP8kFdP"
      },
      "execution_count": 38,
      "outputs": []
    },
    {
      "cell_type": "code",
      "source": [
        "df_cm = pd.DataFrame(cf_matrix / np.sum(cf_matrix, axis=1), index = [i for i in range(3)],\n",
        "                     columns = [i for i in range(3)])"
      ],
      "metadata": {
        "id": "pw12UD9_kFf5"
      },
      "execution_count": 45,
      "outputs": []
    },
    {
      "cell_type": "code",
      "source": [
        "plt.figure(figsize = (3,3))\n",
        "sn.heatmap(df_cm, annot=True)\n",
        "plt.show()"
      ],
      "metadata": {
        "colab": {
          "base_uri": "https://localhost:8080/",
          "height": 215
        },
        "id": "YjIVnSQLkFiY",
        "outputId": "39140efc-5caa-4f77-f1f5-b160a4f4a32a"
      },
      "execution_count": 46,
      "outputs": [
        {
          "output_type": "display_data",
          "data": {
            "text/plain": [
              "<Figure size 216x216 with 2 Axes>"
            ],
            "image/png": "[encoded data removed]"
          },
          "metadata": {
            "needs_background": "light"
          }
        }
      ]
    },
    {
      "cell_type": "code",
      "source": [
        "print(metrics.classification_report(df['label'], df['BERT_label'], digits=3))"
      ],
      "metadata": {
        "colab": {
          "base_uri": "https://localhost:8080/"
        },
        "id": "pKEvwX10vO7G",
        "outputId": "8cd498d8-8466-4e8c-c645-33520288f229"
      },
      "execution_count": 64,
      "outputs": [
        {
          "output_type": "stream",
          "name": "stdout",
          "text": [
            "              precision    recall  f1-score   support\n",
            "\n",
            "           0      0.826     1.000     0.905        19\n",
            "           1      0.667     0.800     0.727         5\n",
            "           2      1.000     0.167     0.286         6\n",
            "\n",
            "    accuracy                          0.800        30\n",
            "   macro avg      0.831     0.656     0.639        30\n",
            "weighted avg      0.834     0.800     0.751        30\n",
            "\n"
          ]
        }
      ]
    }
  ]
}