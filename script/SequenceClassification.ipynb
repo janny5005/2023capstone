{
  "nbformat": 4,
  "nbformat_minor": 0,
  "metadata": {
    "colab": {
      "provenance": [],
      "machine_shape": "hm"
    },
    "kernelspec": {
      "name": "python3",
      "display_name": "Python 3"
    },
    "language_info": {
      "name": "python"
    },
    "accelerator": "GPU",
    "gpuClass": "standard"
  },
  "cells": [
    {
      "cell_type": "markdown",
      "source": [
        "## Install Libraries"
      ],
      "metadata": {
        "id": "psLAHX-ibM_u"
      }
    },
    {
      "cell_type": "code",
      "source": [
        "!pip install transformers~=2.11.0"
      ],
      "metadata": {
        "colab": {
          "base_uri": "https://localhost:8080/"
        },
        "id": "QarvIBQ2ao5X",
        "outputId": "64816dd4-0bbe-4a1d-b9c0-4751b1beb440"
      },
      "execution_count": 1,
      "outputs": [
        {
          "output_type": "stream",
          "name": "stdout",
          "text": [
            "Looking in indexes: https://pypi.org/simple, https://us-python.pkg.dev/colab-wheels/public/simple/\n",
            "Requirement already satisfied: transformers~=2.11.0 in /usr/local/lib/python3.8/dist-packages (2.11.0)\n",
            "Requirement already satisfied: tqdm>=4.27 in /usr/local/lib/python3.8/dist-packages (from transformers~=2.11.0) (4.64.1)\n",
            "Requirement already satisfied: filelock in /usr/local/lib/python3.8/dist-packages (from transformers~=2.11.0) (3.9.0)\n",
            "Requirement already satisfied: requests in /usr/local/lib/python3.8/dist-packages (from transformers~=2.11.0) (2.25.1)\n",
            "Requirement already satisfied: packaging in /usr/local/lib/python3.8/dist-packages (from transformers~=2.11.0) (23.0)\n",
            "Requirement already satisfied: tokenizers==0.7.0 in /usr/local/lib/python3.8/dist-packages (from transformers~=2.11.0) (0.7.0)\n",
            "Requirement already satisfied: regex!=2019.12.17 in /usr/local/lib/python3.8/dist-packages (from transformers~=2.11.0) (2022.6.2)\n",
            "Requirement already satisfied: sentencepiece in /usr/local/lib/python3.8/dist-packages (from transformers~=2.11.0) (0.1.97)\n",
            "Requirement already satisfied: sacremoses in /usr/local/lib/python3.8/dist-packages (from transformers~=2.11.0) (0.0.53)\n",
            "Requirement already satisfied: numpy in /usr/local/lib/python3.8/dist-packages (from transformers~=2.11.0) (1.22.4)\n",
            "Requirement already satisfied: urllib3<1.27,>=1.21.1 in /usr/local/lib/python3.8/dist-packages (from requests->transformers~=2.11.0) (1.26.14)\n",
            "Requirement already satisfied: idna<3,>=2.5 in /usr/local/lib/python3.8/dist-packages (from requests->transformers~=2.11.0) (2.10)\n",
            "Requirement already satisfied: chardet<5,>=3.0.2 in /usr/local/lib/python3.8/dist-packages (from requests->transformers~=2.11.0) (4.0.0)\n",
            "Requirement already satisfied: certifi>=2017.4.17 in /usr/local/lib/python3.8/dist-packages (from requests->transformers~=2.11.0) (2022.12.7)\n",
            "Requirement already satisfied: click in /usr/local/lib/python3.8/dist-packages (from sacremoses->transformers~=2.11.0) (8.1.3)\n",
            "Requirement already satisfied: joblib in /usr/local/lib/python3.8/dist-packages (from sacremoses->transformers~=2.11.0) (1.2.0)\n",
            "Requirement already satisfied: six in /usr/local/lib/python3.8/dist-packages (from sacremoses->transformers~=2.11.0) (1.15.0)\n"
          ]
        }
      ]
    },
    {
      "cell_type": "code",
      "source": [
        "!pip install pytorch_pretrained_bert"
      ],
      "metadata": {
        "colab": {
          "base_uri": "https://localhost:8080/"
        },
        "id": "WjdiD93JbKhs",
        "outputId": "d5fa0bb1-0d26-4752-8d17-074d22ec0675"
      },
      "execution_count": 2,
      "outputs": [
        {
          "output_type": "stream",
          "name": "stdout",
          "text": [
            "Looking in indexes: https://pypi.org/simple, https://us-python.pkg.dev/colab-wheels/public/simple/\n",
            "Requirement already satisfied: pytorch_pretrained_bert in /usr/local/lib/python3.8/dist-packages (0.6.2)\n",
            "Requirement already satisfied: requests in /usr/local/lib/python3.8/dist-packages (from pytorch_pretrained_bert) (2.25.1)\n",
            "Requirement already satisfied: tqdm in /usr/local/lib/python3.8/dist-packages (from pytorch_pretrained_bert) (4.64.1)\n",
            "Requirement already satisfied: regex in /usr/local/lib/python3.8/dist-packages (from pytorch_pretrained_bert) (2022.6.2)\n",
            "Requirement already satisfied: torch>=0.4.1 in /usr/local/lib/python3.8/dist-packages (from pytorch_pretrained_bert) (1.13.1+cu116)\n",
            "Requirement already satisfied: numpy in /usr/local/lib/python3.8/dist-packages (from pytorch_pretrained_bert) (1.22.4)\n",
            "Requirement already satisfied: boto3 in /usr/local/lib/python3.8/dist-packages (from pytorch_pretrained_bert) (1.26.82)\n",
            "Requirement already satisfied: typing-extensions in /usr/local/lib/python3.8/dist-packages (from torch>=0.4.1->pytorch_pretrained_bert) (4.5.0)\n",
            "Requirement already satisfied: jmespath<2.0.0,>=0.7.1 in /usr/local/lib/python3.8/dist-packages (from boto3->pytorch_pretrained_bert) (1.0.1)\n",
            "Requirement already satisfied: s3transfer<0.7.0,>=0.6.0 in /usr/local/lib/python3.8/dist-packages (from boto3->pytorch_pretrained_bert) (0.6.0)\n",
            "Requirement already satisfied: botocore<1.30.0,>=1.29.82 in /usr/local/lib/python3.8/dist-packages (from boto3->pytorch_pretrained_bert) (1.29.82)\n",
            "Requirement already satisfied: certifi>=2017.4.17 in /usr/local/lib/python3.8/dist-packages (from requests->pytorch_pretrained_bert) (2022.12.7)\n",
            "Requirement already satisfied: chardet<5,>=3.0.2 in /usr/local/lib/python3.8/dist-packages (from requests->pytorch_pretrained_bert) (4.0.0)\n",
            "Requirement already satisfied: urllib3<1.27,>=1.21.1 in /usr/local/lib/python3.8/dist-packages (from requests->pytorch_pretrained_bert) (1.26.14)\n",
            "Requirement already satisfied: idna<3,>=2.5 in /usr/local/lib/python3.8/dist-packages (from requests->pytorch_pretrained_bert) (2.10)\n",
            "Requirement already satisfied: python-dateutil<3.0.0,>=2.1 in /usr/local/lib/python3.8/dist-packages (from botocore<1.30.0,>=1.29.82->boto3->pytorch_pretrained_bert) (2.8.2)\n",
            "Requirement already satisfied: six>=1.5 in /usr/local/lib/python3.8/dist-packages (from python-dateutil<3.0.0,>=2.1->botocore<1.30.0,>=1.29.82->boto3->pytorch_pretrained_bert) (1.15.0)\n"
          ]
        }
      ]
    },
    {
      "cell_type": "code",
      "source": [
        "!pip install tqdm"
      ],
      "metadata": {
        "colab": {
          "base_uri": "https://localhost:8080/"
        },
        "id": "ULou06Z5bUGd",
        "outputId": "20d5e980-ad85-4388-c730-1573802c634b"
      },
      "execution_count": 3,
      "outputs": [
        {
          "output_type": "stream",
          "name": "stdout",
          "text": [
            "Looking in indexes: https://pypi.org/simple, https://us-python.pkg.dev/colab-wheels/public/simple/\n",
            "Requirement already satisfied: tqdm in /usr/local/lib/python3.8/dist-packages (4.64.1)\n"
          ]
        }
      ]
    },
    {
      "cell_type": "markdown",
      "source": [
        "## Connect to Google Drive"
      ],
      "metadata": {
        "id": "MwswTFhymZtx"
      }
    },
    {
      "cell_type": "code",
      "source": [
        "from google.colab import drive\n",
        "drive.mount('/content/drive')"
      ],
      "metadata": {
        "colab": {
          "base_uri": "https://localhost:8080/"
        },
        "id": "EH4pe4CLmZ4J",
        "outputId": "09cdd2de-dcc3-420c-e745-fb5bbbec82e2"
      },
      "execution_count": 4,
      "outputs": [
        {
          "output_type": "stream",
          "name": "stdout",
          "text": [
            "Drive already mounted at /content/drive; to attempt to forcibly remount, call drive.mount(\"/content/drive\", force_remount=True).\n"
          ]
        }
      ]
    },
    {
      "cell_type": "code",
      "source": [
        "import os\n",
        "os.chdir(\"/content/drive/MyDrive\")"
      ],
      "metadata": {
        "id": "DepiXFaZmj95"
      },
      "execution_count": 5,
      "outputs": []
    },
    {
      "cell_type": "markdown",
      "source": [
        "## Parameters"
      ],
      "metadata": {
        "id": "J4pchGlNoovq"
      }
    },
    {
      "cell_type": "code",
      "source": [
        "all_data_path = './data/capstone/CLAWS/covidhate/annotated_tweets_w_text.csv'\n",
        "part_data_path = './data/capstone/CLAWS/covidhate/part_labeled_tweet.csv'\n",
        "#data_path = './data/part_labeled_tweet.csv'\n",
        "data_path = all_data_path"
      ],
      "metadata": {
        "id": "DbhPwu1smlmS"
      },
      "execution_count": 6,
      "outputs": []
    },
    {
      "cell_type": "code",
      "source": [
        "none_save_path = './Colab Notebooks/ucla_capstone/saved_model/none'\n",
        "bert_save_path = './Colab Notebooks/ucla_capstone/saved_model/bert'\n",
        "roberta_save_path = './Colab Notebooks/ucla_capstone/saved_model/roberta'"
      ],
      "metadata": {
        "id": "NpZjq7ztpKWH"
      },
      "execution_count": 7,
      "outputs": []
    },
    {
      "cell_type": "code",
      "source": [
        "batchsize = 8"
      ],
      "metadata": {
        "id": "vGo1KXEEo_W6"
      },
      "execution_count": 8,
      "outputs": []
    },
    {
      "cell_type": "code",
      "source": [
        "seed_num = 0"
      ],
      "metadata": {
        "id": "1Ypeg_iP1GIX"
      },
      "execution_count": 9,
      "outputs": []
    },
    {
      "cell_type": "code",
      "source": [
        "training_stats_dict = {}"
      ],
      "metadata": {
        "id": "fTEgg2Ri4_oO"
      },
      "execution_count": 10,
      "outputs": []
    },
    {
      "cell_type": "markdown",
      "source": [
        "## Code"
      ],
      "metadata": {
        "id": "4_XmfbDvbbRQ"
      }
    },
    {
      "cell_type": "code",
      "execution_count": 11,
      "metadata": {
        "id": "4xFudb4HZv9v"
      },
      "outputs": [],
      "source": [
        "# Basic and System\n",
        "import pandas as pd\n",
        "import numpy as np\n",
        "import time, datetime, random, glob, os, sys, joblib, argparse, json\n",
        "# Torch\n",
        "import torch\n",
        "from torch.utils.data import TensorDataset, Subset\n",
        "from torch.utils.data import DataLoader, RandomSampler, SequentialSampler\n",
        "from torch import nn\n",
        "from torch.nn import functional as F\n",
        "# Pretrained Models\n",
        "from pytorch_pretrained_bert import BertModel\n",
        "from transformers import BertTokenizer, BertForSequenceClassification, BertConfig\n",
        "from transformers import RobertaTokenizer, RobertaForSequenceClassification\n",
        "from tqdm import tqdm \n",
        "# Scheduler\n",
        "from transformers import get_linear_schedule_with_warmup\n",
        "# OPtimizer\n",
        "from transformers import AdamW\n",
        "# Kfold Cross Validation\n",
        "from sklearn.model_selection import KFold\n",
        "# Evaluation\n",
        "import matplotlib.pyplot as plt\n",
        "from sklearn import metrics\n",
        "#from sklearn.metrics import accuracy_score, f1_score, precision_score, recall_score\n",
        "from sklearn.metrics import confusion_matrix\n",
        "import seaborn as sn"
      ]
    },
    {
      "cell_type": "code",
      "source": [
        "# Global Variables\n",
        "USING_GPU = False\n",
        "DEVICE = None"
      ],
      "metadata": {
        "id": "pOfyaHj7av2_"
      },
      "execution_count": 12,
      "outputs": []
    },
    {
      "cell_type": "code",
      "source": [
        "# Pretrained models dictionary\n",
        "# Try in the future: Albert\n",
        "pretrained_models = {'bert': 'bert-base-uncased', 'roberta': 'roberta-base'}"
      ],
      "metadata": {
        "id": "gTNRo7cnb-K3"
      },
      "execution_count": 13,
      "outputs": []
    },
    {
      "cell_type": "code",
      "source": [
        "random.seed(seed_num)\n",
        "np.random.seed(seed_num)\n",
        "torch.manual_seed(seed_num)\n",
        "torch.cuda.manual_seed_all(seed_num)"
      ],
      "metadata": {
        "id": "jY-AhH3N1IYB"
      },
      "execution_count": 14,
      "outputs": []
    },
    {
      "cell_type": "code",
      "source": [
        "# Format time display\n",
        "def format_time(seconds):\n",
        "    seconds_round = int(round((seconds)))\n",
        "    return str(datetime.timedelta(seconds=seconds_round)) # hh:mm:ss"
      ],
      "metadata": {
        "id": "f5pCIOgyX8te"
      },
      "execution_count": 15,
      "outputs": []
    },
    {
      "cell_type": "code",
      "source": [
        "# Prepare data for pytorch dataloader\n",
        "def prepare_dataset(sentences, labels, tokenizer, max_length=100):\n",
        "    input_ids = []\n",
        "    attention_masks = []\n",
        "    for sent in sentences:\n",
        "        # print(sent)\n",
        "        try:\n",
        "            encoded_dict = tokenizer.encode_plus(\n",
        "                                sent,\n",
        "                                add_special_tokens = True,\n",
        "                                max_length = max_length,\n",
        "                                truncation=True,\n",
        "                                pad_to_max_length = True,\n",
        "                                return_attention_mask = True,\n",
        "                                return_tensors = 'pt'\n",
        "                           )\n",
        "        except:\n",
        "            print(\"some tweet sent is not correct\")\n",
        "            print(sent)\n",
        "            exit(0)\n",
        "\n",
        "        input_ids.append(encoded_dict['input_ids'])\n",
        "        attention_masks.append(encoded_dict['attention_mask'])\n",
        "\n",
        "    input_ids = torch.cat(input_ids, dim=0)\n",
        "    attention_masks = torch.cat(attention_masks, dim=0)\n",
        "    labels = torch.tensor(labels)\n",
        "    return input_ids, attention_masks, labels"
      ],
      "metadata": {
        "id": "K1oI7oXzcyRT"
      },
      "execution_count": 16,
      "outputs": []
    },
    {
      "cell_type": "code",
      "source": [
        "def train(fold, model, device, train_loader, optimizer, scheduler, epoch):\n",
        "    print('Training...')\n",
        "\n",
        "    # Measure how long the training epoch takes.\n",
        "    t0 = time.time()\n",
        "\n",
        "    # Reset the total loss for this epoch.\n",
        "    total_train_loss = 0\n",
        "    model.train()\n",
        "    # For each batch of training data...\n",
        "    for step, batch in enumerate(train_loader):\n",
        "        #print('step: '+str(step))\n",
        "        model.zero_grad()\n",
        "        \n",
        "        if step % 40 == 0 and not step == 0:\n",
        "            elapsed = format_time(time.time() - t0)\n",
        "            print('  Batch {:>5,}  of  {:>5,}.    Elapsed: {:}.'.format(step, len(train_loader), elapsed))\n",
        "        \n",
        "        b_input_ids = batch[0].to(DEVICE)\n",
        "        b_input_mask = batch[1].to(DEVICE)\n",
        "        b_labels = batch[2].unsqueeze(0).to(DEVICE)\n",
        "        #print(b_input_ids.shape)\n",
        "        #print(b_input_mask.shape)\n",
        "        #print(b_labels.shape)\n",
        "        # https://stackoverflow.com/questions/70548318/bertforsequenceclassification-target-size-torch-size1-16-must-be-the-same\n",
        "        #b_labels = torch.nn.functional.one_hot(b_labels.to(torch.int64), 3)\n",
        "        #print(type(b_labels))\n",
        "        #print(b_labels.shape)\n",
        "        #loss, logits, hidden_states = model(b_input_ids,\n",
        "        loss, logits = model(b_input_ids,\n",
        "                            token_type_ids=None,\n",
        "                            attention_mask=b_input_mask,\n",
        "                            labels=b_labels)\n",
        "        #print('run more')\n",
        "        total_train_loss += loss.item()\n",
        "        #loss.item()\n",
        "        loss.backward()\n",
        "        torch.nn.utils.clip_grad_norm_(model.parameters(), 1.0)\n",
        "        optimizer.step()\n",
        "        scheduler.step()\n",
        "\n",
        "        del loss, logits\n",
        "\n",
        "    avg_train_loss = total_train_loss / len(train_loader)\n",
        "\n",
        "    training_time = format_time(time.time() - t0)\n",
        "    print(\"\")\n",
        "    print(\"  Average training loss: {0:.2f}\".format(avg_train_loss))\n",
        "    print(\"  Training epoch took: {:}\".format(training_time))\n",
        "\n",
        "    return avg_train_loss, training_time"
      ],
      "metadata": {
        "id": "042JRUkecyUC"
      },
      "execution_count": 17,
      "outputs": []
    },
    {
      "cell_type": "code",
      "source": [
        "# Function to calculate the accuracy of our predictions vs labels\n",
        "def flat_accuracy(preds, labels):\n",
        "    pred_flat = np.argmax(preds, axis=1).flatten()\n",
        "    labels_flat = labels.flatten()\n",
        "    return np.sum(pred_flat == labels_flat) / len(labels_flat)"
      ],
      "metadata": {
        "id": "1bAzPi6vw6vo"
      },
      "execution_count": 18,
      "outputs": []
    },
    {
      "cell_type": "code",
      "source": [
        "def validation(fold, model, device, val_loader, val_data_len):\n",
        "    print(\"\")\n",
        "    print(\"Running Validation...\")\n",
        "\n",
        "    # Measure how long the validation epoch takes.\n",
        "    t0 = time.time()\n",
        "\n",
        "    model.eval()\n",
        "\n",
        "    \n",
        "    # Tracking variables \n",
        "    total_eval_accuracy = 0\n",
        "    total_eval_loss = 0\n",
        "    nb_eval_steps = 0\n",
        "\n",
        "    #predictions, true_labels = [], []\n",
        "    for batch in tqdm(val_loader, total=val_data_len):\n",
        "        # b_labels are true labels\n",
        "        b_input_ids = batch[0].to(DEVICE)\n",
        "        b_input_mask = batch[1].to(DEVICE)\n",
        "        b_labels = batch[2].unsqueeze(0).to(DEVICE)\n",
        "        #b_input_ids, b_input_mask, b_labels = batch\n",
        "        with torch.no_grad():\n",
        "            loss, logits = model(b_input_ids,\n",
        "                            token_type_ids=None,\n",
        "                            attention_mask=b_input_mask,\n",
        "                            labels=b_labels)\n",
        "            #b_proba = outputs[0]\n",
        "\n",
        "            #print(b_proba)\n",
        "            #print(b_proba.item())\n",
        "            # Accumulate the validation loss.\n",
        "            total_eval_loss += loss.item()\n",
        "\n",
        "            #proba = b_proba.detach().cpu().numpy()\n",
        "            #label_ids = batch[2].numpy()\n",
        "\n",
        "            #predictions.append(proba)\n",
        "            #true_labels.append(label_ids)\n",
        "\n",
        "            # Move logits and labels to CPU\n",
        "            logits = logits.detach().cpu().numpy()\n",
        "            label_ids = b_labels.to('cpu').numpy()\n",
        "\n",
        "            # Calculate the accuracy for this batch of test sentences, and\n",
        "            # accumulate it over all batches.\n",
        "            total_eval_accuracy += flat_accuracy(logits, label_ids)\n",
        "\n",
        "    # Calculate the average loss over all of the batches.\n",
        "    avg_val_accuracy = total_eval_accuracy / len(val_loader)\n",
        "    print(\"\")\n",
        "    print(\"  Average validation  accuracy: {0:.2f}\".format(avg_val_accuracy))\n",
        "    \n",
        "    # Calculate the average loss over all of the batches.\n",
        "    avg_val_loss = total_eval_loss / len(val_loader)\n",
        "\n",
        "    val_time = format_time(time.time() - t0)\n",
        "    print(\"  Average validation loss: {0:.2f}\".format(avg_val_loss))\n",
        "    print(\"  Validation epoch took: {:}\".format(val_time))\n",
        "\n",
        "    return avg_val_accuracy, avg_val_loss, val_time"
      ],
      "metadata": {
        "id": "JGSJos5QcyWy"
      },
      "execution_count": 19,
      "outputs": []
    },
    {
      "cell_type": "code",
      "source": [
        "# Wrapper function for fine-tuning\n",
        "# batch size, epochs, and learning rate are from CLAWS paper\n",
        "def train_bert_model(model, dataset, train_stats, batch_size, epochs=2, learning_rate=1e-5, epsilon=1e-8):\n",
        "\n",
        "    if USING_GPU:\n",
        "        print(\"Using GPU\", DEVICE)\n",
        "        model.cuda(DEVICE)\n",
        "\n",
        "    # Measure how long the training takes.\n",
        "    total_t0 = time.time()\n",
        "\n",
        "    # prepare cross validation\n",
        "    n_fold = 5\n",
        "    kfold = KFold(n_splits=n_fold, shuffle=True)\n",
        "\n",
        "    # for each fold\n",
        "    for fold, (train_idx, val_idx) in enumerate(kfold.split(dataset)):\n",
        "        print()\n",
        "        print('------------fold no---------{}----------------------'.format(fold + 1))\n",
        "        #print(train_idx)\n",
        "        #print(val_idx)\n",
        "        train_tensor = Subset(dataset, train_idx)\n",
        "        val_tensor = Subset(dataset, val_idx)\n",
        "        val_data_len = len(val_idx)\n",
        "\n",
        "        trainloader = DataLoader(\n",
        "            dataset,\n",
        "            batch_size=batch_size,\n",
        "            sampler=RandomSampler(train_tensor))\n",
        "        valloader = DataLoader(\n",
        "            dataset,\n",
        "            batch_size=batch_size,\n",
        "            sampler=SequentialSampler(val_tensor))\n",
        "        \n",
        "        total_steps = len(trainloader) * epochs\n",
        "        optimizer = AdamW(model.parameters(),\n",
        "                          lr=learning_rate,\n",
        "                          eps=epsilon\n",
        "                          )\n",
        "        scheduler = get_linear_schedule_with_warmup(optimizer,\n",
        "                               num_warmup_steps=0,  # Default value in run_glue.py\n",
        "                               num_training_steps=total_steps)\n",
        "        \n",
        "        for epoch_i in range(0, epochs):\n",
        "            print()\n",
        "            print('======== Epoch {:} / {:} ========'.format(epoch_i + 1, epochs))\n",
        "            avg_train_loss, training_time = train(fold, model, DEVICE, trainloader, optimizer, scheduler, epochs)\n",
        "            avg_val_accuracy, avg_val_loss, validation_time = validation(fold, model, DEVICE, valloader, val_data_len)\n",
        "            # Record all statistics from this epoch.\n",
        "            training_stats.append(\n",
        "                {\n",
        "                    'fold': fold + 1,\n",
        "                    'epoch': epoch_i + 1,\n",
        "                    'Training Loss': avg_train_loss,\n",
        "                    'Valid. Loss': avg_val_loss,\n",
        "                    'Valid. Accur.': avg_val_accuracy,\n",
        "                    'Training Time': training_time,\n",
        "                    'Validation Time': validation_time\n",
        "                }\n",
        "            )\n",
        "\n",
        "    total_time = format_time(time.time() - total_t0)\n",
        "    print(\"\")\n",
        "    print(\"Training complete!\")\n",
        "    \n",
        "    print(\"Total training took: {:}\".format(total_time))"
      ],
      "metadata": {
        "id": "4jE2K2IpcyZk"
      },
      "execution_count": 20,
      "outputs": []
    },
    {
      "cell_type": "code",
      "source": [
        "# Predict data\n",
        "def run_bert_model(model, test_dataset, batch_size):    \n",
        "    print('Predicting labels for {:,} test sentences...'.format(len(test_dataset)))\n",
        "    \n",
        "    if USING_GPU:\n",
        "        print(\"Using GPU\", DEVICE)\n",
        "        model.cuda(DEVICE)\n",
        "\n",
        "    model.eval()\n",
        "    predictions , true_labels = [], []\n",
        "    prediction_sampler = SequentialSampler(test_dataset)\n",
        "    prediction_dataloader = DataLoader(test_dataset, sampler=prediction_sampler, batch_size=batch_size)\n",
        "    for batch in tqdm(prediction_dataloader, total=len(test_dataset)):\n",
        "        \n",
        "        b_input_ids, b_input_mask, b_labels = batch\n",
        "        with torch.no_grad():\n",
        "            outputs = model(batch[0].to(DEVICE), token_type_ids=None,\n",
        "                                  attention_mask=batch[1].to(DEVICE))\n",
        "            b_proba = outputs[0]\n",
        "\n",
        "            proba = b_proba.detach().cpu().numpy()\n",
        "            label_ids = batch[2].numpy()\n",
        "\n",
        "            predictions.append(proba)\n",
        "            true_labels.append(label_ids)\n",
        "\n",
        "    print('    DONE.')\n",
        "   \n",
        "    flat_predictions = np.concatenate(predictions, axis=0)\n",
        "    return flat_predictions"
      ],
      "metadata": {
        "id": "4SPuk_csh0tC"
      },
      "execution_count": 21,
      "outputs": []
    },
    {
      "cell_type": "code",
      "source": [
        "# If there's a GPU available...\n",
        "if torch.cuda.is_available():\n",
        "    # Tell PyTorch to use the GPU.    \n",
        "    DEVICE = torch.device(\"cuda\")\n",
        "    print('There are %d GPU(s) available.' % torch.cuda.device_count())\n",
        "    print('We will use the GPU:', torch.cuda.get_device_name(0))\n",
        "    USING_GPU = True\n",
        "else:\n",
        "    print('No GPU available, using the CPU instead.')\n",
        "    DEVICE = torch.device(\"cpu\")\n",
        "    USING_GPU = False"
      ],
      "metadata": {
        "colab": {
          "base_uri": "https://localhost:8080/"
        },
        "id": "jaAtAq-hcycH",
        "outputId": "1f77b0ac-5057-4cc7-e1d7-722c2023e585"
      },
      "execution_count": 22,
      "outputs": [
        {
          "output_type": "stream",
          "name": "stdout",
          "text": [
            "There are 1 GPU(s) available.\n",
            "We will use the GPU: Tesla T4\n"
          ]
        }
      ]
    },
    {
      "cell_type": "code",
      "source": [
        "df = pd.read_csv(data_path)\n",
        "df = df[df['Text'].notna()]\n",
        "X = df.Text.values # x\n",
        "Y = list(df['label']) # y_true"
      ],
      "metadata": {
        "id": "mPy1HwuQoWf2"
      },
      "execution_count": 23,
      "outputs": []
    },
    {
      "cell_type": "markdown",
      "source": [
        "## No Pretrained"
      ],
      "metadata": {
        "id": "j1hCOQ1oBMNT"
      }
    },
    {
      "cell_type": "code",
      "source": [
        "trainedBertModel = 'none'"
      ],
      "metadata": {
        "id": "DfamrnEBBfa0"
      },
      "execution_count": 24,
      "outputs": []
    },
    {
      "cell_type": "code",
      "source": [
        "if trainedBertModel == 'none':\n",
        "    config = BertConfig() # You can also change the architecture using this config class\n",
        "    config.num_labels = 3\n",
        "    model = BertForSequenceClassification(config=config)\n",
        "    tokenizer = BertTokenizer.from_pretrained('bert-base-uncased', do_lower_case=True)\n",
        "elif trainedBertModel == 'bert':\n",
        "    used_bert_model = pretrained_models[trainedBertModel]\n",
        "    model = BertForSequenceClassification.from_pretrained(used_bert_model, num_labels = 3)\n",
        "    tokenizer = BertTokenizer.from_pretrained(used_bert_model, do_lower_case=True)\n",
        "elif trainedBertModel == 'roberta':\n",
        "    used_bert_model = pretrained_models[trainedBertModel]\n",
        "    model = RobertaForSequenceClassification.from_pretrained(used_bert_model, num_labels = 3)\n",
        "    tokenizer = RobertaTokenizer.from_pretrained(used_bert_model, do_lower_case=True)\n",
        "\n",
        "\n",
        "input_ids, attention_masks, labels = prepare_dataset(X, Y, tokenizer, max_length=400)\n",
        "dataset = TensorDataset(input_ids, attention_masks, labels)"
      ],
      "metadata": {
        "id": "tLGK5FWgBLsp"
      },
      "execution_count": 25,
      "outputs": []
    },
    {
      "cell_type": "markdown",
      "source": [
        "### 5-fold cross validation"
      ],
      "metadata": {
        "id": "h3ewdlmKDQbu"
      }
    },
    {
      "cell_type": "code",
      "source": [
        "# Store training states such as training and validation loss, \n",
        "# validation accuracy, and timings for analysis\n",
        "training_stats = []\n",
        "train_bert_model(model, dataset, training_stats, batch_size=batchsize)\n",
        "training_stats_dict[trainedBertModel] = training_stats"
      ],
      "metadata": {
        "colab": {
          "base_uri": "https://localhost:8080/"
        },
        "id": "y2oUbsAeB5_L",
        "outputId": "7e25d0df-d651-4be4-9d06-e46c9a1033ba"
      },
      "execution_count": 26,
      "outputs": [
        {
          "output_type": "stream",
          "name": "stdout",
          "text": [
            "Using GPU cuda\n",
            "\n",
            "------------fold no---------1----------------------\n",
            "\n",
            "======== Epoch 1 / 2 ========\n",
            "Training...\n",
            "  Batch    40  of    229.    Elapsed: 0:00:22.\n",
            "  Batch    80  of    229.    Elapsed: 0:00:43.\n",
            "  Batch   120  of    229.    Elapsed: 0:01:05.\n",
            "  Batch   160  of    229.    Elapsed: 0:01:27.\n",
            "  Batch   200  of    229.    Elapsed: 0:01:49.\n",
            "\n",
            "  Average training loss: 0.98\n",
            "  Training epoch took: 0:02:05\n",
            "\n",
            "Running Validation...\n"
          ]
        },
        {
          "output_type": "stream",
          "name": "stderr",
          "text": [
            " 13%|█▎        | 58/458 [00:11<01:18,  5.07it/s]\n"
          ]
        },
        {
          "output_type": "stream",
          "name": "stdout",
          "text": [
            "\n",
            "  Average validation  accuracy: 0.58\n",
            "  Average validation loss: 0.94\n",
            "  Validation epoch took: 0:00:11\n",
            "\n",
            "======== Epoch 2 / 2 ========\n",
            "Training...\n",
            "  Batch    40  of    229.    Elapsed: 0:00:23.\n",
            "  Batch    80  of    229.    Elapsed: 0:00:45.\n",
            "  Batch   120  of    229.    Elapsed: 0:01:08.\n",
            "  Batch   160  of    229.    Elapsed: 0:01:31.\n",
            "  Batch   200  of    229.    Elapsed: 0:01:54.\n",
            "\n",
            "  Average training loss: 0.85\n",
            "  Training epoch took: 0:02:11\n",
            "\n",
            "Running Validation...\n"
          ]
        },
        {
          "output_type": "stream",
          "name": "stderr",
          "text": [
            " 13%|█▎        | 58/458 [00:11<01:22,  4.84it/s]\n"
          ]
        },
        {
          "output_type": "stream",
          "name": "stdout",
          "text": [
            "\n",
            "  Average validation  accuracy: 0.64\n",
            "  Average validation loss: 0.79\n",
            "  Validation epoch took: 0:00:12\n",
            "\n",
            "------------fold no---------2----------------------\n",
            "\n",
            "======== Epoch 1 / 2 ========\n",
            "Training...\n",
            "  Batch    40  of    229.    Elapsed: 0:00:23.\n",
            "  Batch    80  of    229.    Elapsed: 0:00:47.\n",
            "  Batch   120  of    229.    Elapsed: 0:01:10.\n",
            "  Batch   160  of    229.    Elapsed: 0:01:34.\n",
            "  Batch   200  of    229.    Elapsed: 0:01:57.\n",
            "\n",
            "  Average training loss: 0.73\n",
            "  Training epoch took: 0:02:15\n",
            "\n",
            "Running Validation...\n"
          ]
        },
        {
          "output_type": "stream",
          "name": "stderr",
          "text": [
            " 13%|█▎        | 58/458 [00:12<01:24,  4.76it/s]\n"
          ]
        },
        {
          "output_type": "stream",
          "name": "stdout",
          "text": [
            "\n",
            "  Average validation  accuracy: 0.69\n",
            "  Average validation loss: 0.99\n",
            "  Validation epoch took: 0:00:12\n",
            "\n",
            "======== Epoch 2 / 2 ========\n",
            "Training...\n",
            "  Batch    40  of    229.    Elapsed: 0:00:24.\n",
            "  Batch    80  of    229.    Elapsed: 0:00:47.\n",
            "  Batch   120  of    229.    Elapsed: 0:01:11.\n",
            "  Batch   160  of    229.    Elapsed: 0:01:34.\n",
            "  Batch   200  of    229.    Elapsed: 0:01:58.\n",
            "\n",
            "  Average training loss: 0.54\n",
            "  Training epoch took: 0:02:15\n",
            "\n",
            "Running Validation...\n"
          ]
        },
        {
          "output_type": "stream",
          "name": "stderr",
          "text": [
            " 13%|█▎        | 58/458 [00:12<01:24,  4.74it/s]\n"
          ]
        },
        {
          "output_type": "stream",
          "name": "stdout",
          "text": [
            "\n",
            "  Average validation  accuracy: 0.83\n",
            "  Average validation loss: 0.46\n",
            "  Validation epoch took: 0:00:12\n",
            "\n",
            "------------fold no---------3----------------------\n",
            "\n",
            "======== Epoch 1 / 2 ========\n",
            "Training...\n",
            "  Batch    40  of    229.    Elapsed: 0:00:24.\n",
            "  Batch    80  of    229.    Elapsed: 0:00:47.\n",
            "  Batch   120  of    229.    Elapsed: 0:01:11.\n",
            "  Batch   160  of    229.    Elapsed: 0:01:34.\n",
            "  Batch   200  of    229.    Elapsed: 0:01:58.\n",
            "\n",
            "  Average training loss: 0.57\n",
            "  Training epoch took: 0:02:15\n",
            "\n",
            "Running Validation...\n"
          ]
        },
        {
          "output_type": "stream",
          "name": "stderr",
          "text": [
            " 13%|█▎        | 58/458 [00:12<01:24,  4.72it/s]\n"
          ]
        },
        {
          "output_type": "stream",
          "name": "stdout",
          "text": [
            "\n",
            "  Average validation  accuracy: 0.85\n",
            "  Average validation loss: 0.37\n",
            "  Validation epoch took: 0:00:12\n",
            "\n",
            "======== Epoch 2 / 2 ========\n",
            "Training...\n",
            "  Batch    40  of    229.    Elapsed: 0:00:24.\n",
            "  Batch    80  of    229.    Elapsed: 0:00:47.\n",
            "  Batch   120  of    229.    Elapsed: 0:01:11.\n",
            "  Batch   160  of    229.    Elapsed: 0:01:35.\n",
            "  Batch   200  of    229.    Elapsed: 0:01:58.\n",
            "\n",
            "  Average training loss: 0.42\n",
            "  Training epoch took: 0:02:16\n",
            "\n",
            "Running Validation...\n"
          ]
        },
        {
          "output_type": "stream",
          "name": "stderr",
          "text": [
            " 13%|█▎        | 58/458 [00:12<01:24,  4.75it/s]\n"
          ]
        },
        {
          "output_type": "stream",
          "name": "stdout",
          "text": [
            "\n",
            "  Average validation  accuracy: 0.86\n",
            "  Average validation loss: 0.34\n",
            "  Validation epoch took: 0:00:12\n",
            "\n",
            "------------fold no---------4----------------------\n",
            "\n",
            "======== Epoch 1 / 2 ========\n",
            "Training...\n",
            "  Batch    40  of    229.    Elapsed: 0:00:24.\n",
            "  Batch    80  of    229.    Elapsed: 0:00:47.\n",
            "  Batch   120  of    229.    Elapsed: 0:01:11.\n",
            "  Batch   160  of    229.    Elapsed: 0:01:35.\n",
            "  Batch   200  of    229.    Elapsed: 0:01:58.\n",
            "\n",
            "  Average training loss: 0.57\n",
            "  Training epoch took: 0:02:15\n",
            "\n",
            "Running Validation...\n"
          ]
        },
        {
          "output_type": "stream",
          "name": "stderr",
          "text": [
            " 13%|█▎        | 58/458 [00:12<01:24,  4.74it/s]\n"
          ]
        },
        {
          "output_type": "stream",
          "name": "stdout",
          "text": [
            "\n",
            "  Average validation  accuracy: 0.84\n",
            "  Average validation loss: 0.52\n",
            "  Validation epoch took: 0:00:12\n",
            "\n",
            "======== Epoch 2 / 2 ========\n",
            "Training...\n",
            "  Batch    40  of    229.    Elapsed: 0:00:24.\n",
            "  Batch    80  of    229.    Elapsed: 0:00:47.\n",
            "  Batch   120  of    229.    Elapsed: 0:01:11.\n",
            "  Batch   160  of    229.    Elapsed: 0:01:35.\n",
            "  Batch   200  of    229.    Elapsed: 0:01:58.\n",
            "\n",
            "  Average training loss: 0.37\n",
            "  Training epoch took: 0:02:16\n",
            "\n",
            "Running Validation...\n"
          ]
        },
        {
          "output_type": "stream",
          "name": "stderr",
          "text": [
            " 13%|█▎        | 58/458 [00:12<01:24,  4.72it/s]\n"
          ]
        },
        {
          "output_type": "stream",
          "name": "stdout",
          "text": [
            "\n",
            "  Average validation  accuracy: 0.89\n",
            "  Average validation loss: 0.28\n",
            "  Validation epoch took: 0:00:12\n",
            "\n",
            "------------fold no---------5----------------------\n",
            "\n",
            "======== Epoch 1 / 2 ========\n",
            "Training...\n",
            "  Batch    40  of    229.    Elapsed: 0:00:24.\n",
            "  Batch    80  of    229.    Elapsed: 0:00:47.\n",
            "  Batch   120  of    229.    Elapsed: 0:01:11.\n",
            "  Batch   160  of    229.    Elapsed: 0:01:35.\n",
            "  Batch   200  of    229.    Elapsed: 0:01:58.\n",
            "\n",
            "  Average training loss: 0.47\n",
            "  Training epoch took: 0:02:15\n",
            "\n",
            "Running Validation...\n"
          ]
        },
        {
          "output_type": "stream",
          "name": "stderr",
          "text": [
            " 13%|█▎        | 58/458 [00:12<01:24,  4.74it/s]\n"
          ]
        },
        {
          "output_type": "stream",
          "name": "stdout",
          "text": [
            "\n",
            "  Average validation  accuracy: 0.85\n",
            "  Average validation loss: 0.51\n",
            "  Validation epoch took: 0:00:12\n",
            "\n",
            "======== Epoch 2 / 2 ========\n",
            "Training...\n",
            "  Batch    40  of    229.    Elapsed: 0:00:24.\n",
            "  Batch    80  of    229.    Elapsed: 0:00:47.\n",
            "  Batch   120  of    229.    Elapsed: 0:01:11.\n",
            "  Batch   160  of    229.    Elapsed: 0:01:35.\n",
            "  Batch   200  of    229.    Elapsed: 0:01:58.\n",
            "\n",
            "  Average training loss: 0.33\n",
            "  Training epoch took: 0:02:15\n",
            "\n",
            "Running Validation...\n"
          ]
        },
        {
          "output_type": "stream",
          "name": "stderr",
          "text": [
            " 13%|█▎        | 58/458 [00:12<01:24,  4.74it/s]"
          ]
        },
        {
          "output_type": "stream",
          "name": "stdout",
          "text": [
            "\n",
            "  Average validation  accuracy: 0.93\n",
            "  Average validation loss: 0.21\n",
            "  Validation epoch took: 0:00:12\n",
            "\n",
            "Training complete!\n",
            "Total training took: 0:24:20\n"
          ]
        },
        {
          "output_type": "stream",
          "name": "stderr",
          "text": [
            "\n"
          ]
        }
      ]
    },
    {
      "cell_type": "markdown",
      "source": [
        "### Predict"
      ],
      "metadata": {
        "id": "EtIUAZ8RDUL-"
      }
    },
    {
      "cell_type": "code",
      "source": [
        "y_pred = np.zeros(len(X))\n",
        "\n",
        "flat_logits = run_bert_model(model, dataset, batch_size=batchsize)\n",
        "y_pred = np.argmax(flat_logits, axis=1).flatten()\n",
        "\n",
        "df['NONE_label'] = y_pred"
      ],
      "metadata": {
        "colab": {
          "base_uri": "https://localhost:8080/"
        },
        "id": "SXn5a24ADUdn",
        "outputId": "e4d0015e-5197-41c9-d37c-5fdfb121bbf8"
      },
      "execution_count": 27,
      "outputs": [
        {
          "output_type": "stream",
          "name": "stdout",
          "text": [
            "Predicting labels for 2,290 test sentences...\n",
            "Using GPU cuda\n"
          ]
        },
        {
          "output_type": "stream",
          "name": "stderr",
          "text": [
            " 13%|█▎        | 287/2290 [01:01<07:06,  4.69it/s]"
          ]
        },
        {
          "output_type": "stream",
          "name": "stdout",
          "text": [
            "    DONE.\n"
          ]
        },
        {
          "output_type": "stream",
          "name": "stderr",
          "text": [
            "\n"
          ]
        }
      ]
    },
    {
      "cell_type": "markdown",
      "source": [
        "### Save Model"
      ],
      "metadata": {
        "id": "grJGwNmgELj-"
      }
    },
    {
      "cell_type": "code",
      "source": [
        "model.save_pretrained(none_save_path)"
      ],
      "metadata": {
        "id": "gAy1m1tZELtX"
      },
      "execution_count": 28,
      "outputs": []
    },
    {
      "cell_type": "markdown",
      "source": [
        "## BERT"
      ],
      "metadata": {
        "id": "LzKnryqSyJiZ"
      }
    },
    {
      "cell_type": "code",
      "source": [
        "trainedBertModel = 'bert'"
      ],
      "metadata": {
        "id": "lJf2Pbqg-LFM"
      },
      "execution_count": 29,
      "outputs": []
    },
    {
      "cell_type": "code",
      "source": [
        "if trainedBertModel == 'bert':\n",
        "    used_bert_model = pretrained_models[trainedBertModel]\n",
        "    model = BertForSequenceClassification.from_pretrained(used_bert_model, num_labels = 3)\n",
        "    tokenizer = BertTokenizer.from_pretrained(used_bert_model, do_lower_case=True)\n",
        "elif trainedBertModel == 'roberta':\n",
        "    used_bert_model = pretrained_models[trainedBertModel]\n",
        "    model = RobertaForSequenceClassification.from_pretrained(used_bert_model, num_labels = 3)\n",
        "    tokenizer = RobertaTokenizer.from_pretrained(used_bert_model, do_lower_case=True)\n",
        "\n",
        "input_ids, attention_masks, labels = prepare_dataset(X, Y, tokenizer, max_length=400)\n",
        "dataset = TensorDataset(input_ids, attention_masks, labels)"
      ],
      "metadata": {
        "id": "VtiMLjRSojDh"
      },
      "execution_count": 30,
      "outputs": []
    },
    {
      "cell_type": "markdown",
      "source": [
        "### 5-fold cross validation"
      ],
      "metadata": {
        "id": "GVjun6LziQnt"
      }
    },
    {
      "cell_type": "code",
      "source": [
        "# Store training states such as training and validation loss, \n",
        "# validation accuracy, and timings for analysis\n",
        "training_stats = []\n",
        "train_bert_model(model, dataset, training_stats, batch_size=batchsize)\n",
        "training_stats_dict[trainedBertModel] = training_stats"
      ],
      "metadata": {
        "colab": {
          "base_uri": "https://localhost:8080/"
        },
        "id": "CddFJpvqpvyX",
        "outputId": "2a96ef79-1fac-4e4a-c564-3e290c426720"
      },
      "execution_count": 31,
      "outputs": [
        {
          "output_type": "stream",
          "name": "stdout",
          "text": [
            "Using GPU cuda\n",
            "\n",
            "------------fold no---------1----------------------\n",
            "\n",
            "======== Epoch 1 / 2 ========\n",
            "Training...\n",
            "  Batch    40  of    229.    Elapsed: 0:00:23.\n",
            "  Batch    80  of    229.    Elapsed: 0:00:47.\n",
            "  Batch   120  of    229.    Elapsed: 0:01:11.\n",
            "  Batch   160  of    229.    Elapsed: 0:01:34.\n",
            "  Batch   200  of    229.    Elapsed: 0:01:58.\n",
            "\n",
            "  Average training loss: 0.77\n",
            "  Training epoch took: 0:02:15\n",
            "\n",
            "Running Validation...\n"
          ]
        },
        {
          "output_type": "stream",
          "name": "stderr",
          "text": [
            " 13%|█▎        | 58/458 [00:12<01:24,  4.72it/s]\n"
          ]
        },
        {
          "output_type": "stream",
          "name": "stdout",
          "text": [
            "\n",
            "  Average validation  accuracy: 0.82\n",
            "  Average validation loss: 0.50\n",
            "  Validation epoch took: 0:00:12\n",
            "\n",
            "======== Epoch 2 / 2 ========\n",
            "Training...\n",
            "  Batch    40  of    229.    Elapsed: 0:00:24.\n",
            "  Batch    80  of    229.    Elapsed: 0:00:47.\n",
            "  Batch   120  of    229.    Elapsed: 0:01:11.\n",
            "  Batch   160  of    229.    Elapsed: 0:01:35.\n",
            "  Batch   200  of    229.    Elapsed: 0:01:59.\n",
            "\n",
            "  Average training loss: 0.46\n",
            "  Training epoch took: 0:02:16\n",
            "\n",
            "Running Validation...\n"
          ]
        },
        {
          "output_type": "stream",
          "name": "stderr",
          "text": [
            " 13%|█▎        | 58/458 [00:12<01:24,  4.74it/s]\n"
          ]
        },
        {
          "output_type": "stream",
          "name": "stdout",
          "text": [
            "\n",
            "  Average validation  accuracy: 0.85\n",
            "  Average validation loss: 0.41\n",
            "  Validation epoch took: 0:00:12\n",
            "\n",
            "------------fold no---------2----------------------\n",
            "\n",
            "======== Epoch 1 / 2 ========\n",
            "Training...\n",
            "  Batch    40  of    229.    Elapsed: 0:00:24.\n",
            "  Batch    80  of    229.    Elapsed: 0:00:47.\n",
            "  Batch   120  of    229.    Elapsed: 0:01:11.\n",
            "  Batch   160  of    229.    Elapsed: 0:01:35.\n",
            "  Batch   200  of    229.    Elapsed: 0:01:58.\n",
            "\n",
            "  Average training loss: 0.40\n",
            "  Training epoch took: 0:02:15\n",
            "\n",
            "Running Validation...\n"
          ]
        },
        {
          "output_type": "stream",
          "name": "stderr",
          "text": [
            " 13%|█▎        | 58/458 [00:12<01:24,  4.74it/s]\n"
          ]
        },
        {
          "output_type": "stream",
          "name": "stdout",
          "text": [
            "\n",
            "  Average validation  accuracy: 0.87\n",
            "  Average validation loss: 0.32\n",
            "  Validation epoch took: 0:00:12\n",
            "\n",
            "======== Epoch 2 / 2 ========\n",
            "Training...\n",
            "  Batch    40  of    229.    Elapsed: 0:00:24.\n",
            "  Batch    80  of    229.    Elapsed: 0:00:47.\n",
            "  Batch   120  of    229.    Elapsed: 0:01:11.\n",
            "  Batch   160  of    229.    Elapsed: 0:01:35.\n",
            "  Batch   200  of    229.    Elapsed: 0:01:58.\n",
            "\n",
            "  Average training loss: 0.28\n",
            "  Training epoch took: 0:02:15\n",
            "\n",
            "Running Validation...\n"
          ]
        },
        {
          "output_type": "stream",
          "name": "stderr",
          "text": [
            " 13%|█▎        | 58/458 [00:12<01:24,  4.74it/s]\n"
          ]
        },
        {
          "output_type": "stream",
          "name": "stdout",
          "text": [
            "\n",
            "  Average validation  accuracy: 0.91\n",
            "  Average validation loss: 0.23\n",
            "  Validation epoch took: 0:00:12\n",
            "\n",
            "------------fold no---------3----------------------\n",
            "\n",
            "======== Epoch 1 / 2 ========\n",
            "Training...\n",
            "  Batch    40  of    229.    Elapsed: 0:00:24.\n",
            "  Batch    80  of    229.    Elapsed: 0:00:47.\n",
            "  Batch   120  of    229.    Elapsed: 0:01:11.\n",
            "  Batch   160  of    229.    Elapsed: 0:01:35.\n",
            "  Batch   200  of    229.    Elapsed: 0:01:58.\n",
            "\n",
            "  Average training loss: 0.27\n",
            "  Training epoch took: 0:02:15\n",
            "\n",
            "Running Validation...\n"
          ]
        },
        {
          "output_type": "stream",
          "name": "stderr",
          "text": [
            " 13%|█▎        | 58/458 [00:12<01:24,  4.74it/s]\n"
          ]
        },
        {
          "output_type": "stream",
          "name": "stdout",
          "text": [
            "\n",
            "  Average validation  accuracy: 0.96\n",
            "  Average validation loss: 0.14\n",
            "  Validation epoch took: 0:00:12\n",
            "\n",
            "======== Epoch 2 / 2 ========\n",
            "Training...\n",
            "  Batch    40  of    229.    Elapsed: 0:00:24.\n",
            "  Batch    80  of    229.    Elapsed: 0:00:47.\n",
            "  Batch   120  of    229.    Elapsed: 0:01:11.\n",
            "  Batch   160  of    229.    Elapsed: 0:01:35.\n",
            "  Batch   200  of    229.    Elapsed: 0:01:58.\n",
            "\n",
            "  Average training loss: 0.17\n",
            "  Training epoch took: 0:02:16\n",
            "\n",
            "Running Validation...\n"
          ]
        },
        {
          "output_type": "stream",
          "name": "stderr",
          "text": [
            " 13%|█▎        | 58/458 [00:12<01:24,  4.73it/s]\n"
          ]
        },
        {
          "output_type": "stream",
          "name": "stdout",
          "text": [
            "\n",
            "  Average validation  accuracy: 0.97\n",
            "  Average validation loss: 0.10\n",
            "  Validation epoch took: 0:00:12\n",
            "\n",
            "------------fold no---------4----------------------\n",
            "\n",
            "======== Epoch 1 / 2 ========\n",
            "Training...\n",
            "  Batch    40  of    229.    Elapsed: 0:00:24.\n",
            "  Batch    80  of    229.    Elapsed: 0:00:47.\n",
            "  Batch   120  of    229.    Elapsed: 0:01:11.\n",
            "  Batch   160  of    229.    Elapsed: 0:01:35.\n",
            "  Batch   200  of    229.    Elapsed: 0:01:58.\n",
            "\n",
            "  Average training loss: 0.17\n",
            "  Training epoch took: 0:02:15\n",
            "\n",
            "Running Validation...\n"
          ]
        },
        {
          "output_type": "stream",
          "name": "stderr",
          "text": [
            " 13%|█▎        | 58/458 [00:12<01:24,  4.74it/s]\n"
          ]
        },
        {
          "output_type": "stream",
          "name": "stdout",
          "text": [
            "\n",
            "  Average validation  accuracy: 0.98\n",
            "  Average validation loss: 0.07\n",
            "  Validation epoch took: 0:00:12\n",
            "\n",
            "======== Epoch 2 / 2 ========\n",
            "Training...\n",
            "  Batch    40  of    229.    Elapsed: 0:00:24.\n",
            "  Batch    80  of    229.    Elapsed: 0:00:47.\n",
            "  Batch   120  of    229.    Elapsed: 0:01:11.\n",
            "  Batch   160  of    229.    Elapsed: 0:01:35.\n",
            "  Batch   200  of    229.    Elapsed: 0:01:58.\n",
            "\n",
            "  Average training loss: 0.08\n",
            "  Training epoch took: 0:02:16\n",
            "\n",
            "Running Validation...\n"
          ]
        },
        {
          "output_type": "stream",
          "name": "stderr",
          "text": [
            " 13%|█▎        | 58/458 [00:12<01:24,  4.74it/s]\n"
          ]
        },
        {
          "output_type": "stream",
          "name": "stdout",
          "text": [
            "\n",
            "  Average validation  accuracy: 0.98\n",
            "  Average validation loss: 0.06\n",
            "  Validation epoch took: 0:00:12\n",
            "\n",
            "------------fold no---------5----------------------\n",
            "\n",
            "======== Epoch 1 / 2 ========\n",
            "Training...\n",
            "  Batch    40  of    229.    Elapsed: 0:00:24.\n",
            "  Batch    80  of    229.    Elapsed: 0:00:47.\n",
            "  Batch   120  of    229.    Elapsed: 0:01:11.\n",
            "  Batch   160  of    229.    Elapsed: 0:01:35.\n",
            "  Batch   200  of    229.    Elapsed: 0:01:58.\n",
            "\n",
            "  Average training loss: 0.10\n",
            "  Training epoch took: 0:02:15\n",
            "\n",
            "Running Validation...\n"
          ]
        },
        {
          "output_type": "stream",
          "name": "stderr",
          "text": [
            " 13%|█▎        | 58/458 [00:12<01:24,  4.75it/s]\n"
          ]
        },
        {
          "output_type": "stream",
          "name": "stdout",
          "text": [
            "\n",
            "  Average validation  accuracy: 0.99\n",
            "  Average validation loss: 0.04\n",
            "  Validation epoch took: 0:00:12\n",
            "\n",
            "======== Epoch 2 / 2 ========\n",
            "Training...\n",
            "  Batch    40  of    229.    Elapsed: 0:00:24.\n",
            "  Batch    80  of    229.    Elapsed: 0:00:47.\n",
            "  Batch   120  of    229.    Elapsed: 0:01:11.\n",
            "  Batch   160  of    229.    Elapsed: 0:01:35.\n",
            "  Batch   200  of    229.    Elapsed: 0:01:58.\n",
            "\n",
            "  Average training loss: 0.05\n",
            "  Training epoch took: 0:02:16\n",
            "\n",
            "Running Validation...\n"
          ]
        },
        {
          "output_type": "stream",
          "name": "stderr",
          "text": [
            " 13%|█▎        | 58/458 [00:12<01:24,  4.73it/s]"
          ]
        },
        {
          "output_type": "stream",
          "name": "stdout",
          "text": [
            "\n",
            "  Average validation  accuracy: 0.99\n",
            "  Average validation loss: 0.02\n",
            "  Validation epoch took: 0:00:12\n",
            "\n",
            "Training complete!\n",
            "Total training took: 0:24:37\n"
          ]
        },
        {
          "output_type": "stream",
          "name": "stderr",
          "text": [
            "\n"
          ]
        }
      ]
    },
    {
      "cell_type": "markdown",
      "source": [
        "### Predict"
      ],
      "metadata": {
        "id": "Q4DIbEr6iTTM"
      }
    },
    {
      "cell_type": "code",
      "source": [
        "y_pred = np.zeros(len(X))\n",
        "\n",
        "flat_logits = run_bert_model(model, dataset, batch_size=batchsize)\n",
        "y_pred = np.argmax(flat_logits, axis=1).flatten()\n",
        "\n",
        "df['BERT_label'] = y_pred"
      ],
      "metadata": {
        "colab": {
          "base_uri": "https://localhost:8080/"
        },
        "id": "XOZjWvnYcuEi",
        "outputId": "fdcd5a06-28b3-46f4-9228-9c958295842e"
      },
      "execution_count": 32,
      "outputs": [
        {
          "output_type": "stream",
          "name": "stdout",
          "text": [
            "Predicting labels for 2,290 test sentences...\n",
            "Using GPU cuda\n"
          ]
        },
        {
          "output_type": "stream",
          "name": "stderr",
          "text": [
            " 13%|█▎        | 287/2290 [01:01<07:07,  4.69it/s]"
          ]
        },
        {
          "output_type": "stream",
          "name": "stdout",
          "text": [
            "    DONE.\n"
          ]
        },
        {
          "output_type": "stream",
          "name": "stderr",
          "text": [
            "\n"
          ]
        }
      ]
    },
    {
      "cell_type": "markdown",
      "source": [
        "### Save Model"
      ],
      "metadata": {
        "id": "DGi-MJ2uqTvJ"
      }
    },
    {
      "cell_type": "code",
      "source": [
        "model.save_pretrained(bert_save_path)"
      ],
      "metadata": {
        "id": "340xdKt3p9ss"
      },
      "execution_count": 33,
      "outputs": []
    },
    {
      "cell_type": "markdown",
      "source": [
        "## ROBERTA"
      ],
      "metadata": {
        "id": "PqE--Wf4yOR7"
      }
    },
    {
      "cell_type": "code",
      "source": [
        "trainedBertModel = 'roberta'"
      ],
      "metadata": {
        "id": "FbmpPXXIyP64"
      },
      "execution_count": 34,
      "outputs": []
    },
    {
      "cell_type": "code",
      "source": [
        "if trainedBertModel == 'bert':\n",
        "    used_bert_model = pretrained_models[trainedBertModel]\n",
        "    model = BertForSequenceClassification.from_pretrained(used_bert_model, num_labels = 3)\n",
        "    tokenizer = BertTokenizer.from_pretrained(used_bert_model, do_lower_case=True)\n",
        "elif trainedBertModel == 'roberta':\n",
        "    used_bert_model = pretrained_models[trainedBertModel]\n",
        "    model = RobertaForSequenceClassification.from_pretrained(used_bert_model, num_labels = 3)\n",
        "    tokenizer = RobertaTokenizer.from_pretrained(used_bert_model, do_lower_case=True)\n",
        "\n",
        "input_ids, attention_masks, labels = prepare_dataset(X, Y, tokenizer, max_length=400)\n",
        "dataset = TensorDataset(input_ids, attention_masks, labels)"
      ],
      "metadata": {
        "id": "DsYnxFyLyd14"
      },
      "execution_count": 35,
      "outputs": []
    },
    {
      "cell_type": "markdown",
      "source": [
        "### 5-fold cross validation"
      ],
      "metadata": {
        "id": "V70JddqkygVS"
      }
    },
    {
      "cell_type": "code",
      "source": [
        "# Store training states such as training and validation loss, \n",
        "# validation accuracy, and timings for analysis\n",
        "training_stats = []\n",
        "train_bert_model(model, dataset, training_stats, batch_size=batchsize)\n",
        "training_stats_dict[trainedBertModel] = training_stats"
      ],
      "metadata": {
        "colab": {
          "base_uri": "https://localhost:8080/"
        },
        "id": "x_bpJn7gypUT",
        "outputId": "f1b7d0e7-8a11-42a1-8ec9-16f0a16e81f6"
      },
      "execution_count": 36,
      "outputs": [
        {
          "output_type": "stream",
          "name": "stdout",
          "text": [
            "Using GPU cuda\n",
            "\n",
            "------------fold no---------1----------------------\n",
            "\n",
            "======== Epoch 1 / 2 ========\n",
            "Training...\n",
            "  Batch    40  of    229.    Elapsed: 0:00:24.\n",
            "  Batch    80  of    229.    Elapsed: 0:00:48.\n",
            "  Batch   120  of    229.    Elapsed: 0:01:11.\n",
            "  Batch   160  of    229.    Elapsed: 0:01:35.\n",
            "  Batch   200  of    229.    Elapsed: 0:01:59.\n",
            "\n",
            "  Average training loss: 0.72\n",
            "  Training epoch took: 0:02:17\n",
            "\n",
            "Running Validation...\n"
          ]
        },
        {
          "output_type": "stream",
          "name": "stderr",
          "text": [
            " 13%|█▎        | 58/458 [00:10<01:14,  5.40it/s]\n"
          ]
        },
        {
          "output_type": "stream",
          "name": "stdout",
          "text": [
            "\n",
            "  Average validation  accuracy: 0.81\n",
            "  Average validation loss: 0.46\n",
            "  Validation epoch took: 0:00:11\n",
            "\n",
            "======== Epoch 2 / 2 ========\n",
            "Training...\n",
            "  Batch    40  of    229.    Elapsed: 0:00:24.\n",
            "  Batch    80  of    229.    Elapsed: 0:00:48.\n",
            "  Batch   120  of    229.    Elapsed: 0:01:11.\n",
            "  Batch   160  of    229.    Elapsed: 0:01:35.\n",
            "  Batch   200  of    229.    Elapsed: 0:01:59.\n",
            "\n",
            "  Average training loss: 0.42\n",
            "  Training epoch took: 0:02:16\n",
            "\n",
            "Running Validation...\n"
          ]
        },
        {
          "output_type": "stream",
          "name": "stderr",
          "text": [
            " 13%|█▎        | 58/458 [00:10<01:14,  5.40it/s]\n"
          ]
        },
        {
          "output_type": "stream",
          "name": "stdout",
          "text": [
            "\n",
            "  Average validation  accuracy: 0.87\n",
            "  Average validation loss: 0.38\n",
            "  Validation epoch took: 0:00:11\n",
            "\n",
            "------------fold no---------2----------------------\n",
            "\n",
            "======== Epoch 1 / 2 ========\n",
            "Training...\n",
            "  Batch    40  of    229.    Elapsed: 0:00:24.\n",
            "  Batch    80  of    229.    Elapsed: 0:00:48.\n",
            "  Batch   120  of    229.    Elapsed: 0:01:11.\n",
            "  Batch   160  of    229.    Elapsed: 0:01:35.\n",
            "  Batch   200  of    229.    Elapsed: 0:01:59.\n",
            "\n",
            "  Average training loss: 0.41\n",
            "  Training epoch took: 0:02:16\n",
            "\n",
            "Running Validation...\n"
          ]
        },
        {
          "output_type": "stream",
          "name": "stderr",
          "text": [
            " 13%|█▎        | 58/458 [00:10<01:14,  5.37it/s]\n"
          ]
        },
        {
          "output_type": "stream",
          "name": "stdout",
          "text": [
            "\n",
            "  Average validation  accuracy: 0.89\n",
            "  Average validation loss: 0.36\n",
            "  Validation epoch took: 0:00:11\n",
            "\n",
            "======== Epoch 2 / 2 ========\n",
            "Training...\n",
            "  Batch    40  of    229.    Elapsed: 0:00:24.\n",
            "  Batch    80  of    229.    Elapsed: 0:00:48.\n",
            "  Batch   120  of    229.    Elapsed: 0:01:12.\n",
            "  Batch   160  of    229.    Elapsed: 0:01:36.\n",
            "  Batch   200  of    229.    Elapsed: 0:01:59.\n",
            "\n",
            "  Average training loss: 0.29\n",
            "  Training epoch took: 0:02:17\n",
            "\n",
            "Running Validation...\n"
          ]
        },
        {
          "output_type": "stream",
          "name": "stderr",
          "text": [
            " 13%|█▎        | 58/458 [00:10<01:14,  5.39it/s]\n"
          ]
        },
        {
          "output_type": "stream",
          "name": "stdout",
          "text": [
            "\n",
            "  Average validation  accuracy: 0.92\n",
            "  Average validation loss: 0.28\n",
            "  Validation epoch took: 0:00:11\n",
            "\n",
            "------------fold no---------3----------------------\n",
            "\n",
            "======== Epoch 1 / 2 ========\n",
            "Training...\n",
            "  Batch    40  of    229.    Elapsed: 0:00:24.\n",
            "  Batch    80  of    229.    Elapsed: 0:00:48.\n",
            "  Batch   120  of    229.    Elapsed: 0:01:12.\n",
            "  Batch   160  of    229.    Elapsed: 0:01:36.\n",
            "  Batch   200  of    229.    Elapsed: 0:01:59.\n",
            "\n",
            "  Average training loss: 0.33\n",
            "  Training epoch took: 0:02:17\n",
            "\n",
            "Running Validation...\n"
          ]
        },
        {
          "output_type": "stream",
          "name": "stderr",
          "text": [
            " 13%|█▎        | 58/458 [00:10<01:14,  5.40it/s]\n"
          ]
        },
        {
          "output_type": "stream",
          "name": "stdout",
          "text": [
            "\n",
            "  Average validation  accuracy: 0.96\n",
            "  Average validation loss: 0.17\n",
            "  Validation epoch took: 0:00:11\n",
            "\n",
            "======== Epoch 2 / 2 ========\n",
            "Training...\n",
            "  Batch    40  of    229.    Elapsed: 0:00:24.\n",
            "  Batch    80  of    229.    Elapsed: 0:00:48.\n",
            "  Batch   120  of    229.    Elapsed: 0:01:12.\n",
            "  Batch   160  of    229.    Elapsed: 0:01:35.\n",
            "  Batch   200  of    229.    Elapsed: 0:01:59.\n",
            "\n",
            "  Average training loss: 0.20\n",
            "  Training epoch took: 0:02:17\n",
            "\n",
            "Running Validation...\n"
          ]
        },
        {
          "output_type": "stream",
          "name": "stderr",
          "text": [
            " 13%|█▎        | 58/458 [00:10<01:14,  5.37it/s]\n"
          ]
        },
        {
          "output_type": "stream",
          "name": "stdout",
          "text": [
            "\n",
            "  Average validation  accuracy: 0.95\n",
            "  Average validation loss: 0.16\n",
            "  Validation epoch took: 0:00:11\n",
            "\n",
            "------------fold no---------4----------------------\n",
            "\n",
            "======== Epoch 1 / 2 ========\n",
            "Training...\n",
            "  Batch    40  of    229.    Elapsed: 0:00:24.\n",
            "  Batch    80  of    229.    Elapsed: 0:00:48.\n",
            "  Batch   120  of    229.    Elapsed: 0:01:12.\n",
            "  Batch   160  of    229.    Elapsed: 0:01:35.\n",
            "  Batch   200  of    229.    Elapsed: 0:01:59.\n",
            "\n",
            "  Average training loss: 0.30\n",
            "  Training epoch took: 0:02:17\n",
            "\n",
            "Running Validation...\n"
          ]
        },
        {
          "output_type": "stream",
          "name": "stderr",
          "text": [
            " 13%|█▎        | 58/458 [00:10<01:14,  5.39it/s]\n"
          ]
        },
        {
          "output_type": "stream",
          "name": "stdout",
          "text": [
            "\n",
            "  Average validation  accuracy: 0.98\n",
            "  Average validation loss: 0.10\n",
            "  Validation epoch took: 0:00:11\n",
            "\n",
            "======== Epoch 2 / 2 ========\n",
            "Training...\n",
            "  Batch    40  of    229.    Elapsed: 0:00:24.\n",
            "  Batch    80  of    229.    Elapsed: 0:00:48.\n",
            "  Batch   120  of    229.    Elapsed: 0:01:12.\n",
            "  Batch   160  of    229.    Elapsed: 0:01:35.\n",
            "  Batch   200  of    229.    Elapsed: 0:01:59.\n",
            "\n",
            "  Average training loss: 0.15\n",
            "  Training epoch took: 0:02:17\n",
            "\n",
            "Running Validation...\n"
          ]
        },
        {
          "output_type": "stream",
          "name": "stderr",
          "text": [
            " 13%|█▎        | 58/458 [00:10<01:14,  5.36it/s]\n"
          ]
        },
        {
          "output_type": "stream",
          "name": "stdout",
          "text": [
            "\n",
            "  Average validation  accuracy: 0.98\n",
            "  Average validation loss: 0.10\n",
            "  Validation epoch took: 0:00:11\n",
            "\n",
            "------------fold no---------5----------------------\n",
            "\n",
            "======== Epoch 1 / 2 ========\n",
            "Training...\n",
            "  Batch    40  of    229.    Elapsed: 0:00:24.\n",
            "  Batch    80  of    229.    Elapsed: 0:00:48.\n",
            "  Batch   120  of    229.    Elapsed: 0:01:12.\n",
            "  Batch   160  of    229.    Elapsed: 0:01:35.\n",
            "  Batch   200  of    229.    Elapsed: 0:01:59.\n",
            "\n",
            "  Average training loss: 0.20\n",
            "  Training epoch took: 0:02:17\n",
            "\n",
            "Running Validation...\n"
          ]
        },
        {
          "output_type": "stream",
          "name": "stderr",
          "text": [
            " 13%|█▎        | 58/458 [00:10<01:14,  5.36it/s]\n"
          ]
        },
        {
          "output_type": "stream",
          "name": "stdout",
          "text": [
            "\n",
            "  Average validation  accuracy: 0.98\n",
            "  Average validation loss: 0.12\n",
            "  Validation epoch took: 0:00:11\n",
            "\n",
            "======== Epoch 2 / 2 ========\n",
            "Training...\n",
            "  Batch    40  of    229.    Elapsed: 0:00:24.\n",
            "  Batch    80  of    229.    Elapsed: 0:00:48.\n",
            "  Batch   120  of    229.    Elapsed: 0:01:12.\n",
            "  Batch   160  of    229.    Elapsed: 0:01:35.\n",
            "  Batch   200  of    229.    Elapsed: 0:01:59.\n",
            "\n",
            "  Average training loss: 0.09\n",
            "  Training epoch took: 0:02:17\n",
            "\n",
            "Running Validation...\n"
          ]
        },
        {
          "output_type": "stream",
          "name": "stderr",
          "text": [
            " 13%|█▎        | 58/458 [00:10<01:14,  5.40it/s]"
          ]
        },
        {
          "output_type": "stream",
          "name": "stdout",
          "text": [
            "\n",
            "  Average validation  accuracy: 0.99\n",
            "  Average validation loss: 0.06\n",
            "  Validation epoch took: 0:00:11\n",
            "\n",
            "Training complete!\n",
            "Total training took: 0:24:33\n"
          ]
        },
        {
          "output_type": "stream",
          "name": "stderr",
          "text": [
            "\n"
          ]
        }
      ]
    },
    {
      "cell_type": "markdown",
      "source": [
        "### Predict"
      ],
      "metadata": {
        "id": "LqzVqDNRysxY"
      }
    },
    {
      "cell_type": "code",
      "source": [
        "y_pred = np.zeros(len(X))\n",
        "\n",
        "flat_logits = run_bert_model(model, dataset, batch_size=batchsize)\n",
        "y_pred = np.argmax(flat_logits, axis=1).flatten()\n",
        "\n",
        "df['ROBERTA_label'] = y_pred"
      ],
      "metadata": {
        "colab": {
          "base_uri": "https://localhost:8080/"
        },
        "id": "aYBvH3PUyp5b",
        "outputId": "a7b67013-7125-4b9f-edde-2767b1f59430"
      },
      "execution_count": 37,
      "outputs": [
        {
          "output_type": "stream",
          "name": "stdout",
          "text": [
            "Predicting labels for 2,290 test sentences...\n",
            "Using GPU cuda\n"
          ]
        },
        {
          "output_type": "stream",
          "name": "stderr",
          "text": [
            " 13%|█▎        | 287/2290 [00:53<06:13,  5.36it/s]"
          ]
        },
        {
          "output_type": "stream",
          "name": "stdout",
          "text": [
            "    DONE.\n"
          ]
        },
        {
          "output_type": "stream",
          "name": "stderr",
          "text": [
            "\n"
          ]
        }
      ]
    },
    {
      "cell_type": "markdown",
      "source": [
        "### Save Model"
      ],
      "metadata": {
        "id": "rH3W2zDRqRIZ"
      }
    },
    {
      "cell_type": "code",
      "source": [
        "model.save_pretrained(roberta_save_path)"
      ],
      "metadata": {
        "id": "EI_by6-SqM2M"
      },
      "execution_count": 38,
      "outputs": []
    },
    {
      "cell_type": "markdown",
      "source": [
        "## Save Training Stats"
      ],
      "metadata": {
        "id": "43mlNwT57_Vk"
      }
    },
    {
      "cell_type": "code",
      "source": [
        "import pickle\n",
        "pkl_path = './Colab Notebooks/ucla_capstone/saved_model/training_stats_dict.pkl'\n",
        "# save dictionary to training_stats_dict.pkl file\n",
        "with open(pkl_path, 'wb') as fp:\n",
        "    pickle.dump(training_stats_dict, fp)\n",
        "    print('dictionary saved successfully to file')"
      ],
      "metadata": {
        "colab": {
          "base_uri": "https://localhost:8080/"
        },
        "id": "huhgx7608Db6",
        "outputId": "5b04d5e1-58d0-4fe7-8081-9f0aee6edaa5"
      },
      "execution_count": 39,
      "outputs": [
        {
          "output_type": "stream",
          "name": "stdout",
          "text": [
            "dictionary saved successfully to file\n"
          ]
        }
      ]
    },
    {
      "cell_type": "code",
      "source": [
        "# If needed to load\n",
        "'''\n",
        "stats_load = {}\n",
        "with open(pkl_path, 'rb') as handle:\n",
        "    stats_load = pickle.load(handle)\n",
        "print(stats_load)\n",
        "'''"
      ],
      "metadata": {
        "colab": {
          "base_uri": "https://localhost:8080/",
          "height": 35
        },
        "id": "L2fDx_MMAg8a",
        "outputId": "9a7c8438-c39b-4301-b571-df5b831a1255"
      },
      "execution_count": 40,
      "outputs": [
        {
          "output_type": "execute_result",
          "data": {
            "text/plain": [
              "\"\\nstats_load = {}\\nwith open(pkl_path, 'rb') as handle:\\n    stats_load = pickle.load(handle)\\nprint(stats_load)\\n\""
            ],
            "application/vnd.google.colaboratory.intrinsic+json": {
              "type": "string"
            }
          },
          "metadata": {},
          "execution_count": 40
        }
      ]
    },
    {
      "cell_type": "markdown",
      "source": [
        "## Evaluation"
      ],
      "metadata": {
        "id": "Tt3LA5qfzR0t"
      }
    },
    {
      "cell_type": "code",
      "source": [
        "df.head(30)"
      ],
      "metadata": {
        "colab": {
          "base_uri": "https://localhost:8080/",
          "height": 990
        },
        "id": "4zrPhMWQyv6O",
        "outputId": "2f96980f-5a1b-4a9e-b163-9544966283f2"
      },
      "execution_count": 41,
      "outputs": [
        {
          "output_type": "execute_result",
          "data": {
            "text/plain": [
              "               Tweet ID                                               Text  \\\n",
              "0   1242553623260868608  Are we still allowed to quote ancient Chinese ...   \n",
              "1   1246508137638580225  @mamacat2u @VBeltiz More power to you!  This C...   \n",
              "2   1233468243534372865  CNBC: WHO, Tedros reiterated that the virus co...   \n",
              "3   1243626072387747841  \"The heightened racism experienced by Asian co...   \n",
              "4   1225611530978217989  Coronavirus and Nepali in China: KP Oli has di...   \n",
              "5   1238081115182764032  #IamNotAVirus - heard of it @thetimes ? Why us...   \n",
              "6   1246282568414179329  @RepAdamSchiff You have proven over the past 3...   \n",
              "7   1232094383924707328  @realDonaldTrump Fact: Coronavirus will probab...   \n",
              "8   1238072679694864384  for the last fucking time.... CORONAVIRUS IS N...   \n",
              "9   1245152684820348929  @realDonaldTrump I think your campaign slogan ...   \n",
              "10  1245357525400051712  Fuck You, China. (Covid19) https://t.co/kNlwgY...   \n",
              "11  1245999294139772928  Anyone else do a sneaky fist pump when every r...   \n",
              "12  1230523783708061696  Well no shit. #coronavirus https://t.co/1OLHdC...   \n",
              "13  1237480830097862658  Hoping April 1st come around and all the news ...   \n",
              "14  1247596322657570823  @MarshaBlackburn @FreedomHK4ever Most disgusti...   \n",
              "15  1244721630351327232  I am tweeting to Support #IAmNotAVirus hashtag...   \n",
              "16  1230394065004453888  Another Wuhan hospital chief 'is hospitalised ...   \n",
              "17  1230515621315710977  @mattwander12 I barback on the weekends and I ...   \n",
              "18  1226914308270981128  Are you worried about the Coronavirus?  #coron...   \n",
              "19  1244262818595000325  I'm losing my mind 😵 quarantine is making me m...   \n",
              "20  1230292697694580736  The Gray Plague: What The Fuck Is Going On In ...   \n",
              "21  1244844999566446592  CCP China doing all types of shady &amp; evil ...   \n",
              "22  1244398148174438400  @realDonaldTrump so much for it being the Chin...   \n",
              "23  1235395447214288897  Husband, I am SORRY you got what the rest of u...   \n",
              "24  1234510147667365888  Coronavirus Election Puts the Democrats In a D...   \n",
              "25  1233532837179072517  Have you ever seen anyone praying for death to...   \n",
              "26  1245035261030838272                @ChangshaCity fucking #chinesevirus   \n",
              "27  1238017385761656832  fuck china  #WuhanVirus #COVID2019 #coronaviru...   \n",
              "28  1241506262216593409  Watch this and not cry...wtf America. Seriousl...   \n",
              "29  1245443836777648128             This is the truth #ChinaLiedPeopleDied   \n",
              "\n",
              "    label  NONE_label  BERT_label  ROBERTA_label  \n",
              "0       0           1           0              0  \n",
              "1       0           0           0              0  \n",
              "2       0           0           0              0  \n",
              "3       1           1           1              1  \n",
              "4       0           0           0              0  \n",
              "5       1           1           1              1  \n",
              "6       0           0           0              0  \n",
              "7       0           0           0              0  \n",
              "8       1           1           1              1  \n",
              "9       0           0           0              0  \n",
              "10      2           2           2              2  \n",
              "11      0           0           0              0  \n",
              "12      0           0           0              0  \n",
              "13      0           0           0              0  \n",
              "14      0           2           0              0  \n",
              "15      1           1           1              1  \n",
              "16      0           0           0              0  \n",
              "17      0           0           0              0  \n",
              "18      0           0           0              0  \n",
              "19      2           2           2              2  \n",
              "20      0           0           0              0  \n",
              "21      2           2           2              2  \n",
              "22      0           0           0              0  \n",
              "23      0           0           0              0  \n",
              "24      2           0           2              0  \n",
              "25      0           0           0              0  \n",
              "26      2           2           2              2  \n",
              "27      2           2           2              2  \n",
              "28      1           1           1              1  \n",
              "29      0           2           0              0  "
            ],
            "text/html": [
              "\n",
              "  <div id=\"df-f5498f6f-ac57-4cc1-9e34-a27c6be013a1\">\n",
              "    <div class=\"colab-df-container\">\n",
              "      <div>\n",
              "<style scoped>\n",
              "    .dataframe tbody tr th:only-of-type {\n",
              "        vertical-align: middle;\n",
              "    }\n",
              "\n",
              "    .dataframe tbody tr th {\n",
              "        vertical-align: top;\n",
              "    }\n",
              "\n",
              "    .dataframe thead th {\n",
              "        text-align: right;\n",
              "    }\n",
              "</style>\n",
              "<table border=\"1\" class=\"dataframe\">\n",
              "  <thead>\n",
              "    <tr style=\"text-align: right;\">\n",
              "      <th></th>\n",
              "      <th>Tweet ID</th>\n",
              "      <th>Text</th>\n",
              "      <th>label</th>\n",
              "      <th>NONE_label</th>\n",
              "      <th>BERT_label</th>\n",
              "      <th>ROBERTA_label</th>\n",
              "    </tr>\n",
              "  </thead>\n",
              "  <tbody>\n",
              "    <tr>\n",
              "      <th>0</th>\n",
              "      <td>1242553623260868608</td>\n",
              "      <td>Are we still allowed to quote ancient Chinese ...</td>\n",
              "      <td>0</td>\n",
              "      <td>1</td>\n",
              "      <td>0</td>\n",
              "      <td>0</td>\n",
              "    </tr>\n",
              "    <tr>\n",
              "      <th>1</th>\n",
              "      <td>1246508137638580225</td>\n",
              "      <td>@mamacat2u @VBeltiz More power to you!  This C...</td>\n",
              "      <td>0</td>\n",
              "      <td>0</td>\n",
              "      <td>0</td>\n",
              "      <td>0</td>\n",
              "    </tr>\n",
              "    <tr>\n",
              "      <th>2</th>\n",
              "      <td>1233468243534372865</td>\n",
              "      <td>CNBC: WHO, Tedros reiterated that the virus co...</td>\n",
              "      <td>0</td>\n",
              "      <td>0</td>\n",
              "      <td>0</td>\n",
              "      <td>0</td>\n",
              "    </tr>\n",
              "    <tr>\n",
              "      <th>3</th>\n",
              "      <td>1243626072387747841</td>\n",
              "      <td>\"The heightened racism experienced by Asian co...</td>\n",
              "      <td>1</td>\n",
              "      <td>1</td>\n",
              "      <td>1</td>\n",
              "      <td>1</td>\n",
              "    </tr>\n",
              "    <tr>\n",
              "      <th>4</th>\n",
              "      <td>1225611530978217989</td>\n",
              "      <td>Coronavirus and Nepali in China: KP Oli has di...</td>\n",
              "      <td>0</td>\n",
              "      <td>0</td>\n",
              "      <td>0</td>\n",
              "      <td>0</td>\n",
              "    </tr>\n",
              "    <tr>\n",
              "      <th>5</th>\n",
              "      <td>1238081115182764032</td>\n",
              "      <td>#IamNotAVirus - heard of it @thetimes ? Why us...</td>\n",
              "      <td>1</td>\n",
              "      <td>1</td>\n",
              "      <td>1</td>\n",
              "      <td>1</td>\n",
              "    </tr>\n",
              "    <tr>\n",
              "      <th>6</th>\n",
              "      <td>1246282568414179329</td>\n",
              "      <td>@RepAdamSchiff You have proven over the past 3...</td>\n",
              "      <td>0</td>\n",
              "      <td>0</td>\n",
              "      <td>0</td>\n",
              "      <td>0</td>\n",
              "    </tr>\n",
              "    <tr>\n",
              "      <th>7</th>\n",
              "      <td>1232094383924707328</td>\n",
              "      <td>@realDonaldTrump Fact: Coronavirus will probab...</td>\n",
              "      <td>0</td>\n",
              "      <td>0</td>\n",
              "      <td>0</td>\n",
              "      <td>0</td>\n",
              "    </tr>\n",
              "    <tr>\n",
              "      <th>8</th>\n",
              "      <td>1238072679694864384</td>\n",
              "      <td>for the last fucking time.... CORONAVIRUS IS N...</td>\n",
              "      <td>1</td>\n",
              "      <td>1</td>\n",
              "      <td>1</td>\n",
              "      <td>1</td>\n",
              "    </tr>\n",
              "    <tr>\n",
              "      <th>9</th>\n",
              "      <td>1245152684820348929</td>\n",
              "      <td>@realDonaldTrump I think your campaign slogan ...</td>\n",
              "      <td>0</td>\n",
              "      <td>0</td>\n",
              "      <td>0</td>\n",
              "      <td>0</td>\n",
              "    </tr>\n",
              "    <tr>\n",
              "      <th>10</th>\n",
              "      <td>1245357525400051712</td>\n",
              "      <td>Fuck You, China. (Covid19) https://t.co/kNlwgY...</td>\n",
              "      <td>2</td>\n",
              "      <td>2</td>\n",
              "      <td>2</td>\n",
              "      <td>2</td>\n",
              "    </tr>\n",
              "    <tr>\n",
              "      <th>11</th>\n",
              "      <td>1245999294139772928</td>\n",
              "      <td>Anyone else do a sneaky fist pump when every r...</td>\n",
              "      <td>0</td>\n",
              "      <td>0</td>\n",
              "      <td>0</td>\n",
              "      <td>0</td>\n",
              "    </tr>\n",
              "    <tr>\n",
              "      <th>12</th>\n",
              "      <td>1230523783708061696</td>\n",
              "      <td>Well no shit. #coronavirus https://t.co/1OLHdC...</td>\n",
              "      <td>0</td>\n",
              "      <td>0</td>\n",
              "      <td>0</td>\n",
              "      <td>0</td>\n",
              "    </tr>\n",
              "    <tr>\n",
              "      <th>13</th>\n",
              "      <td>1237480830097862658</td>\n",
              "      <td>Hoping April 1st come around and all the news ...</td>\n",
              "      <td>0</td>\n",
              "      <td>0</td>\n",
              "      <td>0</td>\n",
              "      <td>0</td>\n",
              "    </tr>\n",
              "    <tr>\n",
              "      <th>14</th>\n",
              "      <td>1247596322657570823</td>\n",
              "      <td>@MarshaBlackburn @FreedomHK4ever Most disgusti...</td>\n",
              "      <td>0</td>\n",
              "      <td>2</td>\n",
              "      <td>0</td>\n",
              "      <td>0</td>\n",
              "    </tr>\n",
              "    <tr>\n",
              "      <th>15</th>\n",
              "      <td>1244721630351327232</td>\n",
              "      <td>I am tweeting to Support #IAmNotAVirus hashtag...</td>\n",
              "      <td>1</td>\n",
              "      <td>1</td>\n",
              "      <td>1</td>\n",
              "      <td>1</td>\n",
              "    </tr>\n",
              "    <tr>\n",
              "      <th>16</th>\n",
              "      <td>1230394065004453888</td>\n",
              "      <td>Another Wuhan hospital chief 'is hospitalised ...</td>\n",
              "      <td>0</td>\n",
              "      <td>0</td>\n",
              "      <td>0</td>\n",
              "      <td>0</td>\n",
              "    </tr>\n",
              "    <tr>\n",
              "      <th>17</th>\n",
              "      <td>1230515621315710977</td>\n",
              "      <td>@mattwander12 I barback on the weekends and I ...</td>\n",
              "      <td>0</td>\n",
              "      <td>0</td>\n",
              "      <td>0</td>\n",
              "      <td>0</td>\n",
              "    </tr>\n",
              "    <tr>\n",
              "      <th>18</th>\n",
              "      <td>1226914308270981128</td>\n",
              "      <td>Are you worried about the Coronavirus?  #coron...</td>\n",
              "      <td>0</td>\n",
              "      <td>0</td>\n",
              "      <td>0</td>\n",
              "      <td>0</td>\n",
              "    </tr>\n",
              "    <tr>\n",
              "      <th>19</th>\n",
              "      <td>1244262818595000325</td>\n",
              "      <td>I'm losing my mind 😵 quarantine is making me m...</td>\n",
              "      <td>2</td>\n",
              "      <td>2</td>\n",
              "      <td>2</td>\n",
              "      <td>2</td>\n",
              "    </tr>\n",
              "    <tr>\n",
              "      <th>20</th>\n",
              "      <td>1230292697694580736</td>\n",
              "      <td>The Gray Plague: What The Fuck Is Going On In ...</td>\n",
              "      <td>0</td>\n",
              "      <td>0</td>\n",
              "      <td>0</td>\n",
              "      <td>0</td>\n",
              "    </tr>\n",
              "    <tr>\n",
              "      <th>21</th>\n",
              "      <td>1244844999566446592</td>\n",
              "      <td>CCP China doing all types of shady &amp;amp; evil ...</td>\n",
              "      <td>2</td>\n",
              "      <td>2</td>\n",
              "      <td>2</td>\n",
              "      <td>2</td>\n",
              "    </tr>\n",
              "    <tr>\n",
              "      <th>22</th>\n",
              "      <td>1244398148174438400</td>\n",
              "      <td>@realDonaldTrump so much for it being the Chin...</td>\n",
              "      <td>0</td>\n",
              "      <td>0</td>\n",
              "      <td>0</td>\n",
              "      <td>0</td>\n",
              "    </tr>\n",
              "    <tr>\n",
              "      <th>23</th>\n",
              "      <td>1235395447214288897</td>\n",
              "      <td>Husband, I am SORRY you got what the rest of u...</td>\n",
              "      <td>0</td>\n",
              "      <td>0</td>\n",
              "      <td>0</td>\n",
              "      <td>0</td>\n",
              "    </tr>\n",
              "    <tr>\n",
              "      <th>24</th>\n",
              "      <td>1234510147667365888</td>\n",
              "      <td>Coronavirus Election Puts the Democrats In a D...</td>\n",
              "      <td>2</td>\n",
              "      <td>0</td>\n",
              "      <td>2</td>\n",
              "      <td>0</td>\n",
              "    </tr>\n",
              "    <tr>\n",
              "      <th>25</th>\n",
              "      <td>1233532837179072517</td>\n",
              "      <td>Have you ever seen anyone praying for death to...</td>\n",
              "      <td>0</td>\n",
              "      <td>0</td>\n",
              "      <td>0</td>\n",
              "      <td>0</td>\n",
              "    </tr>\n",
              "    <tr>\n",
              "      <th>26</th>\n",
              "      <td>1245035261030838272</td>\n",
              "      <td>@ChangshaCity fucking #chinesevirus</td>\n",
              "      <td>2</td>\n",
              "      <td>2</td>\n",
              "      <td>2</td>\n",
              "      <td>2</td>\n",
              "    </tr>\n",
              "    <tr>\n",
              "      <th>27</th>\n",
              "      <td>1238017385761656832</td>\n",
              "      <td>fuck china  #WuhanVirus #COVID2019 #coronaviru...</td>\n",
              "      <td>2</td>\n",
              "      <td>2</td>\n",
              "      <td>2</td>\n",
              "      <td>2</td>\n",
              "    </tr>\n",
              "    <tr>\n",
              "      <th>28</th>\n",
              "      <td>1241506262216593409</td>\n",
              "      <td>Watch this and not cry...wtf America. Seriousl...</td>\n",
              "      <td>1</td>\n",
              "      <td>1</td>\n",
              "      <td>1</td>\n",
              "      <td>1</td>\n",
              "    </tr>\n",
              "    <tr>\n",
              "      <th>29</th>\n",
              "      <td>1245443836777648128</td>\n",
              "      <td>This is the truth #ChinaLiedPeopleDied</td>\n",
              "      <td>0</td>\n",
              "      <td>2</td>\n",
              "      <td>0</td>\n",
              "      <td>0</td>\n",
              "    </tr>\n",
              "  </tbody>\n",
              "</table>\n",
              "</div>\n",
              "      <button class=\"colab-df-convert\" onclick=\"convertToInteractive('df-f5498f6f-ac57-4cc1-9e34-a27c6be013a1')\"\n",
              "              title=\"Convert this dataframe to an interactive table.\"\n",
              "              style=\"display:none;\">\n",
              "        \n",
              "  <svg xmlns=\"http://www.w3.org/2000/svg\" height=\"24px\"viewBox=\"0 0 24 24\"\n",
              "       width=\"24px\">\n",
              "    <path d=\"M0 0h24v24H0V0z\" fill=\"none\"/>\n",
              "    <path d=\"M18.56 5.44l.94 2.06.94-2.06 2.06-.94-2.06-.94-.94-2.06-.94 2.06-2.06.94zm-11 1L8.5 8.5l.94-2.06 2.06-.94-2.06-.94L8.5 2.5l-.94 2.06-2.06.94zm10 10l.94 2.06.94-2.06 2.06-.94-2.06-.94-.94-2.06-.94 2.06-2.06.94z\"/><path d=\"M17.41 7.96l-1.37-1.37c-.4-.4-.92-.59-1.43-.59-.52 0-1.04.2-1.43.59L10.3 9.45l-7.72 7.72c-.78.78-.78 2.05 0 2.83L4 21.41c.39.39.9.59 1.41.59.51 0 1.02-.2 1.41-.59l7.78-7.78 2.81-2.81c.8-.78.8-2.07 0-2.86zM5.41 20L4 18.59l7.72-7.72 1.47 1.35L5.41 20z\"/>\n",
              "  </svg>\n",
              "      </button>\n",
              "      \n",
              "  <style>\n",
              "    .colab-df-container {\n",
              "      display:flex;\n",
              "      flex-wrap:wrap;\n",
              "      gap: 12px;\n",
              "    }\n",
              "\n",
              "    .colab-df-convert {\n",
              "      background-color: #E8F0FE;\n",
              "      border: none;\n",
              "      border-radius: 50%;\n",
              "      cursor: pointer;\n",
              "      display: none;\n",
              "      fill: #1967D2;\n",
              "      height: 32px;\n",
              "      padding: 0 0 0 0;\n",
              "      width: 32px;\n",
              "    }\n",
              "\n",
              "    .colab-df-convert:hover {\n",
              "      background-color: #E2EBFA;\n",
              "      box-shadow: 0px 1px 2px rgba(60, 64, 67, 0.3), 0px 1px 3px 1px rgba(60, 64, 67, 0.15);\n",
              "      fill: #174EA6;\n",
              "    }\n",
              "\n",
              "    [theme=dark] .colab-df-convert {\n",
              "      background-color: #3B4455;\n",
              "      fill: #D2E3FC;\n",
              "    }\n",
              "\n",
              "    [theme=dark] .colab-df-convert:hover {\n",
              "      background-color: #434B5C;\n",
              "      box-shadow: 0px 1px 3px 1px rgba(0, 0, 0, 0.15);\n",
              "      filter: drop-shadow(0px 1px 2px rgba(0, 0, 0, 0.3));\n",
              "      fill: #FFFFFF;\n",
              "    }\n",
              "  </style>\n",
              "\n",
              "      <script>\n",
              "        const buttonEl =\n",
              "          document.querySelector('#df-f5498f6f-ac57-4cc1-9e34-a27c6be013a1 button.colab-df-convert');\n",
              "        buttonEl.style.display =\n",
              "          google.colab.kernel.accessAllowed ? 'block' : 'none';\n",
              "\n",
              "        async function convertToInteractive(key) {\n",
              "          const element = document.querySelector('#df-f5498f6f-ac57-4cc1-9e34-a27c6be013a1');\n",
              "          const dataTable =\n",
              "            await google.colab.kernel.invokeFunction('convertToInteractive',\n",
              "                                                     [key], {});\n",
              "          if (!dataTable) return;\n",
              "\n",
              "          const docLinkHtml = 'Like what you see? Visit the ' +\n",
              "            '<a target=\"_blank\" href=https://colab.research.google.com/notebooks/data_table.ipynb>data table notebook</a>'\n",
              "            + ' to learn more about interactive tables.';\n",
              "          element.innerHTML = '';\n",
              "          dataTable['output_type'] = 'display_data';\n",
              "          await google.colab.output.renderOutput(dataTable, element);\n",
              "          const docLink = document.createElement('div');\n",
              "          docLink.innerHTML = docLinkHtml;\n",
              "          element.appendChild(docLink);\n",
              "        }\n",
              "      </script>\n",
              "    </div>\n",
              "  </div>\n",
              "  "
            ]
          },
          "metadata": {},
          "execution_count": 41
        }
      ]
    },
    {
      "cell_type": "markdown",
      "source": [
        "### No Pretrained"
      ],
      "metadata": {
        "id": "r8nnNqDjDqKb"
      }
    },
    {
      "cell_type": "code",
      "source": [
        "cf_matrix = confusion_matrix(df['label'], df['NONE_label'])"
      ],
      "metadata": {
        "id": "knRxH8orDpob"
      },
      "execution_count": 42,
      "outputs": []
    },
    {
      "cell_type": "code",
      "source": [
        "df_cm = pd.DataFrame(cf_matrix / np.sum(cf_matrix, axis=1), index = [i for i in range(3)],\n",
        "                     columns = [i for i in range(3)])"
      ],
      "metadata": {
        "id": "vaB_j3yND1Cd"
      },
      "execution_count": 43,
      "outputs": []
    },
    {
      "cell_type": "code",
      "source": [
        "plt.figure(figsize = (3,3))\n",
        "sn.heatmap(df_cm, annot=True)\n",
        "plt.show()"
      ],
      "metadata": {
        "colab": {
          "base_uri": "https://localhost:8080/",
          "height": 211
        },
        "id": "Vh1FzyKuD2E0",
        "outputId": "7f5e3ca7-1dd4-4a46-aa41-80bcb2236d8b"
      },
      "execution_count": 44,
      "outputs": [
        {
          "output_type": "display_data",
          "data": {
            "text/plain": [
              "<Figure size 216x216 with 2 Axes>"
            ],
            "image/png": "[encoded data removed]"
          },
          "metadata": {
            "needs_background": "light"
          }
        }
      ]
    },
    {
      "cell_type": "code",
      "source": [
        "print(metrics.classification_report(df['label'], df['NONE_label'], digits=3))"
      ],
      "metadata": {
        "colab": {
          "base_uri": "https://localhost:8080/"
        },
        "id": "PAvEN7mnD3OX",
        "outputId": "812ccedc-691c-437f-c7ca-692f72f813cb"
      },
      "execution_count": 45,
      "outputs": [
        {
          "output_type": "stream",
          "name": "stdout",
          "text": [
            "              precision    recall  f1-score   support\n",
            "\n",
            "           0      0.917     0.924     0.921      1344\n",
            "           1      0.928     0.894     0.910       517\n",
            "           2      0.826     0.844     0.835       429\n",
            "\n",
            "    accuracy                          0.902      2290\n",
            "   macro avg      0.890     0.887     0.889      2290\n",
            "weighted avg      0.903     0.902     0.902      2290\n",
            "\n"
          ]
        }
      ]
    },
    {
      "cell_type": "markdown",
      "source": [
        "### BERT"
      ],
      "metadata": {
        "id": "qZz_Q_BrzZfQ"
      }
    },
    {
      "cell_type": "code",
      "source": [
        "cf_matrix = confusion_matrix(df['label'], df['BERT_label'])"
      ],
      "metadata": {
        "id": "foDD1940yxnS"
      },
      "execution_count": 46,
      "outputs": []
    },
    {
      "cell_type": "code",
      "source": [
        "df_cm = pd.DataFrame(cf_matrix / np.sum(cf_matrix, axis=1), index = [i for i in range(3)],\n",
        "                     columns = [i for i in range(3)])"
      ],
      "metadata": {
        "id": "Q87Vq_x7yzTW"
      },
      "execution_count": 47,
      "outputs": []
    },
    {
      "cell_type": "code",
      "source": [
        "plt.figure(figsize = (3,3))\n",
        "sn.heatmap(df_cm, annot=True)\n",
        "plt.show()"
      ],
      "metadata": {
        "colab": {
          "base_uri": "https://localhost:8080/",
          "height": 211
        },
        "id": "YZq8u4qoy2Iv",
        "outputId": "fe487838-91cb-4856-c582-9a629f451bfe"
      },
      "execution_count": 48,
      "outputs": [
        {
          "output_type": "display_data",
          "data": {
            "text/plain": [
              "<Figure size 216x216 with 2 Axes>"
            ],
            "image/png": "[encoded data removed]"
          },
          "metadata": {
            "needs_background": "light"
          }
        }
      ]
    },
    {
      "cell_type": "code",
      "source": [
        "print(metrics.classification_report(df['label'], df['BERT_label'], digits=3))"
      ],
      "metadata": {
        "colab": {
          "base_uri": "https://localhost:8080/"
        },
        "id": "qFYK-FXdy3qY",
        "outputId": "14f814dc-a432-4e14-b61a-54f9566de2e7"
      },
      "execution_count": 49,
      "outputs": [
        {
          "output_type": "stream",
          "name": "stdout",
          "text": [
            "              precision    recall  f1-score   support\n",
            "\n",
            "           0      0.965     0.976     0.970      1344\n",
            "           1      0.970     0.948     0.959       517\n",
            "           2      0.946     0.937     0.941       429\n",
            "\n",
            "    accuracy                          0.962      2290\n",
            "   macro avg      0.960     0.954     0.957      2290\n",
            "weighted avg      0.962     0.962     0.962      2290\n",
            "\n"
          ]
        }
      ]
    },
    {
      "cell_type": "markdown",
      "source": [
        "### ROBERTA"
      ],
      "metadata": {
        "id": "GYS1LMinzazG"
      }
    },
    {
      "cell_type": "code",
      "source": [
        "cf_matrix = confusion_matrix(df['label'], df['ROBERTA_label'])"
      ],
      "metadata": {
        "id": "Nc4MdYAXzcnW"
      },
      "execution_count": 50,
      "outputs": []
    },
    {
      "cell_type": "code",
      "source": [
        "df_cm = pd.DataFrame(cf_matrix / np.sum(cf_matrix, axis=1), index = [i for i in range(3)],\n",
        "                     columns = [i for i in range(3)])"
      ],
      "metadata": {
        "id": "WHuCyb11zeqA"
      },
      "execution_count": 51,
      "outputs": []
    },
    {
      "cell_type": "code",
      "source": [
        "plt.figure(figsize = (3,3))\n",
        "sn.heatmap(df_cm, annot=True)\n",
        "plt.show()"
      ],
      "metadata": {
        "colab": {
          "base_uri": "https://localhost:8080/",
          "height": 211
        },
        "id": "lN6EauDRzfk6",
        "outputId": "43cf5b14-ce99-43b1-849e-8ecb2ab488a9"
      },
      "execution_count": 52,
      "outputs": [
        {
          "output_type": "display_data",
          "data": {
            "text/plain": [
              "<Figure size 216x216 with 2 Axes>"
            ],
            "image/png": "[encoded data removed]"
          },
          "metadata": {
            "needs_background": "light"
          }
        }
      ]
    },
    {
      "cell_type": "code",
      "source": [
        "print(metrics.classification_report(df['label'], df['ROBERTA_label'], digits=3))"
      ],
      "metadata": {
        "colab": {
          "base_uri": "https://localhost:8080/"
        },
        "id": "GELFLRPYzhzo",
        "outputId": "a5594e7d-b3e8-47bf-8d65-dc9f9fb3c115"
      },
      "execution_count": 53,
      "outputs": [
        {
          "output_type": "stream",
          "name": "stdout",
          "text": [
            "              precision    recall  f1-score   support\n",
            "\n",
            "           0      0.968     0.974     0.971      1344\n",
            "           1      0.969     0.965     0.967       517\n",
            "           2      0.943     0.930     0.937       429\n",
            "\n",
            "    accuracy                          0.964      2290\n",
            "   macro avg      0.960     0.956     0.958      2290\n",
            "weighted avg      0.964     0.964     0.964      2290\n",
            "\n"
          ]
        }
      ]
    },
    {
      "cell_type": "code",
      "source": [
        "df_path  = './data/capstone/CLAWS/covidhate/annotated_tweets_w_classification.csv'\n",
        "df.to_csv(df_path, index=False)"
      ],
      "metadata": {
        "id": "Ft9gnro05xv7"
      },
      "execution_count": 54,
      "outputs": []
    }
  ]
}